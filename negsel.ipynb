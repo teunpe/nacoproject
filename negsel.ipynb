{
 "cells": [
  {
   "cell_type": "code",
   "execution_count": 1,
   "metadata": {},
   "outputs": [],
   "source": [
    "from tqdm import tqdm\n",
    "import os\n",
    "import sys"
   ]
  },
  {
   "cell_type": "code",
   "execution_count": 23,
   "metadata": {},
   "outputs": [
    {
     "data": {
      "text/plain": [
       "'29,216\\n'"
      ]
     },
     "execution_count": 23,
     "metadata": {},
     "output_type": "execute_result"
    }
   ],
   "source": [
    "os.popen(f\"java -jar ./assignment/negsel2.jar -self ./data/eo.train -n 10 -r 4 -c -l < ./data/eo.test | awk '{{n+=$1}}END{{print n/NR}}'\").read()"
   ]
  },
  {
   "cell_type": "code",
   "execution_count": 24,
   "metadata": {},
   "outputs": [
    {
     "data": {
      "text/plain": [
       "'30,6729\\n'"
      ]
     },
     "execution_count": 24,
     "metadata": {},
     "output_type": "execute_result"
    }
   ],
   "source": [
    "os.popen(f\"java -jar ./assignment/negsel2.jar -self ./data/eo.train -n 10 -r 4 -c -l < ./data/en.test | awk '{{n+= $1}}END{{print n/NR}}'\").read()"
   ]
  },
  {
   "cell_type": "code",
   "execution_count": 20,
   "metadata": {},
   "outputs": [
    {
     "data": {
      "text/plain": [
       "'30,6729\\n'"
      ]
     },
     "execution_count": 20,
     "metadata": {},
     "output_type": "execute_result"
    }
   ],
   "source": [
    "result"
   ]
  },
  {
   "cell_type": "code",
   "execution_count": 21,
   "metadata": {},
   "outputs": [],
   "source": [
    "result = os.popen(f\"java -jar ./assignment/negsel2.jar -self ./data/eo.train -n 10 -r 4 -c -l < ./data/fr.test | awk '{{n+= $1}}END{{print n/NR}}'\").read()"
   ]
  },
  {
   "cell_type": "code",
   "execution_count": 22,
   "metadata": {},
   "outputs": [
    {
     "data": {
      "text/plain": [
       "'30,4135\\n'"
      ]
     },
     "execution_count": 22,
     "metadata": {},
     "output_type": "execute_result"
    }
   ],
   "source": [
    "result"
   ]
  },
  {
   "cell_type": "code",
   "execution_count": 2,
   "metadata": {},
   "outputs": [
    {
     "name": "stderr",
     "output_type": "stream",
     "text": [
      "  0%|          | 0/12 [00:00<?, ?it/s]"
     ]
    },
    {
     "name": "stderr",
     "output_type": "stream",
     "text": [
      "Warning: non-alphabet symbol 'ĝ' encountered.\n",
      "All strings containing non-alphabet symbols will be silently ignored.\n",
      "Warning: non-alphabet symbol 'ĝ' encountered.\n",
      "All strings containing non-alphabet symbols will be silently ignored.\n",
      "Warning: non-alphabet symbol 'ŝ' encountered.\n",
      "All strings containing non-alphabet symbols will be silently ignored.\n",
      "  8%|▊         | 1/12 [07:43<1:24:56, 463.29s/it]Warning: non-alphabet symbol 'ĝ' encountered.\n",
      "All strings containing non-alphabet symbols will be silently ignored.\n",
      "Warning: non-alphabet symbol 'ĝ' encountered.\n",
      "All strings containing non-alphabet symbols will be silently ignored.\n",
      "Warning: non-alphabet symbol 'ŝ' encountered.\n",
      "All strings containing non-alphabet symbols will be silently ignored.\n",
      "  8%|▊         | 1/12 [10:14<1:52:41, 614.72s/it]\n"
     ]
    },
    {
     "ename": "KeyboardInterrupt",
     "evalue": "",
     "output_type": "error",
     "traceback": [
      "\u001b[0;31m---------------------------------------------------------------------------\u001b[0m",
      "\u001b[0;31mKeyboardInterrupt\u001b[0m                         Traceback (most recent call last)",
      "Cell \u001b[0;32mIn[2], line 4\u001b[0m\n\u001b[1;32m      2\u001b[0m \u001b[39mfor\u001b[39;00m lan \u001b[39min\u001b[39;00m tqdm(languages):\n\u001b[1;32m      3\u001b[0m         \u001b[39mfor\u001b[39;00m repeat \u001b[39min\u001b[39;00m \u001b[39mrange\u001b[39m(\u001b[39m3\u001b[39m):\n\u001b[0;32m----> 4\u001b[0m             result \u001b[39m=\u001b[39m os\u001b[39m.\u001b[39;49mpopen(\u001b[39mf\u001b[39;49m\u001b[39m\"\u001b[39;49m\u001b[39mjava -jar ./assignment/negsel2.jar -alphabet file:///home/teun/nacoproject/alphabets/alphabet_\u001b[39;49m\u001b[39m{\u001b[39;49;00mlan\u001b[39m}\u001b[39;49;00m\u001b[39m.txt -self ./data/eo_\u001b[39;49m\u001b[39m{\u001b[39;49;00mrepeat\u001b[39m}\u001b[39;49;00m\u001b[39m.train -n 10 -r 4 -c -l < ./data/\u001b[39;49m\u001b[39m{\u001b[39;49;00mlan\u001b[39m}\u001b[39;49;00m\u001b[39m_\u001b[39;49m\u001b[39m{\u001b[39;49;00mrepeat\u001b[39m}\u001b[39;49;00m\u001b[39m.test\u001b[39;49m\u001b[39m\"\u001b[39;49m)\u001b[39m.\u001b[39;49mread()\n\u001b[1;32m      5\u001b[0m             \u001b[39mwith\u001b[39;00m \u001b[39mopen\u001b[39m(\u001b[39mf\u001b[39m\u001b[39m'\u001b[39m\u001b[39m./results/\u001b[39m\u001b[39m{\u001b[39;00mlan\u001b[39m}\u001b[39;00m\u001b[39m_\u001b[39m\u001b[39m{\u001b[39;00mrepeat\u001b[39m}\u001b[39;00m\u001b[39m.txt\u001b[39m\u001b[39m'\u001b[39m, \u001b[39m'\u001b[39m\u001b[39mw\u001b[39m\u001b[39m'\u001b[39m) \u001b[39mas\u001b[39;00m f:\n\u001b[1;32m      6\u001b[0m                   f\u001b[39m.\u001b[39mwrite(result)\n",
      "\u001b[0;31mKeyboardInterrupt\u001b[0m: "
     ]
    }
   ],
   "source": [
    "languages = ['ar', 'de', 'el', 'en', 'eo', 'fr', 'hi', 'la', 'pl', 'ru', 'sw', 'zh']\n",
    "for lan in tqdm(languages):\n",
    "        for repeat in range(3):\n",
    "            result = os.popen(f\"java -jar ./assignment/negsel2.jar -alphabet file:///home/teun/nacoproject/alphabets/alphabet_{lan}.txt -self ./data/eo_{repeat}.train -n 10 -r 4 -c -l < ./data/{lan}_{repeat}.test\").read()\n",
    "            with open(f'./results/{lan}_{repeat}.txt', 'w') as f:\n",
    "                  f.write(result)"
   ]
  },
  {
   "cell_type": "code",
   "execution_count": null,
   "metadata": {},
   "outputs": [],
   "source": []
  }
 ],
 "metadata": {
  "kernelspec": {
   "display_name": "Python 3",
   "language": "python",
   "name": "python3"
  },
  "language_info": {
   "codemirror_mode": {
    "name": "ipython",
    "version": 3
   },
   "file_extension": ".py",
   "mimetype": "text/x-python",
   "name": "python",
   "nbconvert_exporter": "python",
   "pygments_lexer": "ipython3",
   "version": "3.10.11"
  },
  "orig_nbformat": 4
 },
 "nbformat": 4,
 "nbformat_minor": 2
}
