{
 "cells": [
  {
   "cell_type": "code",
   "execution_count": 1,
   "metadata": {},
   "outputs": [],
   "source": [
    "from tqdm import tqdm\n",
    "import os\n",
    "import sys"
   ]
  },
  {
   "cell_type": "code",
   "execution_count": 23,
   "metadata": {},
   "outputs": [
    {
     "data": {
      "text/plain": [
       "'29,216\\n'"
      ]
     },
     "execution_count": 23,
     "metadata": {},
     "output_type": "execute_result"
    }
   ],
   "source": [
    "os.popen(f\"java -jar ./assignment/negsel2.jar -self ./data/eo.train -n 10 -r 4 -c -l < ./data/eo.test | awk '{{n+=$1}}END{{print n/NR}}'\").read()"
   ]
  },
  {
   "cell_type": "code",
   "execution_count": 24,
   "metadata": {},
   "outputs": [
    {
     "data": {
      "text/plain": [
       "'30,6729\\n'"
      ]
     },
     "execution_count": 24,
     "metadata": {},
     "output_type": "execute_result"
    }
   ],
   "source": [
    "os.popen(f\"java -jar ./assignment/negsel2.jar -self ./data/eo.train -n 10 -r 4 -c -l < ./data/en.test | awk '{{n+= $1}}END{{print n/NR}}'\").read()"
   ]
  },
  {
   "cell_type": "code",
   "execution_count": 20,
   "metadata": {},
   "outputs": [
    {
     "data": {
      "text/plain": [
       "'30,6729\\n'"
      ]
     },
     "execution_count": 20,
     "metadata": {},
     "output_type": "execute_result"
    }
   ],
   "source": [
    "result"
   ]
  },
  {
   "cell_type": "code",
   "execution_count": 21,
   "metadata": {},
   "outputs": [],
   "source": [
    "result = os.popen(f\"java -jar ./assignment/negsel2.jar -self ./data/eo.train -n 10 -r 4 -c -l < ./data/fr.test | awk '{{n+= $1}}END{{print n/NR}}'\").read()"
   ]
  },
  {
   "cell_type": "code",
   "execution_count": 22,
   "metadata": {},
   "outputs": [
    {
     "data": {
      "text/plain": [
       "'30,4135\\n'"
      ]
     },
     "execution_count": 22,
     "metadata": {},
     "output_type": "execute_result"
    }
   ],
   "source": [
    "result"
   ]
  },
  {
   "cell_type": "code",
   "execution_count": 3,
   "metadata": {},
   "outputs": [
    {
     "name": "stderr",
     "output_type": "stream",
     "text": [
      "  0%|          | 0/12 [00:00<?, ?it/s]Warning: non-alphabet symbol 'n' encountered.\n",
      "All strings containing non-alphabet symbols will be silently ignored.\n",
      "  8%|▊         | 1/12 [00:00<00:02,  3.73it/s]Warning: non-alphabet symbol 'n' encountered.\n",
      "All strings containing non-alphabet symbols will be silently ignored.\n",
      " 17%|█▋        | 2/12 [00:00<00:02,  4.08it/s]Warning: non-alphabet symbol 'n' encountered.\n",
      "All strings containing non-alphabet symbols will be silently ignored.\n",
      " 25%|██▌       | 3/12 [00:00<00:02,  4.04it/s]Warning: non-alphabet symbol 'n' encountered.\n",
      "All strings containing non-alphabet symbols will be silently ignored.\n",
      " 33%|███▎      | 4/12 [00:00<00:01,  4.41it/s]Warning: non-alphabet symbol 'n' encountered.\n",
      "All strings containing non-alphabet symbols will be silently ignored.\n",
      " 42%|████▏     | 5/12 [00:01<00:01,  4.40it/s]Warning: non-alphabet symbol 'n' encountered.\n",
      "All strings containing non-alphabet symbols will be silently ignored.\n",
      " 50%|█████     | 6/12 [00:01<00:01,  4.59it/s]Warning: non-alphabet symbol 'n' encountered.\n",
      "All strings containing non-alphabet symbols will be silently ignored.\n",
      " 58%|█████▊    | 7/12 [00:01<00:01,  4.25it/s]Warning: non-alphabet symbol 'n' encountered.\n",
      "All strings containing non-alphabet symbols will be silently ignored.\n",
      " 67%|██████▋   | 8/12 [00:01<00:00,  4.65it/s]Warning: non-alphabet symbol 'n' encountered.\n",
      "All strings containing non-alphabet symbols will be silently ignored.\n",
      " 75%|███████▌  | 9/12 [00:02<00:00,  4.55it/s]Warning: non-alphabet symbol 'n' encountered.\n",
      "All strings containing non-alphabet symbols will be silently ignored.\n",
      " 83%|████████▎ | 10/12 [00:02<00:00,  4.58it/s]Warning: non-alphabet symbol 'n' encountered.\n",
      "All strings containing non-alphabet symbols will be silently ignored.\n",
      " 92%|█████████▏| 11/12 [00:02<00:00,  4.83it/s]Warning: non-alphabet symbol 'n' encountered.\n",
      "All strings containing non-alphabet symbols will be silently ignored.\n",
      "100%|██████████| 12/12 [00:02<00:00,  4.22it/s]\n"
     ]
    }
   ],
   "source": [
    "languages = ['ar', 'de', 'el', 'en', 'eo', 'fr', 'hi', 'la', 'pl', 'ru', 'sw', 'zh']\n",
    "for lan in tqdm(languages):\n",
    "        result = os.popen(f\"java -jar ./assignment/negsel2.jar -alphabet ./utf8_sequence_0-0x10ffff_assigned_including-unprintable-asis.txt -self ./data/eo.train -n 10 -r 4 -c -l < ./data/{lan}.test\").read()\n",
    "        with open(f'./results/{lan}4.txt', 'w') as f:\n",
    "            f.write(result)"
   ]
  },
  {
   "cell_type": "code",
   "execution_count": null,
   "metadata": {},
   "outputs": [],
   "source": []
  }
 ],
 "metadata": {
  "kernelspec": {
   "display_name": "Python 3",
   "language": "python",
   "name": "python3"
  },
  "language_info": {
   "codemirror_mode": {
    "name": "ipython",
    "version": 3
   },
   "file_extension": ".py",
   "mimetype": "text/x-python",
   "name": "python",
   "nbconvert_exporter": "python",
   "pygments_lexer": "ipython3",
   "version": "3.10.11"
  },
  "orig_nbformat": 4
 },
 "nbformat": 4,
 "nbformat_minor": 2
}
