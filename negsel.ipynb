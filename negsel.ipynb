{
 "cells": [
  {
   "cell_type": "markdown",
   "metadata": {},
   "source": [
    "## Negative Selection"
   ]
  },
  {
   "cell_type": "code",
   "execution_count": 1,
   "metadata": {},
   "outputs": [],
   "source": [
    "from tqdm import tqdm\n",
    "import os\n",
    "import sys"
   ]
  },
  {
   "cell_type": "code",
   "execution_count": 2,
   "metadata": {},
   "outputs": [],
   "source": [
    "chunks = [3, 4, 5]"
   ]
  },
  {
   "cell_type": "markdown",
   "metadata": {},
   "source": [
    "### Orthographic Analysis"
   ]
  },
  {
   "cell_type": "markdown",
   "metadata": {},
   "source": [
    "#### Literal texts with global alphabet"
   ]
  },
  {
   "cell_type": "code",
   "execution_count": 5,
   "metadata": {},
   "outputs": [],
   "source": [
    "languages = ['ar', 'de', 'el', 'en', 'eo', 'fr', 'hi', 'la', 'pl', 'ru', 'sw'] #no chinese"
   ]
  },
  {
   "cell_type": "code",
   "execution_count": 6,
   "metadata": {},
   "outputs": [
    {
     "name": "stderr",
     "output_type": "stream",
     "text": [
      " 82%|████████▏ | 9/11 [23:23<05:11, 155.90s/it]\n"
     ]
    },
    {
     "ename": "KeyboardInterrupt",
     "evalue": "",
     "output_type": "error",
     "traceback": [
      "\u001b[0;31m---------------------------------------------------------------------------\u001b[0m",
      "\u001b[0;31mKeyboardInterrupt\u001b[0m                         Traceback (most recent call last)",
      "Cell \u001b[0;32mIn[6], line 4\u001b[0m\n\u001b[1;32m      2\u001b[0m \u001b[39mfor\u001b[39;00m repeat \u001b[39min\u001b[39;00m \u001b[39mrange\u001b[39m(\u001b[39m3\u001b[39m):\n\u001b[1;32m      3\u001b[0m     \u001b[39mfor\u001b[39;00m r \u001b[39min\u001b[39;00m chunks:\n\u001b[0;32m----> 4\u001b[0m         result \u001b[39m=\u001b[39m os\u001b[39m.\u001b[39mpopen(\u001b[39mf\u001b[39m\u001b[39m\"\u001b[39m\u001b[39mjava -jar ./assignment/negsel2.jar -alphabet file://alphabets/alphabet.txt -self ./data/eo_\u001b[39m\u001b[39m{\u001b[39;00mrepeat\u001b[39m}\u001b[39;00m\u001b[39m.train -n 10 -r \u001b[39m\u001b[39m{\u001b[39;00mr\u001b[39m}\u001b[39;00m\u001b[39m -c -l < ./data/\u001b[39m\u001b[39m{\u001b[39;00mlan\u001b[39m}\u001b[39;00m\u001b[39m_\u001b[39m\u001b[39m{\u001b[39;00mrepeat\u001b[39m}\u001b[39;00m\u001b[39m.test\u001b[39m\u001b[39m\"\u001b[39m)\u001b[39m.\u001b[39mread()\n\u001b[1;32m      5\u001b[0m         \u001b[39mwith\u001b[39;00m \u001b[39mopen\u001b[39m(\u001b[39mf\u001b[39m\u001b[39m'\u001b[39m\u001b[39m./results/\u001b[39m\u001b[39m{\u001b[39;00mlan\u001b[39m}\u001b[39;00m\u001b[39m_\u001b[39m\u001b[39m{\u001b[39;00mr\u001b[39m}\u001b[39;00m\u001b[39m_\u001b[39m\u001b[39m{\u001b[39;00mrepeat\u001b[39m}\u001b[39;00m\u001b[39m.txt\u001b[39m\u001b[39m'\u001b[39m, \u001b[39m'\u001b[39m\u001b[39mw\u001b[39m\u001b[39m'\u001b[39m) \u001b[39mas\u001b[39;00m f:\n\u001b[1;32m      6\u001b[0m               f\u001b[39m.\u001b[39mwrite(result)\n",
      "\u001b[0;31mKeyboardInterrupt\u001b[0m: "
     ]
    }
   ],
   "source": [
    "for lan in tqdm(languages):\n",
    "        for repeat in range(3):\n",
    "            for r in chunks:\n",
    "                result = os.popen(f\"java -jar ./assignment/negsel2.jar -alphabet file://alphabets/alphabet.txt -self ./data/eo_{repeat}.train -n 10 -r {r} -c -l < ./data/{lan}_{repeat}.test\").read()\n",
    "                with open(f'./results/{lan}_{r}_{repeat}.txt', 'w') as f:\n",
    "                      f.write(result)"
   ]
  },
  {
   "cell_type": "code",
   "execution_count": 11,
   "metadata": {},
   "outputs": [
    {
     "name": "stderr",
     "output_type": "stream",
     "text": [
      "100%|██████████| 2/2 [52:17<00:00, 1568.83s/it]\n"
     ]
    }
   ],
   "source": [
    "#Because of interrupt\n",
    "for lan in tqdm(languages[-2:]):\n",
    "        for repeat in range(3):\n",
    "            for r in chunks:\n",
    "                result = os.popen(f\"java -jar ./assignment/negsel2.jar -alphabet file://alphabets/alphabet.txt -self ./data/eo_{repeat}.train -n 10 -r {r} -c -l < ./data/{lan}_{repeat}.test\").read()\n",
    "                with open(f'./results/{lan}_{r}_{repeat}.txt', 'w') as f:\n",
    "                      f.write(result)"
   ]
  },
  {
   "cell_type": "markdown",
   "metadata": {},
   "source": [
    "#### Literal texts with language specific alphabet"
   ]
  },
  {
   "cell_type": "code",
   "execution_count": 12,
   "metadata": {},
   "outputs": [],
   "source": [
    "languages = ['ar', 'de', 'el', 'en', 'eo', 'fr', 'hi', 'la', 'pl', 'ru', 'sw', 'zh']"
   ]
  },
  {
   "cell_type": "code",
   "execution_count": 13,
   "metadata": {},
   "outputs": [
    {
     "name": "stderr",
     "output_type": "stream",
     "text": [
      " 92%|█████████▏| 11/12 [2:11:49<14:58, 898.74s/it]Exception in thread \"main\" java.lang.OutOfMemoryError: Java heap space\n",
      "\tat algorithms.PatternTrie.<init>(PatternTrie.java:33)\n",
      "\tat algorithms.PatternTrie.leafify(PatternTrie.java:397)\n",
      "\tat algorithms.PatternTrie.leafify(PatternTrie.java:401)\n",
      "\tat algorithms.PatternTrie.leafify(PatternTrie.java:401)\n",
      "\tat algorithms.PatternTrie.leafify(PatternTrie.java:401)\n",
      "\tat algorithms.PatternTrie.leafify(PatternTrie.java:391)\n",
      "\tat algorithms.ContiguousCountingDAG.<init>(ContiguousCountingDAG.java:30)\n",
      "\tat Main.main(Main.java:131)\n",
      "Exception in thread \"main\" java.lang.OutOfMemoryError: Java heap space\n",
      "\tat algorithms.PatternTrie.<init>(PatternTrie.java:33)\n",
      "\tat algorithms.PatternTrie.leafify(PatternTrie.java:397)\n",
      "\tat algorithms.PatternTrie.leafify(PatternTrie.java:401)\n",
      "\tat algorithms.PatternTrie.leafify(PatternTrie.java:401)\n",
      "\tat algorithms.PatternTrie.leafify(PatternTrie.java:401)\n",
      "\tat algorithms.PatternTrie.leafify(PatternTrie.java:401)\n",
      "\tat algorithms.PatternTrie.leafify(PatternTrie.java:391)\n",
      "\tat algorithms.ContiguousCountingDAG.<init>(ContiguousCountingDAG.java:30)\n",
      "\tat Main.main(Main.java:131)\n",
      "Exception in thread \"main\" java.lang.OutOfMemoryError: Java heap space\n",
      "\tat algorithms.PatternTrie.<init>(PatternTrie.java:33)\n",
      "\tat algorithms.PatternTrie.leafify(PatternTrie.java:397)\n",
      "\tat algorithms.PatternTrie.leafify(PatternTrie.java:401)\n",
      "\tat algorithms.PatternTrie.leafify(PatternTrie.java:401)\n",
      "\tat algorithms.PatternTrie.leafify(PatternTrie.java:401)\n",
      "\tat algorithms.PatternTrie.leafify(PatternTrie.java:391)\n",
      "\tat algorithms.ContiguousCountingDAG.<init>(ContiguousCountingDAG.java:30)\n",
      "\tat Main.main(Main.java:131)\n",
      "Exception in thread \"main\" java.lang.OutOfMemoryError: Java heap space\n",
      "\tat algorithms.PatternTrie.<init>(PatternTrie.java:33)\n",
      "\tat algorithms.PatternTrie.leafify(PatternTrie.java:397)\n",
      "\tat algorithms.PatternTrie.leafify(PatternTrie.java:401)\n",
      "\tat algorithms.PatternTrie.leafify(PatternTrie.java:401)\n",
      "\tat algorithms.PatternTrie.leafify(PatternTrie.java:401)\n",
      "\tat algorithms.PatternTrie.leafify(PatternTrie.java:401)\n",
      "\tat algorithms.PatternTrie.leafify(PatternTrie.java:391)\n",
      "\tat algorithms.ContiguousCountingDAG.<init>(ContiguousCountingDAG.java:30)\n",
      "\tat Main.main(Main.java:131)\n",
      "Exception in thread \"main\" java.lang.OutOfMemoryError: Java heap space\n",
      "\tat algorithms.PatternTrie.<init>(PatternTrie.java:33)\n",
      "\tat algorithms.PatternTrie.leafify(PatternTrie.java:397)\n",
      "\tat algorithms.PatternTrie.leafify(PatternTrie.java:401)\n",
      "\tat algorithms.PatternTrie.leafify(PatternTrie.java:401)\n",
      "\tat algorithms.PatternTrie.leafify(PatternTrie.java:391)\n",
      "\tat algorithms.ContiguousCountingDAG.<init>(ContiguousCountingDAG.java:30)\n",
      "\tat Main.main(Main.java:131)\n",
      "Exception in thread \"main\" java.lang.OutOfMemoryError: Java heap space\n",
      "\tat algorithms.PatternTrie.<init>(PatternTrie.java:33)\n",
      "\tat algorithms.PatternTrie.leafify(PatternTrie.java:397)\n",
      "\tat algorithms.PatternTrie.leafify(PatternTrie.java:401)\n",
      "\tat algorithms.PatternTrie.leafify(PatternTrie.java:401)\n",
      "\tat algorithms.PatternTrie.leafify(PatternTrie.java:401)\n",
      "\tat algorithms.PatternTrie.leafify(PatternTrie.java:401)\n",
      "\tat algorithms.PatternTrie.leafify(PatternTrie.java:391)\n",
      "\tat algorithms.ContiguousCountingDAG.<init>(ContiguousCountingDAG.java:30)\n",
      "\tat Main.main(Main.java:131)\n",
      "100%|██████████| 12/12 [2:44:04<00:00, 820.35s/it] \n"
     ]
    }
   ],
   "source": [
    "for lan in tqdm(languages):\n",
    "        try: \n",
    "            for repeat in range(3):\n",
    "                for r in chunks:            \n",
    "                    result = os.popen(f\"java -jar ./assignment/negsel2.jar -alphabet file://alphabets/alphabet_{lan}.txt -self ./data/eo_{repeat}.train -n 10 -r {r} -c -l < ./data/{lan}_{repeat}.test\").read()\n",
    "                    with open(f'./results/{lan}_{r}_spec_{repeat}.txt', 'w') as f:\n",
    "                        f.write(result)\n",
    "        except Exception as e:\n",
    "            print(f'Error in {lan}')\n",
    "            print(e)\n",
    "            continue"
   ]
  },
  {
   "cell_type": "code",
   "execution_count": null,
   "metadata": {},
   "outputs": [],
   "source": [
    "#Fix out of Mem for chinese\n",
    "for lan in tqdm(['zh']):\n",
    "        try: \n",
    "            for repeat in range(3):\n",
    "                for r in chunks:            \n",
    "                    result = os.popen(f\"java -Xmx4096m -jar ./assignment/negsel2.jar -alphabet file://alphabets/alphabet_{lan}.txt -self ./data/eo_{repeat}.train -n 10 -r {r} -c -l < ./data/{lan}_{repeat}.test\").read()\n",
    "                    with open(f'./results/{lan}_{r}_spec_{repeat}.txt', 'w') as f:\n",
    "                        f.write(result)\n",
    "        except Exception as e:\n",
    "            print(f'Error in {lan}')\n",
    "            print(e)\n",
    "            continue"
   ]
  },
  {
   "attachments": {},
   "cell_type": "markdown",
   "metadata": {},
   "source": [
    "#### Literal texts with test file as alphabet"
   ]
  },
  {
   "cell_type": "code",
   "execution_count": 14,
   "metadata": {},
   "outputs": [
    {
     "name": "stderr",
     "output_type": "stream",
     "text": [
      "100%|██████████| 12/12 [2:00:01<00:00, 600.10s/it] \n"
     ]
    }
   ],
   "source": [
    "for lan in tqdm(languages):\n",
    "        try: \n",
    "            for repeat in range(3):\n",
    "                for r in chunks:         \n",
    "                    result = os.popen(f\"java -jar ./assignment/negsel2.jar -self ./data/eo_{repeat}.train -n 10 -r {r} -c -l < ./data/{lan}_{repeat}.test\").read()\n",
    "                    with open(f'./results/{lan}_{r}_test_{repeat}.txt', 'w') as f:\n",
    "                        f.write(result)\n",
    "        except Exception as e:\n",
    "            print(f'Error in {lan}')\n",
    "            print(e)\n",
    "            continue"
   ]
  },
  {
   "cell_type": "markdown",
   "metadata": {},
   "source": [
    "#### Transliterated texts with global alphabet"
   ]
  },
  {
   "cell_type": "code",
   "execution_count": 15,
   "metadata": {},
   "outputs": [],
   "source": [
    "tlanguages = ['ar', 'el', 'hi', 'ru'] #no chinese"
   ]
  },
  {
   "cell_type": "code",
   "execution_count": null,
   "metadata": {},
   "outputs": [
    {
     "name": "stderr",
     "output_type": "stream",
     "text": [
      "100%|██████████| 4/4 [1:22:58<00:00, 1244.70s/it]\n"
     ]
    }
   ],
   "source": [
    "for lan in tqdm(tlanguages):\n",
    "        for repeat in range(3):\n",
    "            for r in chunks:\n",
    "                result = os.popen(f\"java -jar ./assignment/negsel2.jar -alphabet file://alphabets/talphabet.txt -self ./data/eo_{repeat}.train -n 10 -r {r} -c -l < ./data/{lan}_transl_{repeat}.test\").read()\n",
    "                with open(f'./results/{lan}_{r}_transl_{repeat}.txt', 'w') as f:\n",
    "                      f.write(result)"
   ]
  },
  {
   "cell_type": "markdown",
   "metadata": {},
   "source": [
    "#### Transliterated texts with language specific alphabet"
   ]
  },
  {
   "cell_type": "code",
   "execution_count": 17,
   "metadata": {},
   "outputs": [],
   "source": [
    "tlanguages = ['ar', 'el', 'hi', 'ru', 'zh']"
   ]
  },
  {
   "cell_type": "code",
   "execution_count": 18,
   "metadata": {},
   "outputs": [
    {
     "name": "stderr",
     "output_type": "stream",
     "text": [
      " 80%|████████  | 4/5 [18:44<03:53, 233.21s/it]Exception in thread \"main\" java.lang.ExceptionInInitializerError\n",
      "\tat algorithms.RChunkPatterns.substringTries(RChunkPatterns.java:37)\n",
      "\tat algorithms.RChunkPatterns.rChunkPatterns(RChunkPatterns.java:90)\n",
      "\tat Main.main(Main.java:125)\n",
      "Caused by: java.lang.NullPointerException\n",
      "\tat algorithms.PatternTrie.<init>(PatternTrie.java:33)\n",
      "\tat algorithms.PatternTrie.<clinit>(PatternTrie.java:470)\n",
      "\t... 3 more\n",
      "Exception in thread \"main\" java.lang.ExceptionInInitializerError\n",
      "\tat algorithms.RChunkPatterns.substringTries(RChunkPatterns.java:37)\n",
      "\tat algorithms.RChunkPatterns.rChunkPatterns(RChunkPatterns.java:90)\n",
      "\tat Main.main(Main.java:125)\n",
      "Caused by: java.lang.NullPointerException\n",
      "\tat algorithms.PatternTrie.<init>(PatternTrie.java:33)\n",
      "\tat algorithms.PatternTrie.<clinit>(PatternTrie.java:470)\n",
      "\t... 3 more\n",
      "Exception in thread \"main\" java.lang.ExceptionInInitializerError\n",
      "\tat algorithms.RChunkPatterns.substringTries(RChunkPatterns.java:37)\n",
      "\tat algorithms.RChunkPatterns.rChunkPatterns(RChunkPatterns.java:90)\n",
      "\tat Main.main(Main.java:125)\n",
      "Caused by: java.lang.NullPointerException\n",
      "\tat algorithms.PatternTrie.<init>(PatternTrie.java:33)\n",
      "\tat algorithms.PatternTrie.<clinit>(PatternTrie.java:470)\n",
      "\t... 3 more\n",
      "Exception in thread \"main\" java.lang.ExceptionInInitializerError\n",
      "\tat algorithms.RChunkPatterns.substringTries(RChunkPatterns.java:37)\n",
      "\tat algorithms.RChunkPatterns.rChunkPatterns(RChunkPatterns.java:90)\n",
      "\tat Main.main(Main.java:125)\n",
      "Caused by: java.lang.NullPointerException\n",
      "\tat algorithms.PatternTrie.<init>(PatternTrie.java:33)\n",
      "\tat algorithms.PatternTrie.<clinit>(PatternTrie.java:470)\n",
      "\t... 3 more\n",
      "Exception in thread \"main\" java.lang.ExceptionInInitializerError\n",
      "\tat algorithms.RChunkPatterns.substringTries(RChunkPatterns.java:37)\n",
      "\tat algorithms.RChunkPatterns.rChunkPatterns(RChunkPatterns.java:90)\n",
      "\tat Main.main(Main.java:125)\n",
      "Caused by: java.lang.NullPointerException\n",
      "\tat algorithms.PatternTrie.<init>(PatternTrie.java:33)\n",
      "\tat algorithms.PatternTrie.<clinit>(PatternTrie.java:470)\n",
      "\t... 3 more\n",
      "Exception in thread \"main\" java.lang.ExceptionInInitializerError\n",
      "\tat algorithms.RChunkPatterns.substringTries(RChunkPatterns.java:37)\n",
      "\tat algorithms.RChunkPatterns.rChunkPatterns(RChunkPatterns.java:90)\n",
      "\tat Main.main(Main.java:125)\n",
      "Caused by: java.lang.NullPointerException\n",
      "\tat algorithms.PatternTrie.<init>(PatternTrie.java:33)\n",
      "\tat algorithms.PatternTrie.<clinit>(PatternTrie.java:470)\n",
      "\t... 3 more\n",
      "Exception in thread \"main\" java.lang.ExceptionInInitializerError\n",
      "\tat algorithms.RChunkPatterns.substringTries(RChunkPatterns.java:37)\n",
      "\tat algorithms.RChunkPatterns.rChunkPatterns(RChunkPatterns.java:90)\n",
      "\tat Main.main(Main.java:125)\n",
      "Caused by: java.lang.NullPointerException\n",
      "\tat algorithms.PatternTrie.<init>(PatternTrie.java:33)\n",
      "\tat algorithms.PatternTrie.<clinit>(PatternTrie.java:470)\n",
      "\t... 3 more\n",
      "Exception in thread \"main\" java.lang.ExceptionInInitializerError\n",
      "\tat algorithms.RChunkPatterns.substringTries(RChunkPatterns.java:37)\n",
      "\tat algorithms.RChunkPatterns.rChunkPatterns(RChunkPatterns.java:90)\n",
      "\tat Main.main(Main.java:125)\n",
      "Caused by: java.lang.NullPointerException\n",
      "\tat algorithms.PatternTrie.<init>(PatternTrie.java:33)\n",
      "\tat algorithms.PatternTrie.<clinit>(PatternTrie.java:470)\n",
      "\t... 3 more\n",
      "Exception in thread \"main\" java.lang.ExceptionInInitializerError\n",
      "\tat algorithms.RChunkPatterns.substringTries(RChunkPatterns.java:37)\n",
      "\tat algorithms.RChunkPatterns.rChunkPatterns(RChunkPatterns.java:90)\n",
      "\tat Main.main(Main.java:125)\n",
      "Caused by: java.lang.NullPointerException\n",
      "\tat algorithms.PatternTrie.<init>(PatternTrie.java:33)\n",
      "\tat algorithms.PatternTrie.<clinit>(PatternTrie.java:470)\n",
      "\t... 3 more\n",
      "100%|██████████| 5/5 [18:46<00:00, 225.21s/it]\n"
     ]
    }
   ],
   "source": [
    "for lan in tqdm(tlanguages):\n",
    "        try:\n",
    "            for repeat in range(3):\n",
    "                for r in chunks:         \n",
    "                    result = os.popen(f\"java -jar ./assignment/negsel2.jar -alphabet file://alphabets/alphabet_{lan}_transl.txt -self ./data/eo_{repeat}.train -n 10 -r {r} -c -l < ./data/{lan}_transl_{repeat}.test\").read()\n",
    "                    with open(f'./results/{lan}_{r}_transl_spec_{repeat}.txt', 'w') as f:\n",
    "                        f.write(result)\n",
    "        except Exception as e:\n",
    "            print(f'Error in {lan}')\n",
    "            print(e)\n",
    "            continue"
   ]
  },
  {
   "attachments": {},
   "cell_type": "markdown",
   "metadata": {},
   "source": [
    "#### Transliterated text with test file as alphabet"
   ]
  },
  {
   "cell_type": "code",
   "execution_count": 19,
   "metadata": {},
   "outputs": [
    {
     "name": "stderr",
     "output_type": "stream",
     "text": [
      "100%|██████████| 5/5 [02:27<00:00, 29.58s/it]\n"
     ]
    }
   ],
   "source": [
    "for lan in tqdm(tlanguages):\n",
    "        try:\n",
    "            for repeat in range(3):\n",
    "                for r in chunks:         \n",
    "                    result = os.popen(f\"java -jar ./assignment/negsel2.jar -self ./data/eo_{repeat}.train -n 10 -r {r} -c -l < ./data/{lan}_transl_{repeat}.test\").read()\n",
    "                    with open(f'./results/{lan}_{r}_transl_test_{repeat}.txt', 'w') as f:\n",
    "                        f.write(result)\n",
    "        except Exception as e:\n",
    "            print(f'Error in {lan}')\n",
    "            print(e)\n",
    "            continue"
   ]
  },
  {
   "attachments": {},
   "cell_type": "markdown",
   "metadata": {},
   "source": [
    "#### Phonetics text with test file as alphabet"
   ]
  },
  {
   "cell_type": "code",
   "execution_count": 20,
   "metadata": {},
   "outputs": [],
   "source": [
    "planguages = ['ar', 'de', 'en', 'eo', 'fr', 'hi', 'pl', 'ru', 'sw', 'zh']\n",
    "# only variant 0, no ligatures"
   ]
  },
  {
   "cell_type": "code",
   "execution_count": 10,
   "metadata": {},
   "outputs": [
    {
     "name": "stderr",
     "output_type": "stream",
     "text": [
      "100%|██████████| 10/10 [03:07<00:00, 18.73s/it]\n"
     ]
    }
   ],
   "source": [
    "#TODO: Need to rerun for repeat == 2 as the train file is corrupted\n",
    "for lan in tqdm(planguages):\n",
    "        try:\n",
    "            for repeat in range(3):\n",
    "                for r in chunks:         \n",
    "                    result = os.popen(f\"java -jar ./assignment/negsel2.jar -self ./data/eo_{repeat}_ipa_0.train -n 10 -r {r} -c -l < ./data/{lan}_{repeat}_ipa_0.test\").read()\n",
    "                    with open(f'./results/{lan}_{r}_ipa_test_{repeat}.txt', 'w') as f:\n",
    "                        f.write(result)\n",
    "        except Exception as e:\n",
    "            print(f'Error in {lan}')\n",
    "            print(e)\n",
    "            continue"
   ]
  },
  {
   "attachments": {},
   "cell_type": "markdown",
   "metadata": {},
   "source": [
    "#### Phonetics text with specific alphabet"
   ]
  },
  {
   "cell_type": "code",
   "execution_count": 21,
   "metadata": {},
   "outputs": [
    {
     "name": "stderr",
     "output_type": "stream",
     "text": [
      "  0%|          | 0/10 [21:59<?, ?it/s]\n"
     ]
    },
    {
     "ename": "KeyboardInterrupt",
     "evalue": "",
     "output_type": "error",
     "traceback": [
      "\u001b[0;31m---------------------------------------------------------------------------\u001b[0m",
      "\u001b[0;31mKeyboardInterrupt\u001b[0m                         Traceback (most recent call last)",
      "Cell \u001b[0;32mIn[21], line 5\u001b[0m\n\u001b[1;32m      3\u001b[0m \u001b[39mfor\u001b[39;00m repeat \u001b[39min\u001b[39;00m \u001b[39mrange\u001b[39m(\u001b[39m3\u001b[39m):\n\u001b[1;32m      4\u001b[0m     \u001b[39mfor\u001b[39;00m r \u001b[39min\u001b[39;00m chunks:         \n\u001b[0;32m----> 5\u001b[0m         result \u001b[39m=\u001b[39m os\u001b[39m.\u001b[39mpopen(\u001b[39mf\u001b[39m\u001b[39m\"\u001b[39m\u001b[39mjava -jar ./assignment/negsel2.jar -alphabet file://alphabets/alphabet_\u001b[39m\u001b[39m{\u001b[39;00mlan\u001b[39m}\u001b[39;00m\u001b[39m_ipa.txt -self ./data/eo_\u001b[39m\u001b[39m{\u001b[39;00mrepeat\u001b[39m}\u001b[39;00m\u001b[39m_ipa_0.train -n 10 -r \u001b[39m\u001b[39m{\u001b[39;00mr\u001b[39m}\u001b[39;00m\u001b[39m -c -l < ./data/\u001b[39m\u001b[39m{\u001b[39;00mlan\u001b[39m}\u001b[39;00m\u001b[39m_\u001b[39m\u001b[39m{\u001b[39;00mrepeat\u001b[39m}\u001b[39;00m\u001b[39m_ipa_0.test\u001b[39m\u001b[39m\"\u001b[39m)\u001b[39m.\u001b[39mread()\n\u001b[1;32m      6\u001b[0m         \u001b[39mwith\u001b[39;00m \u001b[39mopen\u001b[39m(\u001b[39mf\u001b[39m\u001b[39m'\u001b[39m\u001b[39m./results/\u001b[39m\u001b[39m{\u001b[39;00mlan\u001b[39m}\u001b[39;00m\u001b[39m_\u001b[39m\u001b[39m{\u001b[39;00mr\u001b[39m}\u001b[39;00m\u001b[39m_ipa_spec_\u001b[39m\u001b[39m{\u001b[39;00mrepeat\u001b[39m}\u001b[39;00m\u001b[39m.txt\u001b[39m\u001b[39m'\u001b[39m, \u001b[39m'\u001b[39m\u001b[39mw\u001b[39m\u001b[39m'\u001b[39m) \u001b[39mas\u001b[39;00m f:\n\u001b[1;32m      7\u001b[0m             f\u001b[39m.\u001b[39mwrite(result)\n",
      "\u001b[0;31mKeyboardInterrupt\u001b[0m: "
     ]
    }
   ],
   "source": [
    "for lan in tqdm(planguages):\n",
    "        try:\n",
    "            for repeat in range(3):\n",
    "                for r in chunks:         \n",
    "                    result = os.popen(f\"java -jar ./assignment/negsel2.jar -alphabet file://alphabets/alphabet_{lan}_ipa.txt -self ./data/eo_{repeat}_ipa_0.train -n 10 -r {r} -c -l < ./data/{lan}_{repeat}_ipa_0.test\").read()\n",
    "                    with open(f'./results/{lan}_{r}_ipa_spec_{repeat}.txt', 'w') as f:\n",
    "                        f.write(result)\n",
    "        except Exception as e:\n",
    "            print(f'Error in {lan}')\n",
    "            print(e)\n",
    "            continue"
   ]
  },
  {
   "cell_type": "code",
   "execution_count": 29,
   "metadata": {},
   "outputs": [
    {
     "name": "stderr",
     "output_type": "stream",
     "text": [
      "100%|██████████| 8/8 [03:41<00:00, 27.64s/it]\n"
     ]
    }
   ],
   "source": [
    "#Because of interrupt\n",
    "# TODO eo_2_ipa_0.train no lines - find error?\n",
    "for lan in tqdm(planguages[2:]):\n",
    "        try:\n",
    "            for repeat in range(2):\n",
    "                for r in chunks:         \n",
    "                    result = os.popen(f\"java -jar ./assignment/negsel2.jar -alphabet file://alphabets/alphabet_{lan}_ipa.txt -self ./data/eo_{repeat}_ipa_0.train -n 10 -r {r} -c -l < ./data/{lan}_{repeat}_ipa_0.test\").read()\n",
    "                    with open(f'./results/{lan}_{r}_ipa_spec_{repeat}.txt', 'w') as f:\n",
    "                        f.write(result)\n",
    "        except Exception as e:\n",
    "            print(f'Error in {lan}')\n",
    "            print(e)\n",
    "            continue"
   ]
  },
  {
   "attachments": {},
   "cell_type": "markdown",
   "metadata": {},
   "source": [
    "#### Phonetic texts with global alphabet"
   ]
  },
  {
   "cell_type": "code",
   "execution_count": 30,
   "metadata": {},
   "outputs": [
    {
     "name": "stderr",
     "output_type": "stream",
     "text": [
      "  0%|          | 0/10 [00:14<?, ?it/s]\n"
     ]
    },
    {
     "ename": "KeyboardInterrupt",
     "evalue": "",
     "output_type": "error",
     "traceback": [
      "\u001b[0;31m---------------------------------------------------------------------------\u001b[0m",
      "\u001b[0;31mKeyboardInterrupt\u001b[0m                         Traceback (most recent call last)",
      "Cell \u001b[0;32mIn[30], line 5\u001b[0m\n\u001b[1;32m      3\u001b[0m \u001b[39mfor\u001b[39;00m repeat \u001b[39min\u001b[39;00m \u001b[39mrange\u001b[39m(\u001b[39m2\u001b[39m):\n\u001b[1;32m      4\u001b[0m     \u001b[39mfor\u001b[39;00m r \u001b[39min\u001b[39;00m chunks:         \n\u001b[0;32m----> 5\u001b[0m         result \u001b[39m=\u001b[39m os\u001b[39m.\u001b[39;49mpopen(\u001b[39mf\u001b[39;49m\u001b[39m\"\u001b[39;49m\u001b[39mjava -jar ./assignment/negsel2.jar -alphabet file://alphabets/palphabet.txt -self ./data/eo_\u001b[39;49m\u001b[39m{\u001b[39;49;00mrepeat\u001b[39m}\u001b[39;49;00m\u001b[39m_ipa_0.train -n 10 -r \u001b[39;49m\u001b[39m{\u001b[39;49;00mr\u001b[39m}\u001b[39;49;00m\u001b[39m -c -l < ./data/\u001b[39;49m\u001b[39m{\u001b[39;49;00mlan\u001b[39m}\u001b[39;49;00m\u001b[39m_\u001b[39;49m\u001b[39m{\u001b[39;49;00mrepeat\u001b[39m}\u001b[39;49;00m\u001b[39m_ipa_0.test\u001b[39;49m\u001b[39m\"\u001b[39;49m)\u001b[39m.\u001b[39;49mread()\n\u001b[1;32m      6\u001b[0m         \u001b[39mwith\u001b[39;00m \u001b[39mopen\u001b[39m(\u001b[39mf\u001b[39m\u001b[39m'\u001b[39m\u001b[39m./results/\u001b[39m\u001b[39m{\u001b[39;00mlan\u001b[39m}\u001b[39;00m\u001b[39m_\u001b[39m\u001b[39m{\u001b[39;00mr\u001b[39m}\u001b[39;00m\u001b[39m_ipa_\u001b[39m\u001b[39m{\u001b[39;00mrepeat\u001b[39m}\u001b[39;00m\u001b[39m.txt\u001b[39m\u001b[39m'\u001b[39m, \u001b[39m'\u001b[39m\u001b[39mw\u001b[39m\u001b[39m'\u001b[39m) \u001b[39mas\u001b[39;00m f:\n\u001b[1;32m      7\u001b[0m             f\u001b[39m.\u001b[39mwrite(result)\n",
      "\u001b[0;31mKeyboardInterrupt\u001b[0m: "
     ]
    }
   ],
   "source": [
    "# I AM RUNNING THIS RIGHT NOW\n",
    "for lan in tqdm(planguages):\n",
    "        try:\n",
    "            for repeat in range(2):\n",
    "                for r in chunks:         \n",
    "                    result = os.popen(f\"java -jar ./assignment/negsel2.jar -alphabet file://alphabets/palphabet.txt -self ./data/eo_{repeat}_ipa_0.train -n 10 -r {r} -c -l < ./data/{lan}_{repeat}_ipa_0.test\").read()\n",
    "                    with open(f'./results/{lan}_{r}_ipa_{repeat}.txt', 'w') as f:\n",
    "                        f.write(result)\n",
    "        except Exception as e:\n",
    "            print(f'Error in {lan}')\n",
    "            print(e)\n",
    "            continue"
   ]
  },
  {
   "cell_type": "code",
   "execution_count": null,
   "metadata": {},
   "outputs": [],
   "source": []
  },
  {
   "cell_type": "code",
   "execution_count": null,
   "metadata": {},
   "outputs": [],
   "source": []
  },
  {
   "cell_type": "code",
   "execution_count": null,
   "metadata": {},
   "outputs": [],
   "source": []
  }
 ],
 "metadata": {
  "kernelspec": {
   "display_name": "default",
   "language": "python",
   "name": "python3"
  },
  "language_info": {
   "codemirror_mode": {
    "name": "ipython",
    "version": 3
   },
   "file_extension": ".py",
   "mimetype": "text/x-python",
   "name": "python",
   "nbconvert_exporter": "python",
   "pygments_lexer": "ipython3",
   "version": "3.11.2"
  },
  "vscode": {
   "interpreter": {
    "hash": "9eacc2bccd90d4fdc3a9d909f208349a62003e5d547aebb0c1a50feb5083274a"
   }
  }
 },
 "nbformat": 4,
 "nbformat_minor": 2
}
