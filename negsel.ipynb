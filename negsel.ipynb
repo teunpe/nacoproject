{
 "cells": [
  {
   "cell_type": "markdown",
   "metadata": {},
   "source": [
    "## Negative Selection"
   ]
  },
  {
   "cell_type": "code",
   "execution_count": 1,
   "metadata": {},
   "outputs": [],
   "source": [
    "from tqdm import tqdm\n",
    "import os\n",
    "import sys"
   ]
  },
  {
   "cell_type": "code",
   "execution_count": 2,
   "metadata": {},
   "outputs": [],
   "source": [
    "chunks = [3, 4, 5]"
   ]
  },
  {
   "cell_type": "markdown",
   "metadata": {},
   "source": [
    "### Orthographic Analysis"
   ]
  },
  {
   "cell_type": "markdown",
   "metadata": {},
   "source": [
    "#### Literal texts with global alphabet"
   ]
  },
  {
   "cell_type": "code",
   "execution_count": 4,
   "metadata": {},
   "outputs": [],
   "source": [
    "languages = ['ar', 'de', 'el', 'en', 'eo', 'fr', 'hi', 'la', 'pl', 'ru', 'sw'] #no chinese"
   ]
  },
  {
   "cell_type": "code",
   "execution_count": 36,
   "metadata": {},
   "outputs": [
    {
     "name": "stderr",
     "output_type": "stream",
     "text": [
      "100%|██████████| 11/11 [1:00:15<00:00, 328.69s/it]\n"
     ]
    }
   ],
   "source": [
    "for lan in tqdm(languages):\n",
    "        for repeat in range(3):\n",
    "            for rep in range(3):\n",
    "                for r in chunks:\n",
    "                    result = os.popen(f\"java -jar ./assignment/negsel2.jar -alphabet file://alphabets/alphabet.txt -self ./data/eo_{rep}.train -n 10 -r {r} -c -l < ./data/{lan}_{repeat}.test\").read()\n",
    "                    with open(f'./results/corr_trainset/{lan}_{r}_t{rep}-{repeat}.txt', 'w') as f:\n",
    "                        f.write(result)"
   ]
  },
  {
   "cell_type": "markdown",
   "metadata": {},
   "source": [
    "#### Literal texts with language specific alphabet"
   ]
  },
  {
   "cell_type": "code",
   "execution_count": 5,
   "metadata": {},
   "outputs": [
    {
     "name": "stderr",
     "output_type": "stream",
     "text": [
      "100%|██████████| 11/11 [22:24<00:00, 122.22s/it]\n"
     ]
    }
   ],
   "source": [
    "for lan in tqdm(languages):\n",
    "        try: \n",
    "            for repeat in range(3):\n",
    "                for rep in range(3):\n",
    "                    for r in chunks:            \n",
    "                        result = os.popen(f\"java -jar ./assignment/negsel2.jar -alphabet file://alphabets/alphabet_{lan}.txt -self ./data/eo_{rep}.train -n 10 -r {r} -c -l < ./data/{lan}_{repeat}.test\").read()\n",
    "                        with open(f'./results/corr_trainset/{lan}_{r}_spec_t{rep}-{repeat}.txt', 'w') as f:\n",
    "                            f.write(result)\n",
    "        except Exception as e:\n",
    "            print(f'Error in {lan}')\n",
    "            print(e)\n",
    "            continue"
   ]
  },
  {
   "cell_type": "code",
   "execution_count": 54,
   "metadata": {},
   "outputs": [
    {
     "name": "stderr",
     "output_type": "stream",
     "text": [
      "  0%|          | 0/1 [00:00<?, ?it/s]Exception in thread \"main\" java.lang.OutOfMemoryError: Java heap space\n",
      "\tat algorithms.PatternTrie.<init>(PatternTrie.java:33)\n",
      "\tat algorithms.PatternTrie.leafify(PatternTrie.java:397)\n",
      "\tat algorithms.PatternTrie.leafify(PatternTrie.java:401)\n",
      "\tat algorithms.PatternTrie.leafify(PatternTrie.java:401)\n",
      "\tat algorithms.PatternTrie.leafify(PatternTrie.java:401)\n",
      "\tat algorithms.PatternTrie.leafify(PatternTrie.java:391)\n",
      "\tat algorithms.ContiguousCountingDAG.<init>(ContiguousCountingDAG.java:30)\n",
      "\tat Main.main(Main.java:131)\n",
      "Exception in thread \"main\" java.lang.OutOfMemoryError: Java heap space\n",
      "\tat algorithms.PatternTrie.<init>(PatternTrie.java:33)\n",
      "\tat algorithms.PatternTrie.leafify(PatternTrie.java:397)\n",
      "\tat algorithms.PatternTrie.leafify(PatternTrie.java:401)\n",
      "\tat algorithms.PatternTrie.leafify(PatternTrie.java:401)\n",
      "\tat algorithms.PatternTrie.leafify(PatternTrie.java:401)\n",
      "\tat algorithms.PatternTrie.leafify(PatternTrie.java:391)\n",
      "\tat algorithms.ContiguousCountingDAG.<init>(ContiguousCountingDAG.java:30)\n",
      "\tat Main.main(Main.java:131)\n",
      "Exception in thread \"main\" java.lang.OutOfMemoryError: Java heap space\n",
      "\tat algorithms.PatternTrie.<init>(PatternTrie.java:33)\n",
      "\tat algorithms.PatternTrie.leafify(PatternTrie.java:397)\n",
      "\tat algorithms.PatternTrie.leafify(PatternTrie.java:401)\n",
      "\tat algorithms.PatternTrie.leafify(PatternTrie.java:401)\n",
      "\tat algorithms.PatternTrie.leafify(PatternTrie.java:391)\n",
      "\tat algorithms.ContiguousCountingDAG.<init>(ContiguousCountingDAG.java:30)\n",
      "\tat Main.main(Main.java:131)\n",
      "Exception in thread \"main\" java.lang.OutOfMemoryError: Java heap space\n",
      "\tat algorithms.PatternTrie.<init>(PatternTrie.java:33)\n",
      "\tat algorithms.PatternTrie.leafify(PatternTrie.java:397)\n",
      "\tat algorithms.PatternTrie.leafify(PatternTrie.java:401)\n",
      "\tat algorithms.PatternTrie.leafify(PatternTrie.java:401)\n",
      "\tat algorithms.PatternTrie.leafify(PatternTrie.java:401)\n",
      "\tat algorithms.PatternTrie.leafify(PatternTrie.java:401)\n",
      "\tat algorithms.PatternTrie.leafify(PatternTrie.java:391)\n",
      "\tat algorithms.ContiguousCountingDAG.<init>(ContiguousCountingDAG.java:30)\n",
      "\tat Main.main(Main.java:131)\n",
      "Exception in thread \"main\" java.lang.OutOfMemoryError: Java heap space\n",
      "\tat algorithms.PatternTrie.<init>(PatternTrie.java:33)\n",
      "\tat algorithms.PatternTrie.leafify(PatternTrie.java:397)\n",
      "\tat algorithms.PatternTrie.leafify(PatternTrie.java:401)\n",
      "\tat algorithms.PatternTrie.leafify(PatternTrie.java:401)\n",
      "\tat algorithms.PatternTrie.leafify(PatternTrie.java:401)\n",
      "\tat algorithms.PatternTrie.leafify(PatternTrie.java:391)\n",
      "\tat algorithms.ContiguousCountingDAG.<init>(ContiguousCountingDAG.java:30)\n",
      "\tat Main.main(Main.java:131)\n",
      "Exception in thread \"main\" java.lang.OutOfMemoryError: Java heap space\n",
      "\tat algorithms.PatternTrie.<init>(PatternTrie.java:33)\n",
      "\tat algorithms.PatternTrie.leafify(PatternTrie.java:397)\n",
      "\tat algorithms.PatternTrie.leafify(PatternTrie.java:401)\n",
      "\tat algorithms.PatternTrie.leafify(PatternTrie.java:401)\n",
      "\tat algorithms.PatternTrie.leafify(PatternTrie.java:401)\n",
      "\tat algorithms.PatternTrie.leafify(PatternTrie.java:401)\n",
      "\tat algorithms.PatternTrie.leafify(PatternTrie.java:391)\n",
      "\tat algorithms.ContiguousCountingDAG.<init>(ContiguousCountingDAG.java:30)\n",
      "\tat Main.main(Main.java:131)\n",
      "100%|██████████| 1/1 [12:20<00:00, 740.61s/it]\n"
     ]
    }
   ],
   "source": [
    "#Fix out of Mem for chinese\n",
    "# for lan in tqdm(['zh']):\n",
    "#         try: \n",
    "#             for repeat in range(3):\n",
    "#                 for rep in range(3):\n",
    "#                     for r in chunks[1:]:            \n",
    "#                         result = os.popen(f\"java -Xmx8192m -jar ./assignment/negsel2.jar -alphabet file://alphabets/alphabet_{lan}.txt -self ./data/eo_{rep}.train -n 10 -r {r} -c -l < ./data/{lan}_{repeat}.test\").read()\n",
    "#                         with open(f'./results/corr_trainset/{lan}_{r}_spec_t{rep}-{repeat}.txt', 'w') as f:\n",
    "#                             f.write(result)\n",
    "#         except Exception as e:\n",
    "#             print(f'Error in {lan}')\n",
    "#             print(e)\n",
    "#             continue"
   ]
  },
  {
   "attachments": {},
   "cell_type": "markdown",
   "metadata": {},
   "source": [
    "#### Literal texts with test file as alphabet"
   ]
  },
  {
   "cell_type": "code",
   "execution_count": 38,
   "metadata": {},
   "outputs": [],
   "source": [
    "#languages = ['ar', 'de', 'el', 'en', 'eo', 'fr', 'hi', 'la', 'pl', 'ru', 'sw', 'zh']"
   ]
  },
  {
   "cell_type": "code",
   "execution_count": 6,
   "metadata": {},
   "outputs": [
    {
     "name": "stderr",
     "output_type": "stream",
     "text": [
      "100%|██████████| 11/11 [1:41:34<00:00, 554.05s/it]  \n"
     ]
    }
   ],
   "source": [
    "for lan in tqdm(languages):\n",
    "        try: \n",
    "            for repeat in range(3):\n",
    "                for rep in range(3):\n",
    "                    for r in chunks:         \n",
    "                        result = os.popen(f\"java -jar ./assignment/negsel2.jar -self ./data/eo_{rep}.train -n 10 -r {r} -c -l < ./data/{lan}_{repeat}.test\").read()\n",
    "                        with open(f'./results/corr_trainset/{lan}_{r}_test_t{rep}-{repeat}.txt', 'w') as f:\n",
    "                            f.write(result)\n",
    "        except Exception as e:\n",
    "            print(f'Error in {lan}')\n",
    "            print(e)\n",
    "            continue"
   ]
  },
  {
   "cell_type": "markdown",
   "metadata": {},
   "source": [
    "#### Transliterated texts with global alphabet"
   ]
  },
  {
   "cell_type": "code",
   "execution_count": 7,
   "metadata": {},
   "outputs": [],
   "source": [
    "tlanguages = ['ar', 'el', 'hi', 'ru'] #no chinese"
   ]
  },
  {
   "cell_type": "code",
   "execution_count": 8,
   "metadata": {},
   "outputs": [
    {
     "name": "stderr",
     "output_type": "stream",
     "text": [
      "100%|██████████| 4/4 [03:50<00:00, 57.59s/it]\n"
     ]
    }
   ],
   "source": [
    "for lan in tqdm(tlanguages):\n",
    "        for repeat in range(3):\n",
    "            for rep in range(3):\n",
    "                for r in chunks:\n",
    "                    result = os.popen(f\"java -jar ./assignment/negsel2.jar -alphabet file://alphabets/talphabet.txt -self ./data/eo_{rep}.train -n 10 -r {r} -c -l < ./data/{lan}_transl_{repeat}.test\").read()\n",
    "                    with open(f'./results/corr_trainset/{lan}_{r}_transl_t{rep}-{repeat}.txt', 'w') as f:\n",
    "                        f.write(result)"
   ]
  },
  {
   "cell_type": "markdown",
   "metadata": {},
   "source": [
    "#### Transliterated texts with language specific alphabet"
   ]
  },
  {
   "cell_type": "code",
   "execution_count": 41,
   "metadata": {},
   "outputs": [],
   "source": [
    "#tlanguages = ['ar', 'el', 'hi', 'ru', 'zh']"
   ]
  },
  {
   "cell_type": "code",
   "execution_count": 9,
   "metadata": {},
   "outputs": [
    {
     "name": "stderr",
     "output_type": "stream",
     "text": [
      "100%|██████████| 4/4 [10:17<00:00, 154.30s/it]\n"
     ]
    }
   ],
   "source": [
    "for lan in tqdm(tlanguages):\n",
    "        try:\n",
    "            for repeat in range(3):\n",
    "                for rep in range(3):\n",
    "                    for r in chunks:         \n",
    "                        result = os.popen(f\"java -jar ./assignment/negsel2.jar -alphabet file://alphabets/alphabet_{lan}_transl.txt -self ./data/eo_{rep}.train -n 10 -r {r} -c -l < ./data/{lan}_transl_{repeat}.test\").read()\n",
    "                        with open(f'./results/corr_trainset/{lan}_{r}_transl_spec_t{rep}-{repeat}.txt', 'w') as f:\n",
    "                            f.write(result)\n",
    "        except Exception as e:\n",
    "            print(f'Error in {lan}')\n",
    "            print(e)\n",
    "            continue"
   ]
  },
  {
   "attachments": {},
   "cell_type": "markdown",
   "metadata": {},
   "source": [
    "#### Transliterated text with test file as alphabet"
   ]
  },
  {
   "cell_type": "code",
   "execution_count": 10,
   "metadata": {},
   "outputs": [
    {
     "name": "stderr",
     "output_type": "stream",
     "text": [
      "100%|██████████| 4/4 [03:51<00:00, 57.81s/it]\n"
     ]
    }
   ],
   "source": [
    "for lan in tqdm(tlanguages):\n",
    "        try:\n",
    "            for repeat in range(3):\n",
    "                for rep in range(3):\n",
    "                    for r in chunks:         \n",
    "                        result = os.popen(f\"java -jar ./assignment/negsel2.jar -self ./data/eo_{rep}.train -n 10 -r {r} -c -l < ./data/{lan}_transl_{repeat}.test\").read()\n",
    "                        with open(f'./results/corr_trainset/{lan}_{r}_transl_test_t{rep}-{repeat}.txt', 'w') as f:\n",
    "                            f.write(result)\n",
    "        except Exception as e:\n",
    "            print(f'Error in {lan}')\n",
    "            print(e)\n",
    "            continue"
   ]
  },
  {
   "attachments": {},
   "cell_type": "markdown",
   "metadata": {},
   "source": [
    "#### Phonetics text with test file as alphabet"
   ]
  },
  {
   "cell_type": "code",
   "execution_count": 18,
   "metadata": {},
   "outputs": [],
   "source": [
    "planguages = ['ar', 'de', 'el', 'en', 'eo', 'fr', 'hi', 'la', 'pl', 'ru', 'sw', 'zh']"
   ]
  },
  {
   "cell_type": "code",
   "execution_count": 26,
   "metadata": {},
   "outputs": [
    {
     "name": "stderr",
     "output_type": "stream",
     "text": [
      "100%|██████████| 2/2 [00:34<00:00, 17.48s/it]\n"
     ]
    }
   ],
   "source": [
    "for lan in tqdm(planguages):\n",
    "        try:\n",
    "            for repeat in range(2):\n",
    "                for rep in range(2):\n",
    "                    for r in chunks:         \n",
    "                        result = os.popen(f\"java -jar ./assignment/negsel2.jar -self ./data/eo_{rep}_ipa_0.train -n 10 -r {r} -c -l < ./data/{lan}_{repeat}_ipa_0.test\").read()\n",
    "                        with open(f'./results/corr_trainset/{lan}_{r}_ipa_test_t{rep}-{repeat}.txt', 'w') as f:\n",
    "                            f.write(result)\n",
    "        except Exception as e:\n",
    "            print(f'Error in {lan}')\n",
    "            print(e)\n",
    "            continue"
   ]
  },
  {
   "attachments": {},
   "cell_type": "markdown",
   "metadata": {},
   "source": [
    "#### Phonetics text with specific alphabet"
   ]
  },
  {
   "cell_type": "code",
   "execution_count": null,
   "metadata": {},
   "outputs": [],
   "source": [
    "# variant 0, no ligatures\n",
    "for lan in tqdm(planguages):\n",
    "        try:\n",
    "            lig=\"l\"\n",
    "            if lan in [\"eo\", \"el\", \"la\"]:\n",
    "                lig=\"\"\n",
    "            for repeat in range(2):\n",
    "                for rep in range(2):\n",
    "                    for r in chunks: \n",
    "                        result = os.popen(f\"java -jar ./assignment/negsel2.jar -alphabet file://alphabets/alphabet_{lan}_ipa_0{lig}.txt -self ./data/eo_{rep}_ipa_0.train -n 10 -r {r} -c -l < ./data/{lan}_{repeat}_ipa_0{lig}.test\").read()\n",
    "                        with open(f'./results/corr_trainset/{lan}_{r}_ipa_0l_spec_t{rep}-{repeat}.txt', 'w') as f:\n",
    "                            f.write(result)\n",
    "        except Exception as e:\n",
    "            print(f'Error in {lan}')\n",
    "            print(e)\n",
    "            continue"
   ]
  },
  {
   "attachments": {},
   "cell_type": "markdown",
   "metadata": {},
   "source": [
    "#### Variants"
   ]
  },
  {
   "cell_type": "code",
   "execution_count": 24,
   "metadata": {},
   "outputs": [
    {
     "name": "stderr",
     "output_type": "stream",
     "text": [
      "100%|██████████| 2/2 [01:18<00:00, 39.28s/it]\n"
     ]
    }
   ],
   "source": [
    "# ligatures if possible\n",
    "for lan in tqdm(planguages):\n",
    "        try:\n",
    "            lig=\"l\"\n",
    "            if lan in [\"eo\", \"el\", \"la\"]:\n",
    "                lig=\"\"\n",
    "            for repeat in range(2):\n",
    "                for rep in range(2):\n",
    "                    for r in chunks: \n",
    "                        result = os.popen(f\"java -jar ./assignment/negsel2.jar -alphabet file://alphabets/alphabet_{lan}_ipa_0{lig}.txt -self ./data/eo_{rep}_ipa_0.train -n 10 -r {r} -c -l < ./data/{lan}_{repeat}_ipa_0{lig}.test\").read()\n",
    "                        with open(f'./results/corr_trainset/{lan}_{r}_ipa_0l_spec_t{rep}-{repeat}.txt', 'w') as f:\n",
    "                            f.write(result)\n",
    "        except Exception as e:\n",
    "            print(f'Error in {lan}')\n",
    "            print(e)\n",
    "            continue"
   ]
  },
  {
   "cell_type": "code",
   "execution_count": 22,
   "metadata": {},
   "outputs": [
    {
     "name": "stderr",
     "output_type": "stream",
     "text": [
      "100%|██████████| 1/1 [02:25<00:00, 145.01s/it]\n"
     ]
    }
   ],
   "source": [
    "# epitran variants for german\n",
    "for lan in tqdm([\"de\"]):\n",
    "        try:\n",
    "            for variant in range(1, 4):\n",
    "                for repeat in range(2):\n",
    "                    for rep in range(2):\n",
    "                        #if rep != repeat:\n",
    "                        #    continue\n",
    "                        for r in chunks: \n",
    "                            result = os.popen(f\"java -jar ./assignment/negsel2.jar -alphabet file://alphabets/alphabet_{lan}_ipa_{variant}.txt -self ./data/eo_{rep}_ipa_0.train -n 10 -r {r} -c -l < ./data/{lan}_{repeat}_ipa_{variant}.test\").read()\n",
    "                            with open(f'./results/corr_trainset/{lan}_{r}_ipa_{variant}_spec_t{rep}-{repeat}.txt', 'w') as f:\n",
    "                                f.write(result)\n",
    "        except Exception as e:\n",
    "            print(f'Error in {lan}')\n",
    "            print(e)\n",
    "            continue"
   ]
  },
  {
   "attachments": {},
   "cell_type": "markdown",
   "metadata": {},
   "source": [
    "#### Phonetic texts with global alphabet"
   ]
  },
  {
   "cell_type": "code",
   "execution_count": 25,
   "metadata": {},
   "outputs": [
    {
     "name": "stderr",
     "output_type": "stream",
     "text": [
      "100%|██████████| 2/2 [05:14<00:00, 157.23s/it]\n"
     ]
    }
   ],
   "source": [
    "for lan in tqdm(planguages):\n",
    "        try:\n",
    "            for repeat in range(2):\n",
    "                for rep in range(2):\n",
    "                    for r in chunks:         \n",
    "                        result = os.popen(f\"java -jar ./assignment/negsel2.jar -alphabet file://alphabets/palphabet.txt -self ./data/eo_{rep}_ipa_0.train -n 10 -r {r} -c -l < ./data/{lan}_{repeat}_ipa_0.test\").read()\n",
    "                        with open(f'./results/corr_trainset/{lan}_{r}_ipa_t{rep}-{repeat}.txt', 'w') as f:\n",
    "                            f.write(result)\n",
    "        except Exception as e:\n",
    "            print(f'Error in {lan}')\n",
    "            print(e)\n",
    "            continue"
   ]
  }
 ],
 "metadata": {
  "kernelspec": {
   "display_name": "default",
   "language": "python",
   "name": "python3"
  },
  "language_info": {
   "codemirror_mode": {
    "name": "ipython",
    "version": 3
   },
   "file_extension": ".py",
   "mimetype": "text/x-python",
   "name": "python",
   "nbconvert_exporter": "python",
   "pygments_lexer": "ipython3",
   "version": "3.11.2"
  },
  "vscode": {
   "interpreter": {
    "hash": "9eacc2bccd90d4fdc3a9d909f208349a62003e5d547aebb0c1a50feb5083274a"
   }
  }
 },
 "nbformat": 4,
 "nbformat_minor": 2
}
