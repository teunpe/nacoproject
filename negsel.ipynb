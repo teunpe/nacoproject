{
 "cells": [
  {
   "cell_type": "code",
   "execution_count": 2,
   "metadata": {},
   "outputs": [],
   "source": [
    "from tqdm import tqdm\n",
    "import os\n",
    "import sys"
   ]
  },
  {
   "cell_type": "code",
   "execution_count": 3,
   "metadata": {},
   "outputs": [
    {
     "data": {
      "text/plain": [
       "'39.7119\\n'"
      ]
     },
     "execution_count": 3,
     "metadata": {},
     "output_type": "execute_result"
    }
   ],
   "source": [
    "os.popen(f\"java -jar ./assignment/negsel2.jar -self ./data/eo.train -n 10 -r 4 -c -l < ./data/eo.test | awk '{{n+=$1}}END{{print n/NR}}'\").read()"
   ]
  },
  {
   "cell_type": "code",
   "execution_count": 4,
   "metadata": {},
   "outputs": [
    {
     "data": {
      "text/plain": [
       "'41.2472\\n'"
      ]
     },
     "execution_count": 4,
     "metadata": {},
     "output_type": "execute_result"
    }
   ],
   "source": [
    "os.popen(f\"java -jar ./assignment/negsel2.jar -self ./data/eo.train -n 10 -r 4 -c -l < ./data/en.test | awk '{{n+= $1}}END{{print n/NR}}'\").read()"
   ]
  },
  {
   "cell_type": "code",
   "execution_count": 5,
   "metadata": {},
   "outputs": [],
   "source": [
    "result = os.popen(f\"java -jar ./assignment/negsel2.jar -self ./data/eo.train -n 10 -r 4 -c -l < ./data/fr.test | awk '{{n+= $1}}END{{print n/NR}}'\").read()\n",
    "result"
   ]
  },
  {
   "cell_type": "markdown",
   "metadata": {},
   "source": [
    "#### Literal texts"
   ]
  },
  {
   "cell_type": "code",
   "execution_count": 16,
   "metadata": {},
   "outputs": [
    {
     "name": "stderr",
     "output_type": "stream",
     "text": [
      "\n",
      "\n",
      "  0%|          | 0/11 [00:00<?, ?it/s]\u001b[A\u001b[A\n",
      "\n",
      "  9%|▉         | 1/11 [03:00<30:05, 180.51s/it]\u001b[A\u001b[A\n",
      "\n",
      " 18%|█▊        | 2/11 [06:02<27:08, 180.92s/it]\u001b[A\u001b[A\n",
      "\n",
      " 27%|██▋       | 3/11 [08:57<23:54, 179.29s/it]\u001b[A\u001b[A\n",
      "\n",
      " 36%|███▋      | 4/11 [11:52<20:45, 177.94s/it]\u001b[A\u001b[A\n",
      "\n",
      " 45%|████▌     | 5/11 [14:46<17:40, 176.79s/it]\u001b[A\u001b[A\n",
      "\n",
      " 55%|█████▍    | 6/11 [17:46<14:48, 177.79s/it]\u001b[A\u001b[A\n",
      "\n",
      " 64%|██████▎   | 7/11 [20:48<11:56, 179.04s/it]\u001b[A\u001b[A\n",
      "\n",
      " 73%|███████▎  | 8/11 [23:47<08:57, 179.05s/it]\u001b[A\u001b[A\n",
      "\n",
      " 82%|████████▏ | 9/11 [26:45<05:57, 178.65s/it]\u001b[A\u001b[A\n",
      "\n",
      " 91%|█████████ | 10/11 [29:41<02:57, 177.78s/it]\u001b[A\u001b[A\n",
      "\n",
      "100%|██████████| 11/11 [32:37<00:00, 177.99s/it]\u001b[A\u001b[A\n"
     ]
    }
   ],
   "source": [
    "languages = ['ar', 'de', 'el', 'en', 'eo', 'fr', 'hi', 'la', 'pl', 'ru', 'sw']\n",
    "for lan in tqdm(languages):\n",
    "        for repeat in range(3):\n",
    "            result = os.popen(f\"java -jar ./assignment/negsel2.jar -alphabet file://alphabet.txt -self ./data/eo_{repeat}.train -n 10 -r 4 -c -l < ./data/{lan}_{repeat}.test\").read()\n",
    "            with open(f'./results/{lan}_{repeat}.txt', 'w') as f:\n",
    "                  f.write(result)"
   ]
  },
  {
   "cell_type": "markdown",
   "metadata": {},
   "source": [
    "#### Transliterated texts"
   ]
  },
  {
   "cell_type": "code",
   "execution_count": 17,
   "metadata": {},
   "outputs": [
    {
     "name": "stderr",
     "output_type": "stream",
     "text": [
      "\n",
      "\n",
      "  0%|          | 0/5 [00:00<?, ?it/s]\u001b[A\u001b[A\n",
      "\n",
      " 20%|██        | 1/5 [00:35<02:21, 35.28s/it]\u001b[A\u001b[A\n",
      "\n",
      " 40%|████      | 2/5 [01:09<01:44, 34.96s/it]\u001b[A\u001b[A\n",
      "\n",
      " 60%|██████    | 3/5 [01:44<01:09, 34.85s/it]\u001b[A\u001b[A\n",
      "\n",
      " 80%|████████  | 4/5 [02:20<00:35, 35.26s/it]\u001b[A\u001b[A\n",
      "\n",
      "100%|██████████| 5/5 [02:56<00:00, 35.23s/it]\u001b[A\u001b[A\n"
     ]
    }
   ],
   "source": [
    "languages = ['ar', 'el', 'hi', 'ru', 'zh']\n",
    "for lan in tqdm(languages):\n",
    "        for repeat in range(3):\n",
    "            result = os.popen(f\"java -jar ./assignment/negsel2.jar -alphabet file://talphabet.txt -self ./data/eo_{repeat}.train -n 10 -r 4 -c -l < ./data/{lan}_{repeat}.test\").read()\n",
    "            with open(f'./results/{lan}_transl_{repeat}.txt', 'w') as f:\n",
    "                  f.write(result)"
   ]
  },
  {
   "cell_type": "code",
   "execution_count": null,
   "metadata": {},
   "outputs": [],
   "source": []
  }
 ],
 "metadata": {
  "kernelspec": {
   "display_name": "Python 3",
   "language": "python",
   "name": "python3"
  },
  "language_info": {
   "codemirror_mode": {
    "name": "ipython",
    "version": 3
   },
   "file_extension": ".py",
   "mimetype": "text/x-python",
   "name": "python",
   "nbconvert_exporter": "python",
   "pygments_lexer": "ipython3",
   "version": "3.7.6"
  }
 },
 "nbformat": 4,
 "nbformat_minor": 2
}
