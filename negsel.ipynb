{
 "cells": [
  {
   "cell_type": "code",
   "execution_count": 1,
   "metadata": {},
   "outputs": [],
   "source": [
    "from tqdm import tqdm\n",
    "import os\n",
    "import sys"
   ]
  },
  {
   "cell_type": "code",
   "execution_count": 23,
   "metadata": {},
   "outputs": [
    {
     "data": {
      "text/plain": [
       "'29,216\\n'"
      ]
     },
     "execution_count": 23,
     "metadata": {},
     "output_type": "execute_result"
    }
   ],
   "source": [
    "os.popen(f\"java -jar ./assignment/negsel2.jar -self ./data/eo.train -n 10 -r 4 -c -l < ./data/eo.test | awk '{{n+=$1}}END{{print n/NR}}'\").read()"
   ]
  },
  {
   "cell_type": "code",
   "execution_count": 24,
   "metadata": {},
   "outputs": [
    {
     "data": {
      "text/plain": [
       "'30,6729\\n'"
      ]
     },
     "execution_count": 24,
     "metadata": {},
     "output_type": "execute_result"
    }
   ],
   "source": [
    "os.popen(f\"java -jar ./assignment/negsel2.jar -self ./data/eo.train -n 10 -r 4 -c -l < ./data/en.test | awk '{{n+= $1}}END{{print n/NR}}'\").read()"
   ]
  },
  {
   "cell_type": "code",
   "execution_count": 20,
   "metadata": {},
   "outputs": [
    {
     "data": {
      "text/plain": [
       "'30,6729\\n'"
      ]
     },
     "execution_count": 20,
     "metadata": {},
     "output_type": "execute_result"
    }
   ],
   "source": [
    "result"
   ]
  },
  {
   "cell_type": "code",
   "execution_count": 21,
   "metadata": {},
   "outputs": [],
   "source": [
    "result = os.popen(f\"java -jar ./assignment/negsel2.jar -self ./data/eo.train -n 10 -r 4 -c -l < ./data/fr.test | awk '{{n+= $1}}END{{print n/NR}}'\").read()"
   ]
  },
  {
   "cell_type": "code",
   "execution_count": 22,
   "metadata": {},
   "outputs": [
    {
     "data": {
      "text/plain": [
       "'30,4135\\n'"
      ]
     },
     "execution_count": 22,
     "metadata": {},
     "output_type": "execute_result"
    }
   ],
   "source": [
    "result"
   ]
  },
  {
   "cell_type": "code",
   "execution_count": 4,
   "metadata": {},
   "outputs": [
    {
     "name": "stderr",
     "output_type": "stream",
     "text": [
      " 92%|█████████▏| 11/12 [05:20<00:26, 26.03s/it]Exception in thread \"main\" java.lang.OutOfMemoryError: Java heap space\n",
      "\tat algorithms.PatternTrie.<init>(PatternTrie.java:33)\n",
      "\tat algorithms.PatternTrie.leafify(PatternTrie.java:397)\n",
      "\tat algorithms.PatternTrie.leafify(PatternTrie.java:401)\n",
      "\tat algorithms.PatternTrie.leafify(PatternTrie.java:401)\n",
      "\tat algorithms.PatternTrie.leafify(PatternTrie.java:401)\n",
      "\tat algorithms.PatternTrie.leafify(PatternTrie.java:391)\n",
      "\tat algorithms.ContiguousCountingDAG.<init>(ContiguousCountingDAG.java:30)\n",
      "\tat Main.main(Main.java:131)\n",
      "Exception in thread \"main\" java.lang.OutOfMemoryError: Java heap space\n",
      "\tat algorithms.PatternTrie.<init>(PatternTrie.java:33)\n",
      "\tat algorithms.PatternTrie.leafify(PatternTrie.java:397)\n",
      "\tat algorithms.PatternTrie.leafify(PatternTrie.java:401)\n",
      "\tat algorithms.PatternTrie.leafify(PatternTrie.java:401)\n",
      "\tat algorithms.PatternTrie.leafify(PatternTrie.java:391)\n",
      "\tat algorithms.ContiguousCountingDAG.<init>(ContiguousCountingDAG.java:30)\n",
      "\tat Main.main(Main.java:131)\n",
      "Exception in thread \"main\" java.lang.OutOfMemoryError: Java heap space\n",
      "\tat algorithms.PatternTrie.<init>(PatternTrie.java:33)\n",
      "\tat algorithms.PatternTrie.leafify(PatternTrie.java:397)\n",
      "\tat algorithms.PatternTrie.leafify(PatternTrie.java:401)\n",
      "\tat algorithms.PatternTrie.leafify(PatternTrie.java:401)\n",
      "\tat algorithms.PatternTrie.leafify(PatternTrie.java:391)\n",
      "\tat algorithms.ContiguousCountingDAG.<init>(ContiguousCountingDAG.java:30)\n",
      "\tat Main.main(Main.java:131)\n",
      "100%|██████████| 12/12 [05:29<00:00, 27.42s/it]\n"
     ]
    }
   ],
   "source": [
    "languages = ['ar', 'de', 'el', 'en', 'eo', 'fr', 'hi', 'la', 'pl', 'ru', 'sw', 'zh']\n",
    "for lan in tqdm(languages):\n",
    "        for repeat in range(3):\n",
    "            result = os.popen(f\"java -jar ./assignment/negsel2.jar -alphabet file:///home/teun/nacoproject/alphabets/alphabet_{lan}.txt -self ./data/eo_{repeat}.train -n 10 -r 4 -c -l < ./data/{lan}_{repeat}.test\").read()\n",
    "            with open(f'./results/{lan}_{repeat}.txt', 'w') as f:\n",
    "                  f.write(result)"
   ]
  },
  {
   "attachments": {},
   "cell_type": "markdown",
   "metadata": {},
   "source": [
    "#### Transliterated texts"
   ]
  },
  {
   "cell_type": "code",
   "execution_count": 5,
   "metadata": {},
   "outputs": [
    {
     "name": "stderr",
     "output_type": "stream",
     "text": [
      "100%|██████████| 5/5 [01:33<00:00, 18.69s/it]\n"
     ]
    }
   ],
   "source": [
    "languages = ['ar', 'el', 'hi', 'ru', 'zh']\n",
    "for lan in tqdm(languages):\n",
    "        for repeat in range(3):\n",
    "            result = os.popen(f\"java -jar ./assignment/negsel2.jar -alphabet file:///home/teun/nacoproject/alphabets/alphabet_{lan}_transl.txt -self ./data/eo_{repeat}.train -n 10 -r 4 -c -l < ./data/{lan}_{repeat}.test\").read()\n",
    "            with open(f'./results/{lan}_transl_{repeat}.txt', 'w') as f:\n",
    "                  f.write(result)"
   ]
  },
  {
   "cell_type": "code",
   "execution_count": null,
   "metadata": {},
   "outputs": [],
   "source": []
  }
 ],
 "metadata": {
  "kernelspec": {
   "display_name": "Python 3",
   "language": "python",
   "name": "python3"
  },
  "language_info": {
   "codemirror_mode": {
    "name": "ipython",
    "version": 3
   },
   "file_extension": ".py",
   "mimetype": "text/x-python",
   "name": "python",
   "nbconvert_exporter": "python",
   "pygments_lexer": "ipython3",
   "version": "3.10.11"
  },
  "orig_nbformat": 4
 },
 "nbformat": 4,
 "nbformat_minor": 2
}
