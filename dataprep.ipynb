{
 "cells": [
  {
   "cell_type": "code",
   "execution_count": 9,
   "metadata": {},
   "outputs": [],
   "source": [
    "import re\n",
    "from tqdm import tqdm\n",
    "import gzip\n",
    "import os\n",
    "import regex\n",
    "import numpy as np"
   ]
  },
  {
   "cell_type": "code",
   "execution_count": 36,
   "metadata": {},
   "outputs": [],
   "source": [
    "def preparedata(lan):\n",
    "    with gzip.open(f'./OSCAR-2109/packaged/{lan}/{lan}_part_1.txt.gz', 'rb') as f:\n",
    "        text = f.readlines()\n",
    "\n",
    "    if lan == 'eo':\n",
    "        trainfile = open(f'./data/{lan}.train', 'w')\n",
    "    testfile = open(f'./data/{lan}.test', 'w')\n",
    "    total = len(text)\n",
    "    file = testfile\n",
    "    for i, line in enumerate(text):\n",
    "        line = line.decode('utf-8')\n",
    "        line = regex.sub(r'-[\\p{L}_]', '', line)\n",
    "        if i == 100 and lan != 'eo':\n",
    "            break\n",
    "        if i == 200:\n",
    "            break\n",
    "        if i == 100:\n",
    "            file = trainfile\n",
    "        line = line[:-3].lower().replace(' ', '\\x5f')\n",
    "        line = [line[i:i+10] for i in range(0, len(line), 10)]\n",
    "        for string in line:\n",
    "            if len(string) == 10:\n",
    "                file.write(f'{string}\\n')"
   ]
  },
  {
   "cell_type": "code",
   "execution_count": 34,
   "metadata": {},
   "outputs": [
    {
     "name": "stderr",
     "output_type": "stream",
     "text": [
      "  0%|          | 0/12 [00:02<?, ?it/s]\n"
     ]
    },
    {
     "ename": "KeyboardInterrupt",
     "evalue": "",
     "output_type": "error",
     "traceback": [
      "\u001b[0;31m---------------------------------------------------------------------------\u001b[0m",
      "\u001b[0;31mKeyboardInterrupt\u001b[0m                         Traceback (most recent call last)",
      "Cell \u001b[0;32mIn[34], line 3\u001b[0m\n\u001b[1;32m      1\u001b[0m languages \u001b[39m=\u001b[39m [\u001b[39m'\u001b[39m\u001b[39mar\u001b[39m\u001b[39m'\u001b[39m, \u001b[39m'\u001b[39m\u001b[39mde\u001b[39m\u001b[39m'\u001b[39m, \u001b[39m'\u001b[39m\u001b[39mel\u001b[39m\u001b[39m'\u001b[39m, \u001b[39m'\u001b[39m\u001b[39men\u001b[39m\u001b[39m'\u001b[39m, \u001b[39m'\u001b[39m\u001b[39meo\u001b[39m\u001b[39m'\u001b[39m, \u001b[39m'\u001b[39m\u001b[39mfr\u001b[39m\u001b[39m'\u001b[39m, \u001b[39m'\u001b[39m\u001b[39mhi\u001b[39m\u001b[39m'\u001b[39m, \u001b[39m'\u001b[39m\u001b[39mla\u001b[39m\u001b[39m'\u001b[39m, \u001b[39m'\u001b[39m\u001b[39mpl\u001b[39m\u001b[39m'\u001b[39m, \u001b[39m'\u001b[39m\u001b[39mru\u001b[39m\u001b[39m'\u001b[39m, \u001b[39m'\u001b[39m\u001b[39msw\u001b[39m\u001b[39m'\u001b[39m, \u001b[39m'\u001b[39m\u001b[39mzh\u001b[39m\u001b[39m'\u001b[39m]\n\u001b[1;32m      2\u001b[0m \u001b[39mfor\u001b[39;00m lan \u001b[39min\u001b[39;00m tqdm(languages):\n\u001b[0;32m----> 3\u001b[0m     preparedata(lan)\n",
      "Cell \u001b[0;32mIn[33], line 3\u001b[0m, in \u001b[0;36mpreparedata\u001b[0;34m(lan)\u001b[0m\n\u001b[1;32m      1\u001b[0m \u001b[39mdef\u001b[39;00m \u001b[39mpreparedata\u001b[39m(lan):\n\u001b[1;32m      2\u001b[0m     \u001b[39mwith\u001b[39;00m gzip\u001b[39m.\u001b[39mopen(\u001b[39mf\u001b[39m\u001b[39m'\u001b[39m\u001b[39m./OSCAR-2109/packaged/\u001b[39m\u001b[39m{\u001b[39;00mlan\u001b[39m}\u001b[39;00m\u001b[39m/\u001b[39m\u001b[39m{\u001b[39;00mlan\u001b[39m}\u001b[39;00m\u001b[39m_part_1.txt.gz\u001b[39m\u001b[39m'\u001b[39m, \u001b[39m'\u001b[39m\u001b[39mrb\u001b[39m\u001b[39m'\u001b[39m) \u001b[39mas\u001b[39;00m f:\n\u001b[0;32m----> 3\u001b[0m         text \u001b[39m=\u001b[39m f\u001b[39m.\u001b[39;49mreadlines()\n\u001b[1;32m      5\u001b[0m     \u001b[39mif\u001b[39;00m lan \u001b[39m==\u001b[39m \u001b[39m'\u001b[39m\u001b[39meo\u001b[39m\u001b[39m'\u001b[39m:\n\u001b[1;32m      6\u001b[0m         trainfile \u001b[39m=\u001b[39m \u001b[39mopen\u001b[39m(\u001b[39mf\u001b[39m\u001b[39m'\u001b[39m\u001b[39m./data/\u001b[39m\u001b[39m{\u001b[39;00mlan\u001b[39m}\u001b[39;00m\u001b[39m.train\u001b[39m\u001b[39m'\u001b[39m, \u001b[39m'\u001b[39m\u001b[39mw\u001b[39m\u001b[39m'\u001b[39m)\n",
      "File \u001b[0;32m~/nacoproject/.conda/lib/python3.10/gzip.py:399\u001b[0m, in \u001b[0;36mGzipFile.readline\u001b[0;34m(self, size)\u001b[0m\n\u001b[1;32m    397\u001b[0m \u001b[39mdef\u001b[39;00m \u001b[39mreadline\u001b[39m(\u001b[39mself\u001b[39m, size\u001b[39m=\u001b[39m\u001b[39m-\u001b[39m\u001b[39m1\u001b[39m):\n\u001b[1;32m    398\u001b[0m     \u001b[39mself\u001b[39m\u001b[39m.\u001b[39m_check_not_closed()\n\u001b[0;32m--> 399\u001b[0m     \u001b[39mreturn\u001b[39;00m \u001b[39mself\u001b[39;49m\u001b[39m.\u001b[39;49m_buffer\u001b[39m.\u001b[39;49mreadline(size)\n",
      "\u001b[0;31mKeyboardInterrupt\u001b[0m: "
     ]
    }
   ],
   "source": [
    "languages = ['ar', 'de', 'el', 'en', 'eo', 'fr', 'hi', 'la', 'pl', 'ru', 'sw', 'zh']\n",
    "for lan in tqdm(languages):\n",
    "    preparedata(lan)"
   ]
  },
  {
   "cell_type": "code",
   "execution_count": 37,
   "metadata": {},
   "outputs": [],
   "source": [
    "preparedata('zh')"
   ]
  },
  {
   "cell_type": "code",
   "execution_count": 5,
   "metadata": {},
   "outputs": [],
   "source": [
    "def makealphabet():\n",
    "    with open('./utf8_sequence_0-0x10ffff_assigned_including-unprintable-asis.txt', 'rb') as f:\n",
    "        text = f.readlines()\n",
    "\n",
    "    writefile = open('./alphabet.txt', 'w') \n",
    "\n",
    "    for line in text:\n",
    "        line = line.decode('utf-8')\n",
    "        line = [line[i:i+10] for i in range(0, len(line), 10)]\n",
    "        for string in line:\n",
    "            writefile.write(f'{string}\\n')"
   ]
  },
  {
   "cell_type": "code",
   "execution_count": 6,
   "metadata": {},
   "outputs": [],
   "source": [
    "makealphabet()"
   ]
  },
  {
   "cell_type": "code",
   "execution_count": 21,
   "metadata": {},
   "outputs": [],
   "source": [
    "languages = ['ar', 'de', 'el', 'en', 'eo', 'fr', 'hi', 'la', 'pl', 'ru', 'sw', 'zh']\n",
    "abet = np.array([])\n",
    "for lan in languages:\n",
    "    with open(f'./data/{lan}.test', 'r') as f:\n",
    "        text = f.readlines()\n",
    "\n",
    "    for line in text:\n",
    "        chars = list(line)\n",
    "        abet = np.append(abet, chars)\n",
    "        abet = np.unique(abet)\n"
   ]
  },
  {
   "cell_type": "code",
   "execution_count": 23,
   "metadata": {},
   "outputs": [
    {
     "name": "stdout",
     "output_type": "stream",
     "text": [
      "2201\n"
     ]
    }
   ],
   "source": [
    "print(len(abet))"
   ]
  },
  {
   "cell_type": "code",
   "execution_count": 25,
   "metadata": {},
   "outputs": [],
   "source": [
    "with open('./alphabet.txt', 'w') as f:\n",
    "    for char in abet:\n",
    "        f.write(char)"
   ]
  },
  {
   "cell_type": "code",
   "execution_count": null,
   "metadata": {},
   "outputs": [],
   "source": []
  }
 ],
 "metadata": {
  "kernelspec": {
   "display_name": "Python 3",
   "language": "python",
   "name": "python3"
  },
  "language_info": {
   "codemirror_mode": {
    "name": "ipython",
    "version": 3
   },
   "file_extension": ".py",
   "mimetype": "text/x-python",
   "name": "python",
   "nbconvert_exporter": "python",
   "pygments_lexer": "ipython3",
   "version": "3.10.11"
  },
  "orig_nbformat": 4
 },
 "nbformat": 4,
 "nbformat_minor": 2
}
