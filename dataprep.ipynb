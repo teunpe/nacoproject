{
 "cells": [
  {
   "cell_type": "markdown",
   "metadata": {},
   "source": [
    "## Data Pre-processing"
   ]
  },
  {
   "cell_type": "code",
   "execution_count": 1,
   "metadata": {},
   "outputs": [
    {
     "name": "stdout",
     "output_type": "stream",
     "text": [
      "Requirement already satisfied: epitran in /Users/jo/miniconda3/envs/default/lib/python3.11/site-packages (1.24)\n",
      "Requirement already satisfied: setuptools in /Users/jo/miniconda3/envs/default/lib/python3.11/site-packages (from epitran) (65.6.3)\n",
      "Requirement already satisfied: regex in /Users/jo/miniconda3/envs/default/lib/python3.11/site-packages (from epitran) (2022.7.9)\n",
      "Requirement already satisfied: panphon>=0.20 in /Users/jo/miniconda3/envs/default/lib/python3.11/site-packages (from epitran) (0.20.0)\n",
      "Requirement already satisfied: marisa-trie in /Users/jo/miniconda3/envs/default/lib/python3.11/site-packages (from epitran) (0.8.0)\n",
      "Requirement already satisfied: requests in /Users/jo/miniconda3/envs/default/lib/python3.11/site-packages (from epitran) (2.24.0)\n",
      "Requirement already satisfied: unicodecsv in /Users/jo/miniconda3/envs/default/lib/python3.11/site-packages (from panphon>=0.20->epitran) (0.14.1)\n",
      "Requirement already satisfied: PyYAML in /Users/jo/miniconda3/envs/default/lib/python3.11/site-packages (from panphon>=0.20->epitran) (6.0)\n",
      "Requirement already satisfied: numpy>=1.20.2 in /Users/jo/miniconda3/envs/default/lib/python3.11/site-packages (from panphon>=0.20->epitran) (1.23.5)\n",
      "Requirement already satisfied: editdistance in /Users/jo/miniconda3/envs/default/lib/python3.11/site-packages (from panphon>=0.20->epitran) (0.6.2)\n",
      "Requirement already satisfied: munkres in /Users/jo/miniconda3/envs/default/lib/python3.11/site-packages (from panphon>=0.20->epitran) (1.1.4)\n",
      "Requirement already satisfied: chardet<4,>=3.0.2 in /Users/jo/miniconda3/envs/default/lib/python3.11/site-packages (from requests->epitran) (3.0.4)\n",
      "Requirement already satisfied: idna<3,>=2.5 in /Users/jo/miniconda3/envs/default/lib/python3.11/site-packages (from requests->epitran) (2.10)\n",
      "Requirement already satisfied: urllib3!=1.25.0,!=1.25.1,<1.26,>=1.21.1 in /Users/jo/miniconda3/envs/default/lib/python3.11/site-packages (from requests->epitran) (1.25.11)\n",
      "Requirement already satisfied: certifi>=2017.4.17 in /Users/jo/miniconda3/envs/default/lib/python3.11/site-packages (from requests->epitran) (2023.5.7)\n"
     ]
    }
   ],
   "source": [
    "!pip install epitran\n",
    "#You furthermore need to install Flite following the epitran documentation \n",
    "#chapterInstallation of Flite (for English G2P)at https://pypi.org/project/epitran/\n",
    "#if you want to use english\n",
    "#\n",
    "#downloadlink: http://tts.speech.cs.cmu.edu/awb/flite-2.0.5-current.tar.bz2"
   ]
  },
  {
   "cell_type": "code",
   "execution_count": 2,
   "metadata": {},
   "outputs": [],
   "source": [
    "import re\n",
    "from tqdm import tqdm\n",
    "import gzip\n",
    "import os\n",
    "import regex\n",
    "import numpy as np\n",
    "import epitran as epi"
   ]
  },
  {
   "attachments": {},
   "cell_type": "markdown",
   "metadata": {},
   "source": [
    "### Convert texts to IPA"
   ]
  },
  {
   "cell_type": "code",
   "execution_count": 8,
   "metadata": {},
   "outputs": [],
   "source": [
    "def filter_lines(text):\n",
    "    print(f'Text length before: {len(text)}')\n",
    "    filtered_text = [l for l in text if l not in [\"\\n\", \"\\r\\n\", \"\\r\"]]\n",
    "    print(f'Text length after: {len(filtered_text)}')\n",
    "    return filtered_text"
   ]
  },
  {
   "cell_type": "code",
   "execution_count": 15,
   "metadata": {},
   "outputs": [],
   "source": [
    "def getLangNotSupportedByEpitran(lan, repeats, lines=100, train=0, offset=0):\n",
    "    with gzip.open(f'./OSCAR-2109/packaged/{lan}/{lan}_part_1.txt.gz', 'rt', encoding=\"utf-8\") as f:\n",
    "        text = filter_lines(f.readlines())    \n",
    "    typ = 'test'\n",
    "    for repeat in range(repeats):\n",
    "        if repeat > repeats-train-1:\n",
    "            typ = 'train'\n",
    "        with open(f'./data/{lan}_raw_{repeat}.{typ}', 'w') as f:\n",
    "            f.writelines(text[offset+lines*repeat : offset+lines*(repeat+1)])"
   ]
  },
  {
   "cell_type": "code",
   "execution_count": 16,
   "metadata": {},
   "outputs": [
    {
     "name": "stdout",
     "output_type": "stream",
     "text": [
      "Text length before: 1137969\n",
      "Text length after: 1017290\n",
      "Text length before: 1137969\n",
      "Text length after: 1017290\n",
      "Text length before: 2120779\n",
      "Text length after: 1887544\n",
      "Text length before: 67295\n",
      "Text length after: 41856\n"
     ]
    }
   ],
   "source": [
    "getLangNotSupportedByEpitran(\"eo\", 3, 10)\n",
    "#train data should be split from test data therefore offset 3*100\n",
    "getLangNotSupportedByEpitran(\"eo\", 6, 100, 6, 300)\n",
    "#translated with https://www.internationalphoneticalphabet.org/esperanto-to-ipa-translator/\n",
    "getLangNotSupportedByEpitran(\"el\", 6), 10\n",
    "#translated with \n",
    "getLangNotSupportedByEpitran(\"la\", 6, 10)\n",
    "#translated with "
   ]
  },
  {
   "cell_type": "code",
   "execution_count": 30,
   "metadata": {},
   "outputs": [],
   "source": [
    "from epitran.backoff import Backoff\n",
    "de = epi.Epitran(\"deu-Latn\")\n",
    "de2 = epi.Epitran(\"deu-Latn-np\")\n",
    "de3 = epi.Epitran(\"deu-Latn-nar\")\n",
    "de4 = Backoff([\"deu-Latn\", \"eng-Latn\"])\n",
    "# flite needs to be installed for english\n",
    "en = epi.Epitran(\"eng-Latn\")\n",
    "pl = epi.Epitran(\"pol-Latn\")\n",
    "pl2 = Backoff([\"pol-Latn\", \"eng-Latn\"])\n",
    "hi = epi.Epitran(\"hin-Deva\")\n",
    "hi2 = Backoff([\"hin-Deva\", \"eng-Latn\"])\n",
    "fr = epi.Epitran(\"fra-Latn\")\n",
    "fr2 = epi.Epitran(\"fra-Latn-np\")\n",
    "ru = epi.Epitran(\"rus-Cyrl\")\n",
    "sw = epi.Epitran(\"swa-Latn\")\n",
    "sw2 = epi.Epitran(\"swa-Latn-red\")\n",
    "# cedict_file=\"cedict_1_0_ts_utf-8_mdbg.txt\" needed for chinese\n",
    "zh = epi.Epitran(\"cmn-Hant\", cedict_file=\"cedict_1_0_ts_utf-8_mdbg.txt\")\n",
    "zh2 = epi.Epitran(\"cmn-Hans\", cedict_file=\"cedict_1_0_ts_utf-8_mdbg.txt\")\n",
    "ar = epi.Epitran(\"ara-Arab\")\n",
    "   \n",
    "def getIPATexts(lan, epit, variant, repeats, lines=100, train=0, punc=False, lig=False, offset=0):\n",
    "    '''\n",
    "    Args:\n",
    "        epit(Epitran Object): has to fit the language selected\n",
    "        variant(string): should correspond to epitran model\n",
    "        punc(bool): toggles normpunc of transliterate function, enables punctuation normalization\n",
    "        lig(bool): toggles ligatures of transliterate function, enables non-standard IPA ligatures\n",
    "    '''\n",
    "    with gzip.open(f'./OSCAR-2109/packaged/{lan}/{lan}_part_1.txt.gz', 'rt', encoding=\"utf-8\") as f:\n",
    "        text = filter_lines(f.readlines())\n",
    "    \n",
    "    pu = li = \"\"\n",
    "    if punc:\n",
    "        pu=\"p\" \n",
    "    if lig:\n",
    "        li=\"l\"   \n",
    "    typ = 'test'\n",
    "    \n",
    "    for repeat in range(repeats):\n",
    "        if repeat > repeats-train-1:\n",
    "            typ = 'train'\n",
    "        with open(f'./data/{lan}_{repeat}_ipa_{variant}{pu}{li}.{typ}', 'w') as f:\n",
    "            i = 0\n",
    "            for line in (text[offset+lines*repeat : offset+lines*(repeat+1)]):\n",
    "                i += 1\n",
    "                #print(line)\n",
    "                #line = line.decode('utf-8')\n",
    "                #line = line.encode('utf-8')\n",
    "                l = \"\"\n",
    "                nl = \"\\n\"\n",
    "                for word in line:\n",
    "                    if isinstance(epit, Backoff): \n",
    "                        l = l + epit.transliterate(word)\n",
    "                    else:\n",
    "                        l = l + epit.transliterate(word, normpunc=punc, ligatures=lig)\n",
    "                f.writelines([l, nl])"
   ]
  },
  {
   "cell_type": "code",
   "execution_count": 31,
   "metadata": {},
   "outputs": [
    {
     "name": "stdout",
     "output_type": "stream",
     "text": [
      "Text length before: 2314610\n",
      "Text length after: 2055182\n",
      "Text length before: 2314610\n",
      "Text length after: 2055182\n",
      "Text length before: 3520868\n",
      "Text length after: 3144435\n",
      "Text length before: 3520868\n",
      "Text length after: 3144435\n",
      "Text length before: 3520868\n",
      "Text length after: 3144435\n",
      "Text length before: 3520868\n",
      "Text length after: 3144435\n",
      "Text length before: 3520868\n",
      "Text length after: 3144435\n",
      "Text length before: 3366485\n",
      "Text length after: 3037083\n",
      "Text length before: 3366485\n",
      "Text length after: 3037083\n",
      "Text length before: 3553903\n",
      "Text length after: 3197087\n",
      "Text length before: 3553903\n",
      "Text length after: 3197087\n",
      "Text length before: 3553903\n",
      "Text length after: 3197087\n",
      "Text length before: 1474984\n",
      "Text length after: 1287035\n",
      "Text length before: 1474984\n",
      "Text length after: 1287035\n",
      "Text length before: 1474984\n",
      "Text length after: 1287035\n",
      "Text length before: 3492916\n",
      "Text length after: 3108816\n",
      "Text length before: 3492916\n",
      "Text length after: 3108816\n",
      "Text length before: 3492916\n",
      "Text length after: 3108816\n",
      "Text length before: 2166144\n",
      "Text length after: 2000699\n",
      "Text length before: 2166144\n",
      "Text length after: 2000699\n",
      "Text length before: 61308\n",
      "Text length after: 37439\n",
      "Text length before: 61308\n",
      "Text length after: 37439\n",
      "Text length before: 61308\n",
      "Text length after: 37439\n",
      "Text length before: 1076683\n",
      "Text length after: 869724\n",
      "Text length before: 1076683\n",
      "Text length after: 869724\n",
      "Text length before: 1076683\n",
      "Text length after: 869724\n"
     ]
    }
   ],
   "source": [
    "languages = ['ar', 'de', 'en', 'fr', 'hi', 'pl', 'ru', 'sw', 'zh']\n",
    "variants = [[ar], [de, de2, de3, de4], [en], [fr, fr2], [hi, hi2], [pl, pl2], [ru], [sw, sw2], [zh, zh2]]\n",
    "for l, lan in enumerate(languages):\n",
    "    for v in range(len(variants[l])):\n",
    "        if v == 0:\n",
    "            for lig in [True, False]:\n",
    "                getIPATexts(lan, variants[l][v], v, 3, 10, lig=lig)\n",
    "        else:\n",
    "            getIPATexts(lan, variants[l][v], v, 3, 10)"
   ]
  },
  {
   "cell_type": "code",
   "execution_count": 19,
   "metadata": {},
   "outputs": [
    {
     "name": "stdout",
     "output_type": "stream",
     "text": [
      "30470\n"
     ]
    }
   ],
   "source": [
    "with open(f'./data/eo_raw_0.train', 'rt', encoding='utf-8') as f:\n",
    "    text = f.readlines()\n",
    "    i = 0\n",
    "    for line in text:\n",
    "        for w in line:\n",
    "            i+= 1\n",
    "    print(i)"
   ]
  },
  {
   "attachments": {},
   "cell_type": "markdown",
   "metadata": {},
   "source": [
    "### Prepare language files (chunking)"
   ]
  },
  {
   "cell_type": "code",
   "execution_count": 32,
   "metadata": {},
   "outputs": [],
   "source": [
    "def preparedata(lan, repeats, lines=100, train=0, transl=0, offset=0):\n",
    "    '''\n",
    "    Args:\n",
    "    tranls(bool): 0 orthographic literal text, 1 transliterated text\n",
    "    offset(int): offset of lines train test split, should be the same as in getLangNotSupportedEpitran()\n",
    "    '''    \n",
    "    if transl:\n",
    "        with gzip.open(f'./data/translit/{lan}_part_1_diacritics.txt.gz', 'rb') as f:\n",
    "            text = filter_lines(f.readlines())\n",
    "    else:\n",
    "        with gzip.open(f'./OSCAR-2109/packaged/{lan}/{lan}_part_1.txt.gz', 'rb') as f:\n",
    "            text = filter_lines(f.readlines())\n",
    "                \n",
    "    typ = 'test'\n",
    "    for repeat in range(repeats):\n",
    "        if repeat > repeats-train-1:\n",
    "            type = 'train'\n",
    "        if transl:\n",
    "            file = open(f'./data/{lan}_transl_{repeat}.{typ}', 'w')\n",
    "        else:    \n",
    "            file = open(f'./data/{lan}_{repeat}.{typ}', 'w')\n",
    "        i = 0\n",
    "        skip = False\n",
    "        for line in (text[offset:]):\n",
    "            if skip:\n",
    "                break\n",
    "            line = line.decode('utf-8')\n",
    "            line = regex.sub(r'-[\\p{L}_]', '', line)\n",
    "            line = line[:-3].lower().replace(' ', '\\x5f')\n",
    "            line = [line[i:i+10] for i in range(0, len(line), 10)]\n",
    "            for string in line:\n",
    "                if len(string) == 10:\n",
    "                    i += 1\n",
    "                    if i < lines*(repeat):\n",
    "                        continue\n",
    "                    if i > lines*(repeat+1):\n",
    "                        skip = True\n",
    "                        break\n",
    "                    file.write(f'{string}\\n')"
   ]
  },
  {
   "cell_type": "code",
   "execution_count": 35,
   "metadata": {},
   "outputs": [],
   "source": [
    "def prepareipadata(lan, repeats, lines=100, typ=\"test\"):   \n",
    "    for repeat in range(repeats):\n",
    "        with open(f'./data/{lan}_{repeat}_ipa_0.{typ}', 'rt', encoding='utf-8') as f:\n",
    "                text = f.readlines()\n",
    "        file = open(f'./data/{lan}_{repeat}.{typ}', 'w')\n",
    "        i = 0\n",
    "        for line in (text):\n",
    "            #line = line.decode('utf-8')\n",
    "            line = regex.sub(r'-[\\p{L}_]', '', line)\n",
    "            line = line[:-3].lower().replace(' ', '\\x5f')\n",
    "            line = [line[i:i+10] for i in range(0, len(line), 10)]\n",
    "            for string in line:\n",
    "                if len(string) == 10:\n",
    "                    i += 1\n",
    "                    if i < lines*(repeat):\n",
    "                        continue\n",
    "                    if i > lines*(repeat+1):\n",
    "                        break\n",
    "                    file.write(f'{string}\\n')"
   ]
  },
  {
   "cell_type": "code",
   "execution_count": 36,
   "metadata": {},
   "outputs": [
    {
     "name": "stderr",
     "output_type": "stream",
     "text": [
      "  0%|          | 0/11 [00:00<?, ?it/s]"
     ]
    },
    {
     "name": "stdout",
     "output_type": "stream",
     "text": [
      "Text length before: 2314610\n",
      "Text length after: 2314610\n"
     ]
    },
    {
     "name": "stderr",
     "output_type": "stream",
     "text": [
      "  9%|▉         | 1/11 [00:04<00:41,  4.11s/it]"
     ]
    },
    {
     "name": "stdout",
     "output_type": "stream",
     "text": [
      "Text length before: 3520868\n",
      "Text length after: 3520868\n"
     ]
    },
    {
     "name": "stderr",
     "output_type": "stream",
     "text": [
      " 18%|█▊        | 2/11 [00:09<00:42,  4.73s/it]"
     ]
    },
    {
     "name": "stdout",
     "output_type": "stream",
     "text": [
      "Text length before: 2120779\n",
      "Text length after: 2120779\n"
     ]
    },
    {
     "name": "stderr",
     "output_type": "stream",
     "text": [
      " 27%|██▋       | 3/11 [00:13<00:35,  4.40s/it]"
     ]
    },
    {
     "name": "stdout",
     "output_type": "stream",
     "text": [
      "Text length before: 3366454\n",
      "Text length after: 3366454\n"
     ]
    },
    {
     "name": "stderr",
     "output_type": "stream",
     "text": [
      " 36%|███▋      | 4/11 [00:18<00:32,  4.67s/it]"
     ]
    },
    {
     "name": "stdout",
     "output_type": "stream",
     "text": [
      "Text length before: 3553891\n",
      "Text length after: 3553891\n"
     ]
    },
    {
     "name": "stderr",
     "output_type": "stream",
     "text": [
      " 45%|████▌     | 5/11 [00:23<00:28,  4.81s/it]"
     ]
    },
    {
     "name": "stdout",
     "output_type": "stream",
     "text": [
      "Text length before: 1474984\n",
      "Text length after: 1474984\n"
     ]
    },
    {
     "name": "stderr",
     "output_type": "stream",
     "text": [
      " 55%|█████▍    | 6/11 [00:26<00:21,  4.31s/it]"
     ]
    },
    {
     "name": "stdout",
     "output_type": "stream",
     "text": [
      "Text length before: 67295\n",
      "Text length after: 67295\n",
      "Text length before: 3492892\n",
      "Text length after: 3492892\n"
     ]
    },
    {
     "name": "stderr",
     "output_type": "stream",
     "text": [
      " 73%|███████▎  | 8/11 [00:32<00:10,  3.51s/it]"
     ]
    },
    {
     "name": "stdout",
     "output_type": "stream",
     "text": [
      "Text length before: 2165965\n",
      "Text length after: 2165965\n"
     ]
    },
    {
     "name": "stderr",
     "output_type": "stream",
     "text": [
      " 82%|████████▏ | 9/11 [00:36<00:07,  3.61s/it]"
     ]
    },
    {
     "name": "stdout",
     "output_type": "stream",
     "text": [
      "Text length before: 61286\n",
      "Text length after: 61286\n"
     ]
    },
    {
     "name": "stderr",
     "output_type": "stream",
     "text": [
      "100%|██████████| 11/11 [00:39<00:00,  3.62s/it]\n"
     ]
    },
    {
     "name": "stdout",
     "output_type": "stream",
     "text": [
      "Text length before: 1076683\n",
      "Text length after: 1076683\n"
     ]
    },
    {
     "name": "stderr",
     "output_type": "stream",
     "text": [
      "100%|██████████| 5/5 [00:00<00:00, 850.19it/s]"
     ]
    },
    {
     "name": "stdout",
     "output_type": "stream",
     "text": [
      "Text length before: 10\n",
      "Text length after: 10\n",
      "Text length before: 50\n",
      "Text length after: 50\n",
      "Text length before: 18\n",
      "Text length after: 18\n",
      "Text length before: 50\n",
      "Text length after: 50\n",
      "Text length before: 25\n",
      "Text length after: 25\n"
     ]
    },
    {
     "name": "stderr",
     "output_type": "stream",
     "text": [
      "\n"
     ]
    },
    {
     "name": "stdout",
     "output_type": "stream",
     "text": [
      "Text length before: 1137967\n",
      "Text length after: 1137967\n",
      "Text length before: 1137967\n",
      "Text length after: 1137967\n"
     ]
    },
    {
     "ename": "FileNotFoundError",
     "evalue": "[Errno 2] No such file or directory: './data/eo_0_ipa_0.train'",
     "output_type": "error",
     "traceback": [
      "\u001b[0;31m---------------------------------------------------------------------------\u001b[0m",
      "\u001b[0;31mFileNotFoundError\u001b[0m                         Traceback (most recent call last)",
      "Cell \u001b[0;32mIn[36], line 20\u001b[0m\n\u001b[1;32m     17\u001b[0m \u001b[39m#prepareipadata('eo', 3)\u001b[39;00m\n\u001b[1;32m     18\u001b[0m \u001b[39m#only Esperanto train\u001b[39;00m\n\u001b[1;32m     19\u001b[0m preparedata(\u001b[39m'\u001b[39m\u001b[39meo\u001b[39m\u001b[39m'\u001b[39m, \u001b[39m6\u001b[39m, \u001b[39m3500\u001b[39m, \u001b[39m6\u001b[39m, offset\u001b[39m=\u001b[39m\u001b[39m300\u001b[39m)\n\u001b[0;32m---> 20\u001b[0m prepareipadata(\u001b[39m'\u001b[39;49m\u001b[39meo\u001b[39;49m\u001b[39m'\u001b[39;49m, \u001b[39m3\u001b[39;49m, \u001b[39m3500\u001b[39;49m, \u001b[39m\"\u001b[39;49m\u001b[39mtrain\u001b[39;49m\u001b[39m\"\u001b[39;49m)\n",
      "Cell \u001b[0;32mIn[35], line 3\u001b[0m, in \u001b[0;36mprepareipadata\u001b[0;34m(lan, repeats, lines, typ)\u001b[0m\n\u001b[1;32m      1\u001b[0m \u001b[39mdef\u001b[39;00m \u001b[39mprepareipadata\u001b[39m(lan, repeats, lines\u001b[39m=\u001b[39m\u001b[39m100\u001b[39m, typ\u001b[39m=\u001b[39m\u001b[39m\"\u001b[39m\u001b[39mtest\u001b[39m\u001b[39m\"\u001b[39m):   \n\u001b[1;32m      2\u001b[0m     \u001b[39mfor\u001b[39;00m repeat \u001b[39min\u001b[39;00m \u001b[39mrange\u001b[39m(repeats):\n\u001b[0;32m----> 3\u001b[0m         \u001b[39mwith\u001b[39;00m \u001b[39mopen\u001b[39;49m(\u001b[39mf\u001b[39;49m\u001b[39m'\u001b[39;49m\u001b[39m./data/\u001b[39;49m\u001b[39m{\u001b[39;49;00mlan\u001b[39m}\u001b[39;49;00m\u001b[39m_\u001b[39;49m\u001b[39m{\u001b[39;49;00mrepeat\u001b[39m}\u001b[39;49;00m\u001b[39m_ipa_0.\u001b[39;49m\u001b[39m{\u001b[39;49;00mtyp\u001b[39m}\u001b[39;49;00m\u001b[39m'\u001b[39;49m, \u001b[39m'\u001b[39;49m\u001b[39mrt\u001b[39;49m\u001b[39m'\u001b[39;49m, encoding\u001b[39m=\u001b[39;49m\u001b[39m'\u001b[39;49m\u001b[39mutf-8\u001b[39;49m\u001b[39m'\u001b[39;49m) \u001b[39mas\u001b[39;00m f:\n\u001b[1;32m      4\u001b[0m                 text \u001b[39m=\u001b[39m f\u001b[39m.\u001b[39mreadlines()\n\u001b[1;32m      5\u001b[0m         file \u001b[39m=\u001b[39m \u001b[39mopen\u001b[39m(\u001b[39mf\u001b[39m\u001b[39m'\u001b[39m\u001b[39m./data/\u001b[39m\u001b[39m{\u001b[39;00mlan\u001b[39m}\u001b[39;00m\u001b[39m_\u001b[39m\u001b[39m{\u001b[39;00mrepeat\u001b[39m}\u001b[39;00m\u001b[39m.\u001b[39m\u001b[39m{\u001b[39;00mtyp\u001b[39m}\u001b[39;00m\u001b[39m'\u001b[39m, \u001b[39m'\u001b[39m\u001b[39mw\u001b[39m\u001b[39m'\u001b[39m)\n",
      "File \u001b[0;32m~/miniconda3/envs/default/lib/python3.11/site-packages/IPython/core/interactiveshell.py:284\u001b[0m, in \u001b[0;36m_modified_open\u001b[0;34m(file, *args, **kwargs)\u001b[0m\n\u001b[1;32m    277\u001b[0m \u001b[39mif\u001b[39;00m file \u001b[39min\u001b[39;00m {\u001b[39m0\u001b[39m, \u001b[39m1\u001b[39m, \u001b[39m2\u001b[39m}:\n\u001b[1;32m    278\u001b[0m     \u001b[39mraise\u001b[39;00m \u001b[39mValueError\u001b[39;00m(\n\u001b[1;32m    279\u001b[0m         \u001b[39mf\u001b[39m\u001b[39m\"\u001b[39m\u001b[39mIPython won\u001b[39m\u001b[39m'\u001b[39m\u001b[39mt let you open fd=\u001b[39m\u001b[39m{\u001b[39;00mfile\u001b[39m}\u001b[39;00m\u001b[39m by default \u001b[39m\u001b[39m\"\u001b[39m\n\u001b[1;32m    280\u001b[0m         \u001b[39m\"\u001b[39m\u001b[39mas it is likely to crash IPython. If you know what you are doing, \u001b[39m\u001b[39m\"\u001b[39m\n\u001b[1;32m    281\u001b[0m         \u001b[39m\"\u001b[39m\u001b[39myou can use builtins\u001b[39m\u001b[39m'\u001b[39m\u001b[39m open.\u001b[39m\u001b[39m\"\u001b[39m\n\u001b[1;32m    282\u001b[0m     )\n\u001b[0;32m--> 284\u001b[0m \u001b[39mreturn\u001b[39;00m io_open(file, \u001b[39m*\u001b[39;49margs, \u001b[39m*\u001b[39;49m\u001b[39m*\u001b[39;49mkwargs)\n",
      "\u001b[0;31mFileNotFoundError\u001b[0m: [Errno 2] No such file or directory: './data/eo_0_ipa_0.train'"
     ]
    }
   ],
   "source": [
    "languages = ['ar', 'de', 'el', 'en', 'fr', 'hi', 'la', 'pl', 'ru', 'sw', 'zh']\n",
    "tlanguages = ['ar', 'el', 'hi', 'ru', 'zh']\n",
    "\n",
    "#all languages\n",
    "for lan in tqdm(languages):\n",
    "    preparedata(lan, 3)\n",
    "    if lan in ['el', 'la']:\n",
    "        continue\n",
    "    prepareipadata(lan, 3)\n",
    "\n",
    "#only transliterated\n",
    "for lan in tqdm(tlanguages):\n",
    "    preparedata(lan, 3, 100, 0, 1)\n",
    "\n",
    "#only Esperanto test\n",
    "preparedata('eo', 3) \n",
    "#prepareipadata('eo', 3)\n",
    "#only Esperanto train\n",
    "preparedata('eo', 6, 3500, 6, offset=300)\n",
    "prepareipadata('eo', 3, 3500, \"train\")"
   ]
  },
  {
   "cell_type": "markdown",
   "metadata": {},
   "source": [
    "### Make alphabets"
   ]
  },
  {
   "cell_type": "code",
   "execution_count": 54,
   "metadata": {},
   "outputs": [],
   "source": [
    "languages = ['ar', 'de', 'el', 'en', 'eo', 'fr', 'hi', 'la', 'pl', 'ru', 'sw'] #no chinese\n",
    "transl = ['ar', 'el', 'hi', 'ru']\n",
    "\n",
    "def makealphabet1(lan_set, transl=0): #lan_set: transl or not, if transl put transl=1\n",
    "    gabet=np.array([])\n",
    "    \n",
    "    for lan in tqdm(lan_set):\n",
    "        abet = np.array([])\n",
    "\n",
    "        for r in range(3):\n",
    "            if transl:\n",
    "                with open(f'./data/{lan}_transl_{r}.test', 'r') as f:\n",
    "                    text = f.readlines()\n",
    "                    \n",
    "            else:\n",
    "                with open(f'./data/{lan}_{r}.test', 'r') as f:\n",
    "                    text = f.readlines()\n",
    "\n",
    "            with open(f'./data/eo_{r}.train', 'r') as f:\n",
    "                eo = f.readlines()\n",
    "\n",
    "            for line in text:\n",
    "                chars = list(line)\n",
    "                abet = np.append(abet, chars)\n",
    "                abet = np.unique(abet)\n",
    "\n",
    "            for line in eo:\n",
    "                chars = list(line)\n",
    "                abet = np.append(abet, chars)\n",
    "                abet = np.unique(abet)\n",
    "\n",
    "        gabet=np.append(gabet, abet)\n",
    "        \n",
    "        if transl:\n",
    "            with open(f'./alphabets/alphabet_{lan}_transl.txt', 'w') as f:\n",
    "                for char in abet:\n",
    "                    f.write(char)\n",
    "        else:\n",
    "            with open(f'./alphabets/alphabet_{lan}.txt', 'w') as f:\n",
    "                for char in abet:\n",
    "                    f.write(char)\n",
    "        \n",
    "    return gabet"
   ]
  },
  {
   "cell_type": "code",
   "execution_count": 55,
   "metadata": {},
   "outputs": [
    {
     "name": "stderr",
     "output_type": "stream",
     "text": [
      "\n",
      "  0%|          | 0/11 [00:00<?, ?it/s]\u001b[A\n",
      "  9%|▉         | 1/11 [00:00<00:02,  3.78it/s]\u001b[A\n",
      " 18%|█▊        | 2/11 [00:00<00:02,  3.70it/s]\u001b[A\n",
      " 27%|██▋       | 3/11 [00:00<00:02,  3.56it/s]\u001b[A\n",
      " 36%|███▋      | 4/11 [00:01<00:01,  3.73it/s]\u001b[A\n",
      " 45%|████▌     | 5/11 [00:01<00:01,  3.89it/s]\u001b[A\n",
      " 55%|█████▍    | 6/11 [00:01<00:01,  4.01it/s]\u001b[A\n",
      " 64%|██████▎   | 7/11 [00:01<00:01,  3.72it/s]\u001b[A\n",
      " 73%|███████▎  | 8/11 [00:02<00:00,  3.82it/s]\u001b[A\n",
      " 82%|████████▏ | 9/11 [00:02<00:00,  3.66it/s]\u001b[A\n",
      " 91%|█████████ | 10/11 [00:02<00:00,  3.78it/s]\u001b[A\n",
      "100%|██████████| 11/11 [00:02<00:00,  3.83it/s]\u001b[A\n",
      "\n",
      "  0%|          | 0/4 [00:00<?, ?it/s]\u001b[A\n",
      " 25%|██▌       | 1/4 [00:00<00:00,  3.63it/s]\u001b[A\n",
      " 50%|█████     | 2/4 [00:00<00:00,  3.45it/s]\u001b[A\n",
      " 75%|███████▌  | 3/4 [00:00<00:00,  3.72it/s]\u001b[A\n",
      "100%|██████████| 4/4 [00:01<00:00,  3.81it/s]\u001b[A\n"
     ]
    }
   ],
   "source": [
    "gabet = makealphabet1(languages) #literal\n",
    "tgabet = makealphabet1(transl, 1) #transliteral\n",
    "for ch in tgabet:\n",
    "    gabet = np.append(gabet, ch) #combined (global)"
   ]
  },
  {
   "cell_type": "code",
   "execution_count": 57,
   "metadata": {},
   "outputs": [
    {
     "name": "stdout",
     "output_type": "stream",
     "text": [
      "Global alphabet length: 330\n",
      "Global (transliterated) alphabet length: 163\n"
     ]
    }
   ],
   "source": [
    "#writing global aplphabets\n",
    "c=0\n",
    "c1=0\n",
    "\n",
    "#literal\n",
    "with open('./alphabets/alphabet.txt', 'w') as f:\n",
    "    for char in np.unique(gabet):\n",
    "        c+=1\n",
    "        f.write(char)\n",
    "\n",
    "#transliteral\n",
    "with open('./alphabets/talphabet.txt', 'w') as f:\n",
    "    for char in np.unique(tgabet):\n",
    "        c1+=1\n",
    "        f.write(char)\n",
    "        \n",
    "print('Global alphabet length:', c)\n",
    "print('Global (transliterated) alphabet length:', c1)"
   ]
  },
  {
   "cell_type": "markdown",
   "metadata": {},
   "source": [
    "### Convert to phonetics (IPA)"
   ]
  },
  {
   "cell_type": "code",
   "execution_count": null,
   "metadata": {},
   "outputs": [],
   "source": []
  },
  {
   "cell_type": "code",
   "execution_count": null,
   "metadata": {},
   "outputs": [],
   "source": []
  },
  {
   "cell_type": "code",
   "execution_count": null,
   "metadata": {},
   "outputs": [],
   "source": []
  }
 ],
 "metadata": {
  "kernelspec": {
   "display_name": "default",
   "language": "python",
   "name": "python3"
  },
  "language_info": {
   "codemirror_mode": {
    "name": "ipython",
    "version": 3
   },
   "file_extension": ".py",
   "mimetype": "text/x-python",
   "name": "python",
   "nbconvert_exporter": "python",
   "pygments_lexer": "ipython3",
   "version": "3.11.2"
  },
  "vscode": {
   "interpreter": {
    "hash": "9eacc2bccd90d4fdc3a9d909f208349a62003e5d547aebb0c1a50feb5083274a"
   }
  }
 },
 "nbformat": 4,
 "nbformat_minor": 2
}
