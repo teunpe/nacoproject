{
 "cells": [
  {
   "cell_type": "code",
   "execution_count": 55,
   "metadata": {},
   "outputs": [],
   "source": [
    "import re\n",
    "from tqdm import tqdm\n",
    "import gzip\n",
    "import os\n",
    "import regex\n",
    "import numpy as np"
   ]
  },
  {
   "cell_type": "code",
   "execution_count": 58,
   "metadata": {},
   "outputs": [],
   "source": [
    "def preparedata(lan, repeats, train=0):\n",
    "    with gzip.open(f'./OSCAR-2109/packaged/{lan}/{lan}_part_1.txt.gz', 'rb') as f:\n",
    "            text = f.readlines()\n",
    "    type = 'test'\n",
    "    for repeat in range(repeats):\n",
    "        if repeat > repeats-train-1:\n",
    "            type = 'train'\n",
    "        file = open(f'./data/{lan}_{repeat}.{type}', 'w')\n",
    "        i = 0\n",
    "        skip = False\n",
    "        for line in (text):\n",
    "            if skip:\n",
    "                break\n",
    "            line = line.decode('utf-8')\n",
    "            line = regex.sub(r'-[\\p{L}_]', '', line)\n",
    "            line = line[:-3].lower().replace(' ', '\\x5f')\n",
    "            line = [line[i:i+10] for i in range(0, len(line), 10)]\n",
    "            for string in line:\n",
    "                if len(string) == 10:\n",
    "                    i += 1\n",
    "                    if i < 100*(repeat):\n",
    "                        continue\n",
    "                    if i > 100*(repeat+1):\n",
    "                        skip = True\n",
    "                        break\n",
    "                    file.write(f'{string}\\n')"
   ]
  },
  {
   "cell_type": "code",
   "execution_count": 59,
   "metadata": {},
   "outputs": [
    {
     "name": "stderr",
     "output_type": "stream",
     "text": [
      "100%|██████████| 11/11 [00:44<00:00,  4.07s/it]\n"
     ]
    }
   ],
   "source": [
    "languages = ['ar', 'de', 'el', 'en', 'fr', 'hi', 'la', 'pl', 'ru', 'sw', 'zh']\n",
    "for lan in tqdm(languages):\n",
    "    preparedata(lan, 3)\n",
    "preparedata('eo', 6, 3)"
   ]
  },
  {
   "cell_type": "code",
   "execution_count": 5,
   "metadata": {},
   "outputs": [],
   "source": [
    "def makealphabet():\n",
    "    with open('./utf8_sequence_0-0x10ffff_assigned_including-unprintable-asis.txt', 'rb') as f:\n",
    "        text = f.readlines()\n",
    "\n",
    "    writefile = open('./alphabet.txt', 'w') \n",
    "\n",
    "    for line in text:\n",
    "        line = line.decode('utf-8')\n",
    "        line = [line[i:i+10] for i in range(0, len(line), 10)]\n",
    "        for string in line:\n",
    "            writefile.write(f'{string}\\n')"
   ]
  },
  {
   "cell_type": "code",
   "execution_count": 6,
   "metadata": {},
   "outputs": [],
   "source": [
    "makealphabet()"
   ]
  },
  {
   "cell_type": "code",
   "execution_count": 62,
   "metadata": {},
   "outputs": [
    {
     "name": "stderr",
     "output_type": "stream",
     "text": [
      "100%|██████████| 5/5 [00:00<00:00,  5.82it/s]\n"
     ]
    }
   ],
   "source": [
    "languages = ['ar', 'de', 'el', 'en', 'eo', 'fr', 'hi', 'la', 'pl', 'ru', 'sw', 'zh']\n",
    "transl = ['ar', 'el', 'hi', 'ru','zh']\n",
    "for lan in tqdm(transl):\n",
    "    abet = np.array([])\n",
    "\n",
    "    for r in range(3):\n",
    "        with open(f'./data/{lan}_transl_{r}.test', 'r') as f:\n",
    "            text = f.readlines()\n",
    "\n",
    "        with open(f'./data/eo_{r}.train', 'r') as f:\n",
    "            eo = f.readlines()\n",
    "\n",
    "        for line in text:\n",
    "            chars = list(line)\n",
    "            abet = np.append(abet, chars)\n",
    "            abet = np.unique(abet)\n",
    "        \n",
    "        for line in eo:\n",
    "            chars = list(line)\n",
    "            abet = np.append(abet, chars)\n",
    "            abet = np.unique(abet)\n",
    "\n",
    "    with open(f'./alphabets/alphabet_{lan}_transl.txt', 'w') as f:\n",
    "        for char in abet:\n",
    "            f.write(char)"
   ]
  },
  {
   "cell_type": "code",
   "execution_count": 27,
   "metadata": {},
   "outputs": [
    {
     "name": "stdout",
     "output_type": "stream",
     "text": [
      "315\n"
     ]
    }
   ],
   "source": [
    "print(len(abet))"
   ]
  },
  {
   "cell_type": "code",
   "execution_count": 28,
   "metadata": {},
   "outputs": [],
   "source": [
    "with open('./alphabet.txt', 'w') as f:\n",
    "    for char in abet:\n",
    "        f.write(char)"
   ]
  },
  {
   "attachments": {},
   "cell_type": "markdown",
   "metadata": {},
   "source": [
    "#### Preparing of transliterated langs"
   ]
  },
  {
   "cell_type": "code",
   "execution_count": 60,
   "metadata": {},
   "outputs": [],
   "source": [
    "def preparetransl(lan, repeats, train=0):\n",
    "    with open(f'./data/{lan}_transl.test', 'rb') as f:\n",
    "            text = f.readlines()\n",
    "    type = 'test'\n",
    "    for repeat in range(repeats):\n",
    "        if repeat > repeats-train-1:\n",
    "            type = 'train'\n",
    "        file = open(f'./data/{lan}_transl_{repeat}.{type}', 'w')\n",
    "        i = 0\n",
    "        skip = False\n",
    "        for line in (text):\n",
    "            if skip:\n",
    "                break\n",
    "            line = line.decode('utf-8')\n",
    "            line = regex.sub(r'-[\\p{L}_]', '', line)\n",
    "            line = line[:-3].lower().replace(' ', '\\x5f')\n",
    "            line = [line[i:i+10] for i in range(0, len(line), 10)]\n",
    "            for string in line:\n",
    "                if len(string) == 10:\n",
    "                    i += 1\n",
    "                    if i < 100*(repeat):\n",
    "                        continue\n",
    "                    if i > 100*(repeat+1):\n",
    "                        skip = True\n",
    "                        break\n",
    "                    file.write(f'{string}\\n')"
   ]
  },
  {
   "cell_type": "code",
   "execution_count": 61,
   "metadata": {},
   "outputs": [],
   "source": [
    "for lan in ['ar', 'el', 'hi', 'ru', 'zh']:\n",
    "    preparetransl(lan, 3)"
   ]
  },
  {
   "cell_type": "code",
   "execution_count": null,
   "metadata": {},
   "outputs": [],
   "source": []
  }
 ],
 "metadata": {
  "kernelspec": {
   "display_name": "Python 3",
   "language": "python",
   "name": "python3"
  },
  "language_info": {
   "codemirror_mode": {
    "name": "ipython",
    "version": 3
   },
   "file_extension": ".py",
   "mimetype": "text/x-python",
   "name": "python",
   "nbconvert_exporter": "python",
   "pygments_lexer": "ipython3",
   "version": "3.10.11"
  },
  "orig_nbformat": 4
 },
 "nbformat": 4,
 "nbformat_minor": 2
}
