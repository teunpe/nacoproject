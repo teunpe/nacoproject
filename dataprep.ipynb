{
 "cells": [
  {
   "cell_type": "markdown",
   "metadata": {},
   "source": [
    "## Data Pre-processing"
   ]
  },
  {
   "cell_type": "code",
   "execution_count": 2,
   "metadata": {},
   "outputs": [
    {
     "name": "stdout",
     "output_type": "stream",
     "text": [
      "Requirement already satisfied: epitran in /Users/jo/miniconda3/envs/default/lib/python3.11/site-packages (1.24)\n",
      "Requirement already satisfied: setuptools in /Users/jo/miniconda3/envs/default/lib/python3.11/site-packages (from epitran) (65.6.3)\n",
      "Requirement already satisfied: regex in /Users/jo/miniconda3/envs/default/lib/python3.11/site-packages (from epitran) (2022.7.9)\n",
      "Requirement already satisfied: panphon>=0.20 in /Users/jo/miniconda3/envs/default/lib/python3.11/site-packages (from epitran) (0.20.0)\n",
      "Requirement already satisfied: marisa-trie in /Users/jo/miniconda3/envs/default/lib/python3.11/site-packages (from epitran) (0.8.0)\n",
      "Requirement already satisfied: requests in /Users/jo/miniconda3/envs/default/lib/python3.11/site-packages (from epitran) (2.24.0)\n",
      "Requirement already satisfied: unicodecsv in /Users/jo/miniconda3/envs/default/lib/python3.11/site-packages (from panphon>=0.20->epitran) (0.14.1)\n",
      "Requirement already satisfied: PyYAML in /Users/jo/miniconda3/envs/default/lib/python3.11/site-packages (from panphon>=0.20->epitran) (6.0)\n",
      "Requirement already satisfied: numpy>=1.20.2 in /Users/jo/miniconda3/envs/default/lib/python3.11/site-packages (from panphon>=0.20->epitran) (1.23.5)\n",
      "Requirement already satisfied: editdistance in /Users/jo/miniconda3/envs/default/lib/python3.11/site-packages (from panphon>=0.20->epitran) (0.6.2)\n",
      "Requirement already satisfied: munkres in /Users/jo/miniconda3/envs/default/lib/python3.11/site-packages (from panphon>=0.20->epitran) (1.1.4)\n",
      "Requirement already satisfied: chardet<4,>=3.0.2 in /Users/jo/miniconda3/envs/default/lib/python3.11/site-packages (from requests->epitran) (3.0.4)\n",
      "Requirement already satisfied: idna<3,>=2.5 in /Users/jo/miniconda3/envs/default/lib/python3.11/site-packages (from requests->epitran) (2.10)\n",
      "Requirement already satisfied: urllib3!=1.25.0,!=1.25.1,<1.26,>=1.21.1 in /Users/jo/miniconda3/envs/default/lib/python3.11/site-packages (from requests->epitran) (1.25.11)\n",
      "Requirement already satisfied: certifi>=2017.4.17 in /Users/jo/miniconda3/envs/default/lib/python3.11/site-packages (from requests->epitran) (2023.5.7)\n"
     ]
    }
   ],
   "source": [
    "!pip install epitran\n",
    "#You furthermore need to install Flite following the epitran documentation \n",
    "#chapterInstallation of Flite (for English G2P)at https://pypi.org/project/epitran/\n",
    "#if you want to use english\n",
    "#\n",
    "#downloadlink: http://tts.speech.cs.cmu.edu/awb/flite-2.0.5-current.tar.bz2"
   ]
  },
  {
   "cell_type": "code",
   "execution_count": 2,
   "metadata": {},
   "outputs": [],
   "source": [
    "import re\n",
    "from tqdm import tqdm\n",
    "import gzip\n",
    "import os\n",
    "import regex\n",
    "import numpy as np\n",
    "import epitran as epi"
   ]
  },
  {
   "attachments": {},
   "cell_type": "markdown",
   "metadata": {},
   "source": [
    "### Convert texts to IPA"
   ]
  },
  {
   "cell_type": "code",
   "execution_count": 4,
   "metadata": {},
   "outputs": [],
   "source": [
    "def filter_lines(text):\n",
    "    print(f'Text length before: {len(text)}')\n",
    "    filtered_text = [l for l in text if l not in [\"\\n\", \"\\r\\n\", \"\\r\"]]\n",
    "    print(f'Text length after: {len(filtered_text)}')\n",
    "    return filtered_text"
   ]
  },
  {
   "cell_type": "code",
   "execution_count": 5,
   "metadata": {},
   "outputs": [],
   "source": [
    "def getLangNotSupportedByEpitran(lan, repeats, lines=100, train=0, offset=0):\n",
    "    with gzip.open(f'./OSCAR-2109/packaged/{lan}/{lan}_part_1.txt.gz', 'rt', encoding=\"utf-8\") as f:\n",
    "        text = filter_lines(f.readlines())    \n",
    "    typ = 'test'\n",
    "    for repeat in range(repeats):\n",
    "        if repeat > repeats-train-1:\n",
    "            typ = 'train'\n",
    "        with open(f'./data/{lan}_raw_{repeat}.{typ}', 'w') as f:\n",
    "            f.writelines(text[offset+lines*repeat : offset+lines*(repeat+1)])"
   ]
  },
  {
   "cell_type": "code",
   "execution_count": 16,
   "metadata": {},
   "outputs": [
    {
     "name": "stdout",
     "output_type": "stream",
     "text": [
      "Text length before: 1137969\n",
      "Text length after: 1017290\n",
      "Text length before: 1137969\n",
      "Text length after: 1017290\n",
      "Text length before: 2120779\n",
      "Text length after: 1887544\n",
      "Text length before: 67295\n",
      "Text length after: 41856\n"
     ]
    }
   ],
   "source": [
    "getLangNotSupportedByEpitran(\"eo\", 3, 10)\n",
    "#train data should be split from test data therefore offset 3*100\n",
    "getLangNotSupportedByEpitran(\"eo\", 6, 100, 6, 300)\n",
    "#translated with https://www.internationalphoneticalphabet.org/esperanto-to-ipa-translator/\n",
    "getLangNotSupportedByEpitran(\"el\", 6), 10\n",
    "#translated with \n",
    "getLangNotSupportedByEpitran(\"la\", 6, 10)\n",
    "#translated with "
   ]
  },
  {
   "cell_type": "code",
   "execution_count": 10,
   "metadata": {},
   "outputs": [],
   "source": [
    "from epitran.backoff import Backoff\n",
    "de = epi.Epitran(\"deu-Latn\")\n",
    "de2 = epi.Epitran(\"deu-Latn-np\")\n",
    "de3 = epi.Epitran(\"deu-Latn-nar\")\n",
    "de4 = Backoff([\"deu-Latn\", \"eng-Latn\"])\n",
    "# flite needs to be installed for english\n",
    "en = epi.Epitran(\"eng-Latn\")\n",
    "pl = epi.Epitran(\"pol-Latn\")\n",
    "pl2 = Backoff([\"pol-Latn\", \"eng-Latn\"])\n",
    "hi = epi.Epitran(\"hin-Deva\")\n",
    "hi2 = Backoff([\"hin-Deva\", \"eng-Latn\"])\n",
    "fr = epi.Epitran(\"fra-Latn\")\n",
    "fr2 = epi.Epitran(\"fra-Latn-np\")\n",
    "ru = epi.Epitran(\"rus-Cyrl\")\n",
    "sw = epi.Epitran(\"swa-Latn\")\n",
    "sw2 = epi.Epitran(\"swa-Latn-red\")\n",
    "# cedict_file=\"cedict_1_0_ts_utf-8_mdbg.txt\" needed for chinese\n",
    "zh = epi.Epitran(\"cmn-Hant\", cedict_file=\"cedict_1_0_ts_utf-8_mdbg.txt\")\n",
    "zh2 = epi.Epitran(\"cmn-Hans\", cedict_file=\"cedict_1_0_ts_utf-8_mdbg.txt\")\n",
    "ar = epi.Epitran(\"ara-Arab\")\n",
    "   \n",
    "def getIPATexts(lan, epit, variant, repeats, lines=100, train=0, punc=False, lig=False, offset=0):\n",
    "    '''\n",
    "    Args:\n",
    "        epit(Epitran Object): has to fit the language selected\n",
    "        variant(string): should correspond to epitran model\n",
    "        punc(bool): toggles normpunc of transliterate function, enables punctuation normalization\n",
    "        lig(bool): toggles ligatures of transliterate function, enables non-standard IPA ligatures\n",
    "    '''\n",
    "    with gzip.open(f'./OSCAR-2109/packaged/{lan}/{lan}_part_1.txt.gz', 'rt', encoding=\"utf-8\") as f:\n",
    "        text = filter_lines(f.readlines())\n",
    "    \n",
    "    pu = li = \"\"\n",
    "    if punc:\n",
    "        pu=\"p\" \n",
    "    if lig:\n",
    "        li=\"l\"   \n",
    "    typ = 'test'\n",
    "    \n",
    "    for repeat in range(repeats):\n",
    "        if repeat > repeats-train-1:\n",
    "            typ = 'train'\n",
    "        with open(f'./data/{lan}_raw_{repeat}_ipa_{variant}{pu}{li}.{typ}', 'w') as f:\n",
    "            i = 0\n",
    "            for line in (text[offset+lines*repeat : offset+lines*(repeat+1)]):\n",
    "                i += 1\n",
    "                #print(line)\n",
    "                #line = line.decode('utf-8')\n",
    "                #line = line.encode('utf-8')\n",
    "                l = \"\"\n",
    "                nl = \"\\n\"\n",
    "                for word in line:\n",
    "                    if isinstance(epit, Backoff): \n",
    "                        l = l + epit.transliterate(word)\n",
    "                    else:\n",
    "                        l = l + epit.transliterate(word, normpunc=punc, ligatures=lig)\n",
    "                f.writelines([l, nl])"
   ]
  },
  {
   "cell_type": "code",
   "execution_count": 11,
   "metadata": {},
   "outputs": [
    {
     "name": "stdout",
     "output_type": "stream",
     "text": [
      "Text length before: 2314610\n",
      "Text length after: 2055182\n",
      "Text length before: 2314610\n",
      "Text length after: 2055182\n",
      "Text length before: 3520868\n",
      "Text length after: 3144435\n",
      "Text length before: 3520868\n",
      "Text length after: 3144435\n",
      "Text length before: 3520868\n",
      "Text length after: 3144435\n",
      "Text length before: 3520868\n",
      "Text length after: 3144435\n",
      "Text length before: 3520868\n",
      "Text length after: 3144435\n",
      "Text length before: 3366485\n",
      "Text length after: 3037083\n",
      "Text length before: 3366485\n",
      "Text length after: 3037083\n",
      "Text length before: 3553903\n",
      "Text length after: 3197087\n",
      "Text length before: 3553903\n",
      "Text length after: 3197087\n",
      "Text length before: 3553903\n",
      "Text length after: 3197087\n",
      "Text length before: 1474984\n",
      "Text length after: 1287035\n",
      "Text length before: 1474984\n",
      "Text length after: 1287035\n",
      "Text length before: 1474984\n",
      "Text length after: 1287035\n",
      "Text length before: 3492916\n",
      "Text length after: 3108816\n",
      "Text length before: 3492916\n",
      "Text length after: 3108816\n",
      "Text length before: 3492916\n",
      "Text length after: 3108816\n",
      "Text length before: 2166144\n",
      "Text length after: 2000699\n",
      "Text length before: 2166144\n",
      "Text length after: 2000699\n",
      "Text length before: 61308\n",
      "Text length after: 37439\n",
      "Text length before: 61308\n",
      "Text length after: 37439\n",
      "Text length before: 61308\n",
      "Text length after: 37439\n",
      "Text length before: 1076683\n",
      "Text length after: 869724\n",
      "Text length before: 1076683\n",
      "Text length after: 869724\n",
      "Text length before: 1076683\n",
      "Text length after: 869724\n"
     ]
    }
   ],
   "source": [
    "languages = ['ar', 'de', 'en', 'fr', 'hi', 'pl', 'ru', 'sw', 'zh']\n",
    "variants = [[ar], [de, de2, de3, de4], [en], [fr, fr2], [hi, hi2], [pl, pl2], [ru], [sw, sw2], [zh, zh2]]\n",
    "for l, lan in enumerate(languages):\n",
    "    for v in range(len(variants[l])):\n",
    "        if v == 0:\n",
    "            for lig in [True, False]:\n",
    "                getIPATexts(lan, variants[l][v], v, 3, 10, lig=lig)\n",
    "        else:\n",
    "            getIPATexts(lan, variants[l][v], v, 3, 10)"
   ]
  },
  {
   "cell_type": "code",
   "execution_count": 30,
   "metadata": {},
   "outputs": [],
   "source": [
    "def countChars(fil, offset=0, zip=False):\n",
    "    if zip:\n",
    "        with gzip.open(f'./OSCAR-2109/packaged/{lan}/{lan}_part_1.txt.gz', 'rt', encoding=\"utf-8\") as f:\n",
    "            text = filter_lines(f.readlines())\n",
    "            print(len(text))\n",
    "            i = 0\n",
    "            for line in text[offset:]:\n",
    "                for w in line:\n",
    "                    i+= 1\n",
    "    else:\n",
    "        with open(fil, 'rt', encoding='utf-8') as f:\n",
    "            text = f.readlines()\n",
    "            print(len(text))\n",
    "            i = 0\n",
    "            for line in text[offset:]:\n",
    "                for w in line:\n",
    "                    i+= 1\n",
    "    return i"
   ]
  },
  {
   "cell_type": "code",
   "execution_count": 64,
   "metadata": {},
   "outputs": [
    {
     "name": "stdout",
     "output_type": "stream",
     "text": [
      "1\n"
     ]
    },
    {
     "data": {
      "text/plain": [
       "35595"
      ]
     },
     "execution_count": 64,
     "metadata": {},
     "output_type": "execute_result"
    }
   ],
   "source": [
    "countChars(f'./data/eo_raw_0_ipa_0.train')\n",
    "#countChars('./OSCAR-2109/packaged/eo/eo_part_1.txt.gz', 300, True)"
   ]
  },
  {
   "attachments": {},
   "cell_type": "markdown",
   "metadata": {},
   "source": [
    "### Prepare language files (chunking)"
   ]
  },
  {
   "cell_type": "code",
   "execution_count": 38,
   "metadata": {},
   "outputs": [],
   "source": [
    "def preparedata(lan, repeats, lines=100, train=0, transl=0, offset=0):\n",
    "    '''\n",
    "    Args:\n",
    "    tranls(bool): 0 orthographic literal text, 1 transliterated text\n",
    "    offset(int): offset of lines train test split, should be the same as in getLangNotSupportedEpitran()\n",
    "    '''    \n",
    "    if transl:\n",
    "        with gzip.open(f'./data/translit/{lan}_part_1_diacritics.txt.gz', 'rb') as f:\n",
    "            text = filter_lines(f.readlines())\n",
    "    else:\n",
    "        with gzip.open(f'./OSCAR-2109/packaged/{lan}/{lan}_part_1.txt.gz', 'rb') as f:\n",
    "            text = filter_lines(f.readlines())\n",
    "                \n",
    "    typ = 'test'\n",
    "    for repeat in range(repeats):\n",
    "        if repeat > repeats-train-1:\n",
    "            typ = 'train'\n",
    "        if transl:\n",
    "            file = open(f'./data/{lan}_transl_{repeat}.{typ}', 'w')\n",
    "        else:    \n",
    "            file = open(f'./data/{lan}_{repeat}.{typ}', 'w')\n",
    "        i = 0\n",
    "        skip = False\n",
    "        for line in (text[offset:]):\n",
    "            if skip:\n",
    "                break\n",
    "            line = line.decode('utf-8')\n",
    "            line = regex.sub(r'-[\\p{L}_]', '', line)\n",
    "            line = line[:-3].lower().replace(' ', '\\x5f')\n",
    "            line = [line[i:i+10] for i in range(0, len(line), 10)]\n",
    "            for string in line:\n",
    "                if len(string) == 10:\n",
    "                    i += 1\n",
    "                    if i <= lines*(repeat):\n",
    "                        continue\n",
    "                    if i > lines*(repeat+1):\n",
    "                        skip = True\n",
    "                        break\n",
    "                    file.write(f'{string}\\n')"
   ]
  },
  {
   "cell_type": "code",
   "execution_count": 63,
   "metadata": {},
   "outputs": [],
   "source": [
    "def prepareipadata(lan, repeats, lines=100, typ=\"test\"):   \n",
    "    for repeat in range(repeats):\n",
    "        with open(f'./data/{lan}_raw_{repeat}_ipa_0.{typ}', 'rt', encoding='utf-8') as f:\n",
    "                text = filter_lines(f.readlines())\n",
    "        \n",
    "        file = open(f'./data/{lan}_{repeat}_ipa_0.{typ}', 'w')\n",
    "        i = 0\n",
    "        for line in text:\n",
    "            #line = line.decode('utf-8')\n",
    "            line = regex.sub(r'-[\\p{L}_]', '', line)\n",
    "            line = line[:-3].lower().replace(' ', '\\x5f')\n",
    "            line = [line[i:i+10] for i in range(0, len(line), 10)]\n",
    "            for string in line:\n",
    "                if len(string) == 10:\n",
    "                    i += 1\n",
    "                    if i <= lines*(repeat):\n",
    "                        continue\n",
    "                    if i > lines*(repeat+1):\n",
    "                        break\n",
    "                    file.write(f'{string}\\n')\n",
    "        file.close()"
   ]
  },
  {
   "cell_type": "code",
   "execution_count": 62,
   "metadata": {},
   "outputs": [
    {
     "name": "stderr",
     "output_type": "stream",
     "text": [
      "100%|██████████| 11/11 [00:00<00:00, 856.36it/s]\n"
     ]
    }
   ],
   "source": [
    "languages = ['ar', 'de', 'el', 'en', 'fr', 'hi', 'la', 'pl', 'ru', 'sw', 'zh']\n",
    "tlanguages = ['ar', 'el', 'hi', 'ru', 'zh']\n",
    "\n",
    "#all languages\n",
    "for lan in tqdm(languages):\n",
    "    #preparedata(lan, 3)\n",
    "    prepareipadata(lan, 3)\n",
    "\n",
    "#only transliterated\n",
    "#for lan in tqdm(tlanguages):\n",
    "#    preparedata(lan, 3, 100, 0, 1)\n",
    "\n",
    "#only Esperanto test\n",
    "#preparedata('eo', 3) \n",
    "prepareipadata('eo', 3)\n",
    "#only Esperanto train\n",
    "#preparedata('eo', 6, 3500, 6, offset=300)\n",
    "prepareipadata('eo', 3, 3500, \"train\")"
   ]
  },
  {
   "cell_type": "markdown",
   "metadata": {},
   "source": [
    "### Make alphabets"
   ]
  },
  {
   "cell_type": "code",
   "execution_count": 14,
   "metadata": {},
   "outputs": [],
   "source": [
    "languages = ['ar', 'de', 'el', 'en', 'eo', 'fr', 'hi', 'la', 'pl', 'ru', 'sw'] #no chinese\n",
    "transl = ['ar', 'el', 'hi', 'ru']\n",
    "\n",
    "def makealphabet1(lan_set, transl=0, variant=0, lig=\"\"): #lan_set: transl or not, if transl put transl=1\n",
    "    '''\n",
    "    Args:\n",
    "    transl: 0 orthographic, 1 transliterated, 2 phonetic (IPA)\n",
    "    lig(string): default: \"\" for ligatures=False, pass \"l\" for ligatures=True\n",
    "    '''\n",
    "    gabet=np.array([])\n",
    "    \n",
    "    for lan in tqdm(lan_set):\n",
    "        abet = np.array([])\n",
    "\n",
    "        for r in range(3):\n",
    "            with open(f'./data/eo_{r}.train', 'r') as f:\n",
    "                eo = f.readlines()\n",
    "            \n",
    "            if transl == 1:\n",
    "                with open(f'./data/{lan}_transl_{r}.test', 'r') as f:\n",
    "                    text = f.readlines()\n",
    "            elif transl == 2:\n",
    "                if lan in [\"eo\", \"el\", \"la\"]:\n",
    "                    lig=\"\"\n",
    "                    variant=0\n",
    "                with open(f'./data/{lan}_{r}_ipa_{variant}{lig}.test', 'r') as f:\n",
    "                    text = f.readlines() \n",
    "                with open(f'./data/eo_{r}_ipa_0.train', 'r') as f:\n",
    "                    eo = f.readlines()\n",
    "            else:\n",
    "                with open(f'./data/{lan}_{r}.test', 'r') as f:\n",
    "                    text = f.readlines()\n",
    "\n",
    "            \n",
    "\n",
    "            for line in text:\n",
    "                chars = list(line)\n",
    "                abet = np.append(abet, chars)\n",
    "                abet = np.unique(abet)\n",
    "\n",
    "            for line in eo:\n",
    "                chars = list(line)\n",
    "                abet = np.append(abet, chars)\n",
    "                abet = np.unique(abet)\n",
    "\n",
    "        gabet=np.append(gabet, abet)\n",
    "        \n",
    "        if transl == 1:\n",
    "            with open(f'./alphabets/alphabet_{lan}_transl.txt', 'w') as f:\n",
    "                for char in abet:\n",
    "                    f.write(char)\n",
    "        elif transl == 2:\n",
    "            with open(f'./alphabets/alphabet_{lan}_ipa_{variant}{lig}.txt', 'w') as f:\n",
    "                for char in abet:\n",
    "                    f.write(char)\n",
    "        else:\n",
    "            with open(f'./alphabets/alphabet_{lan}.txt', 'w') as f:\n",
    "                for char in abet:\n",
    "                    f.write(char)\n",
    "        \n",
    "    return gabet"
   ]
  },
  {
   "cell_type": "code",
   "execution_count": 5,
   "metadata": {},
   "outputs": [],
   "source": [
    "ipa_langs = ['ar', 'de', 'el', 'eo', 'en', 'fr', 'hi', 'la', 'pl', 'ru', 'sw', 'zh'] #by including el and la two characters were added to the gloabl ipa alphabet\n",
    "langs = ['ar', 'de', 'el', 'eo', 'en', 'fr', 'hi', 'la', 'pl', 'ru', 'sw'] # no chinese for global literal"
   ]
  },
  {
   "cell_type": "code",
   "execution_count": 66,
   "metadata": {},
   "outputs": [
    {
     "name": "stderr",
     "output_type": "stream",
     "text": [
      "100%|██████████| 11/11 [00:01<00:00, 10.18it/s]\n",
      "100%|██████████| 4/4 [00:00<00:00, 10.43it/s]\n",
      "100%|██████████| 12/12 [00:00<00:00, 16.12it/s]\n"
     ]
    }
   ],
   "source": [
    "gabet = makealphabet1(langs) #literal\n",
    "tgabet = makealphabet1(transl, 1) #transliteral\n",
    "pgabet = makealphabet1(ipa_langs, 2)\n",
    "compl_gabet = np.concatenate((gabet, tgabet, pgabet))"
   ]
  },
  {
   "cell_type": "code",
   "execution_count": 67,
   "metadata": {},
   "outputs": [
    {
     "name": "stdout",
     "output_type": "stream",
     "text": [
      "Global alphabet length: 274\n",
      "Global transliterated alphabet length: 135\n",
      "Global phonetic alphabet length: 290\n",
      "Complete global alphabet length: 499\n"
     ]
    }
   ],
   "source": [
    "#writing global aplphabets\n",
    "c=c1=c2=c3=0\n",
    "\n",
    "#literal\n",
    "with open('./alphabets/alphabet.txt', 'w') as f:\n",
    "    for char in np.unique(gabet):\n",
    "        c+=1\n",
    "        f.write(char)\n",
    "\n",
    "#transliteral\n",
    "with open('./alphabets/talphabet.txt', 'w') as f:\n",
    "    for char in np.unique(tgabet):\n",
    "        c1+=1\n",
    "        f.write(char)\n",
    "        \n",
    "#phonetic\n",
    "with open('./alphabets/palphabet.txt', 'w') as f:\n",
    "    for char in np.unique(pgabet):\n",
    "        c2+=1\n",
    "        f.write(char)\n",
    "\n",
    "#total\n",
    "with open('./alphabets/compl_alphabet.txt', 'w') as f:\n",
    "    for char in np.unique(compl_gabet):\n",
    "        c3+=1\n",
    "        f.write(char)\n",
    "        \n",
    "print('Global alphabet length:', c)\n",
    "print('Global transliterated alphabet length:', c1)\n",
    "print('Global phonetic alphabet length:', c2)\n",
    "print('Complete global alphabet length:', c3)"
   ]
  },
  {
   "attachments": {},
   "cell_type": "markdown",
   "metadata": {},
   "source": [
    "#### Ligature alphabet"
   ]
  },
  {
   "cell_type": "code",
   "execution_count": 15,
   "metadata": {},
   "outputs": [
    {
     "name": "stderr",
     "output_type": "stream",
     "text": [
      "100%|██████████| 12/12 [00:00<00:00, 16.19it/s]"
     ]
    },
    {
     "name": "stdout",
     "output_type": "stream",
     "text": [
      "Global phonetic alphabet length: 303\n"
     ]
    },
    {
     "name": "stderr",
     "output_type": "stream",
     "text": [
      "\n"
     ]
    }
   ],
   "source": [
    "pgabet = makealphabet1(ipa_langs, 2, 0, \"l\")\n",
    "#writing global aplphabets\n",
    "c=c1=c2=c3=0\n",
    "        \n",
    "#phonetic\n",
    "with open('./alphabets/palphabet0l.txt', 'w') as f:\n",
    "    for char in np.unique(pgabet):\n",
    "        c2+=1\n",
    "        f.write(char)\n",
    "\n",
    "print('Global phonetic alphabet length:', c2)\n"
   ]
  },
  {
   "attachments": {},
   "cell_type": "markdown",
   "metadata": {},
   "source": [
    "#### Rename files"
   ]
  },
  {
   "cell_type": "code",
   "execution_count": 1,
   "metadata": {},
   "outputs": [],
   "source": [
    "# Rename all files that were run with -k (r-chunk instead of r-contiguos)\n",
    "# import os\n",
    "\n",
    "# folder_path = './results/chunk/corr'  # Replace with the actual folder path\n",
    "\n",
    "# # Get a list of all files in the folder\n",
    "# files = os.listdir(folder_path)\n",
    "\n",
    "# for file in files:\n",
    "#     # Construct the new file name\n",
    "#     file_name, file_extension = os.path.splitext(file)\n",
    "#     new_file_name = file_name + '_chunk' + file_extension\n",
    "\n",
    "#     # Rename the file\n",
    "#     old_file_path = os.path.join(folder_path, file)\n",
    "#     new_file_path = os.path.join(folder_path, new_file_name)\n",
    "#     os.rename(old_file_path, new_file_path)"
   ]
  },
  {
   "cell_type": "code",
   "execution_count": null,
   "metadata": {},
   "outputs": [],
   "source": []
  },
  {
   "cell_type": "code",
   "execution_count": null,
   "metadata": {},
   "outputs": [],
   "source": []
  }
 ],
 "metadata": {
  "kernelspec": {
   "display_name": "default",
   "language": "python",
   "name": "python3"
  },
  "language_info": {
   "codemirror_mode": {
    "name": "ipython",
    "version": 3
   },
   "file_extension": ".py",
   "mimetype": "text/x-python",
   "name": "python",
   "nbconvert_exporter": "python",
   "pygments_lexer": "ipython3",
   "version": "3.11.2"
  },
  "vscode": {
   "interpreter": {
    "hash": "9eacc2bccd90d4fdc3a9d909f208349a62003e5d547aebb0c1a50feb5083274a"
   }
  }
 },
 "nbformat": 4,
 "nbformat_minor": 2
}
