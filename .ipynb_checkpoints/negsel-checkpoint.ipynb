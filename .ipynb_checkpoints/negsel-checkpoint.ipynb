{
 "cells": [
  {
   "cell_type": "code",
   "execution_count": 1,
   "metadata": {},
   "outputs": [],
   "source": [
    "from tqdm import tqdm\n",
    "import os\n",
    "import sys"
   ]
  },
  {
   "cell_type": "code",
   "execution_count": 19,
   "metadata": {},
   "outputs": [
    {
     "data": {
      "text/plain": [
       "'39.7119\\n'"
      ]
     },
     "execution_count": 19,
     "metadata": {},
     "output_type": "execute_result"
    }
   ],
   "source": [
    "os.popen(f\"java -jar ./assignment/negsel2.jar -self ./data/eo.train -n 10 -r 4 -c -l < ./data/eo.test | awk '{{n+=$1}}END{{print n/NR}}'\").read()"
   ]
  },
  {
   "cell_type": "code",
   "execution_count": 8,
   "metadata": {},
   "outputs": [
    {
     "data": {
      "text/plain": [
       "'41.2472\\n'"
      ]
     },
     "execution_count": 8,
     "metadata": {},
     "output_type": "execute_result"
    }
   ],
   "source": [
    "os.popen(f\"java -jar ./assignment/negsel2.jar -self ./data/eo.train -n 10 -r 4 -c -l < ./data/en.test | awk '{{n+= $1}}END{{print n/NR}}'\").read()"
   ]
  },
  {
   "cell_type": "code",
   "execution_count": 10,
   "metadata": {},
   "outputs": [],
   "source": [
    "result = os.popen(f\"java -jar ./assignment/negsel2.jar -self ./data/eo.train -n 10 -r 4 -c -l < ./data/fr.test | awk '{{n+= $1}}END{{print n/NR}}'\").read()"
   ]
  },
  {
   "cell_type": "code",
   "execution_count": 12,
   "metadata": {},
   "outputs": [
    {
     "data": {
      "text/plain": [
       "'41.0765\\n'"
      ]
     },
     "execution_count": 12,
     "metadata": {},
     "output_type": "execute_result"
    }
   ],
   "source": [
    "result"
   ]
  },
  {
   "cell_type": "code",
   "execution_count": 20,
   "metadata": {},
   "outputs": [
    {
     "name": "stderr",
     "output_type": "stream",
     "text": [
      "\n",
      "  0%|          | 0/12 [00:00<?, ?it/s]\u001b[A\n",
      "  8%|▊         | 1/12 [00:00<00:08,  1.30it/s]\u001b[A\n",
      " 17%|█▋        | 2/12 [00:01<00:07,  1.29it/s]\u001b[A\n",
      " 25%|██▌       | 3/12 [00:02<00:07,  1.24it/s]\u001b[A\n",
      " 33%|███▎      | 4/12 [00:03<00:06,  1.22it/s]\u001b[A\n",
      " 42%|████▏     | 5/12 [00:04<00:05,  1.22it/s]\u001b[A\n",
      " 50%|█████     | 6/12 [00:05<00:05,  1.17it/s]\u001b[A\n",
      " 58%|█████▊    | 7/12 [00:05<00:04,  1.17it/s]\u001b[A\n",
      " 67%|██████▋   | 8/12 [00:06<00:03,  1.17it/s]\u001b[A\n",
      " 75%|███████▌  | 9/12 [00:07<00:02,  1.18it/s]\u001b[A\n",
      " 83%|████████▎ | 10/12 [00:08<00:01,  1.23it/s]\u001b[A\n",
      " 92%|█████████▏| 11/12 [00:09<00:00,  1.18it/s]\u001b[A\n",
      "100%|██████████| 12/12 [00:10<00:00,  1.19it/s]\u001b[A\n"
     ]
    }
   ],
   "source": [
    "languages = ['ar', 'de', 'el', 'en', 'eo', 'fr', 'hi', 'la', 'pl', 'ru', 'sw', 'zh']\n",
    "for lan in tqdm(languages):\n",
    "        for repeat in range(3):\n",
    "            result = os.popen(f\"java -jar ./assignment/negsel2.jar -alphabet file:alphabets/alphabet_{lan}.txt -self ./data/eo_{repeat}.train -n 10 -r 4 -c -l < ./data/{lan}_{repeat}.test\").read()\n",
    "            with open(f'./results/{lan}_{repeat}.txt', 'w') as f:    \n",
    "                  f.write(result)"
   ]
  },
  {
   "cell_type": "markdown",
   "metadata": {},
   "source": [
    "#### Transliterated texts"
   ]
  },
  {
   "cell_type": "code",
   "execution_count": 14,
   "metadata": {},
   "outputs": [
    {
     "name": "stderr",
     "output_type": "stream",
     "text": [
      "\n",
      "  0%|          | 0/5 [00:00<?, ?it/s]\u001b[A\n",
      " 20%|██        | 1/5 [00:00<00:02,  1.79it/s]\u001b[A\n",
      " 40%|████      | 2/5 [00:00<00:01,  1.94it/s]\u001b[A\n",
      " 60%|██████    | 3/5 [00:01<00:00,  2.04it/s]\u001b[A\n",
      " 80%|████████  | 4/5 [00:01<00:00,  2.16it/s]\u001b[A\n",
      "100%|██████████| 5/5 [00:02<00:00,  2.26it/s]\u001b[A\n"
     ]
    }
   ],
   "source": [
    "languages = ['ar', 'el', 'hi', 'ru', 'zh']\n",
    "for lan in tqdm(languages):\n",
    "        for repeat in range(3):\n",
    "            result = os.popen(f\"java -jar ./assignment/negsel2.jar -alphabet file:///home/teun/nacoproject/alphabets/alphabet_{lan}_transl.txt -self ./data/eo_{repeat}.train -n 10 -r 4 -c -l < ./data/{lan}_{repeat}.test\").read()\n",
    "            with open(f'./results/{lan}_transl_{repeat}.txt', 'w') as f:\n",
    "                  f.write(result)"
   ]
  },
  {
   "cell_type": "code",
   "execution_count": null,
   "metadata": {},
   "outputs": [],
   "source": []
  }
 ],
 "metadata": {
  "kernelspec": {
   "display_name": "Python 3",
   "language": "python",
   "name": "python3"
  },
  "language_info": {
   "codemirror_mode": {
    "name": "ipython",
    "version": 3
   },
   "file_extension": ".py",
   "mimetype": "text/x-python",
   "name": "python",
   "nbconvert_exporter": "python",
   "pygments_lexer": "ipython3",
   "version": "3.7.6"
  }
 },
 "nbformat": 4,
 "nbformat_minor": 2
}
