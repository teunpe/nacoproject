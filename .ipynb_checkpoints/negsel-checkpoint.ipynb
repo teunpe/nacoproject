{
 "cells": [
  {
   "cell_type": "code",
   "execution_count": 1,
   "metadata": {},
   "outputs": [],
   "source": [
    "from tqdm import tqdm\n",
    "import os\n",
    "import sys"
   ]
  },
  {
   "cell_type": "markdown",
   "metadata": {},
   "source": [
    "#### Literal texts with global alphabet"
   ]
  },
  {
   "cell_type": "code",
   "execution_count": 2,
   "metadata": {},
   "outputs": [
    {
     "name": "stderr",
     "output_type": "stream",
     "text": [
      "100%|██████████| 11/11 [01:23<00:00,  7.58s/it]\n"
     ]
    }
   ],
   "source": [
    "languages = ['ar', 'de', 'el', 'en', 'eo', 'fr', 'hi', 'la', 'pl', 'ru', 'sw']\n",
    "for lan in tqdm(languages):\n",
    "        for repeat in range(3):\n",
    "            result = os.popen(f\"java -jar ./assignment/negsel2.jar -alphabet file://alphabet.txt -self ./data/eo_{repeat}.train -n 10 -r 4 -c -l < ./data/{lan}_{repeat}.test\").read()\n",
    "            with open(f'./results/{lan}_{repeat}.txt', 'w') as f:\n",
    "                  f.write(result)"
   ]
  },
  {
   "cell_type": "markdown",
   "metadata": {},
   "source": [
    "#### Literal texts with language specific alphabet"
   ]
  },
  {
   "cell_type": "code",
   "execution_count": 3,
   "metadata": {},
   "outputs": [
    {
     "name": "stderr",
     "output_type": "stream",
     "text": [
      "100%|██████████| 11/11 [00:26<00:00,  2.41s/it]\n"
     ]
    }
   ],
   "source": [
    "for lan in tqdm(languages):\n",
    "        for repeat in range(3):\n",
    "            result = os.popen(f\"java -jar ./assignment/negsel2.jar -alphabet file://alphabets/alphabet_{lan}.txt -self ./data/eo_{repeat}.train -n 10 -r 4 -c -l < ./data/{lan}_{repeat}.test\").read()\n",
    "            with open(f'./results/{lan}_spec_{repeat}.txt', 'w') as f:\n",
    "                  f.write(result)"
   ]
  },
  {
   "cell_type": "markdown",
   "metadata": {},
   "source": [
    "#### Transliterated texts with global alphabet"
   ]
  },
  {
   "cell_type": "code",
   "execution_count": 4,
   "metadata": {},
   "outputs": [
    {
     "name": "stderr",
     "output_type": "stream",
     "text": [
      "100%|██████████| 5/5 [00:11<00:00,  2.28s/it]\n"
     ]
    }
   ],
   "source": [
    "languages = ['ar', 'el', 'hi', 'ru', 'zh']\n",
    "for lan in tqdm(languages):\n",
    "        for repeat in range(3):\n",
    "            result = os.popen(f\"java -jar ./assignment/negsel2.jar -alphabet file://talphabet.txt -self ./data/eo_{repeat}.train -n 10 -r 4 -c -l < ./data/{lan}_{repeat}.test\").read()\n",
    "            with open(f'./results/{lan}_transl_{repeat}.txt', 'w') as f:\n",
    "                  f.write(result)"
   ]
  },
  {
   "cell_type": "markdown",
   "metadata": {},
   "source": [
    "#### Transliterated texts with language specific alphabet"
   ]
  },
  {
   "cell_type": "code",
   "execution_count": 5,
   "metadata": {},
   "outputs": [
    {
     "name": "stderr",
     "output_type": "stream",
     "text": [
      "100%|██████████| 5/5 [00:10<00:00,  2.05s/it]\n"
     ]
    }
   ],
   "source": [
    "for lan in tqdm(languages):\n",
    "        for repeat in range(3):\n",
    "            result = os.popen(f\"java -jar ./assignment/negsel2.jar -alphabet file://alphabets/alphabet_{lan}_transl.txt -self ./data/eo_{repeat}.train -n 10 -r 4 -c -l < ./data/{lan}_{repeat}.test\").read()\n",
    "            with open(f'./results/{lan}_transl_spec_{repeat}.txt', 'w') as f:\n",
    "                  f.write(result)"
   ]
  }
 ],
 "metadata": {
  "kernelspec": {
   "display_name": "Python 3",
   "language": "python",
   "name": "python3"
  },
  "language_info": {
   "codemirror_mode": {
    "name": "ipython",
    "version": 3
   },
   "file_extension": ".py",
   "mimetype": "text/x-python",
   "name": "python",
   "nbconvert_exporter": "python",
   "pygments_lexer": "ipython3",
   "version": "3.7.6"
  }
 },
 "nbformat": 4,
 "nbformat_minor": 2
}
