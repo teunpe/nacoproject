{
 "cells": [
  {
   "cell_type": "markdown",
   "metadata": {},
   "source": [
    "## Negative Selection"
   ]
  },
  {
   "cell_type": "code",
   "execution_count": 1,
   "metadata": {},
   "outputs": [],
   "source": [
    "from tqdm import tqdm\n",
    "import os\n",
    "import sys"
   ]
  },
  {
   "cell_type": "code",
   "execution_count": 3,
   "metadata": {},
   "outputs": [],
   "source": [
    "languages = ['ar', 'de', 'el', 'en', 'eo', 'fr', 'hi', 'la', 'pl', 'ru', 'sw'] #no chinsese\n",
    "tlanguages = ['ar', 'el', 'hi', 'ru'] #no chinese\n",
    "chunks = [4, 8]"
   ]
  },
  {
   "cell_type": "markdown",
   "metadata": {},
   "source": [
    "### Orthographic Analysis"
   ]
  },
  {
   "cell_type": "markdown",
   "metadata": {},
   "source": [
    "#### Literal texts with global alphabet"
   ]
  },
  {
   "cell_type": "code",
   "execution_count": null,
   "metadata": {},
   "outputs": [
    {
     "name": "stderr",
     "output_type": "stream",
     "text": [
      "\r",
      "  0%|          | 0/11 [00:00<?, ?it/s]"
     ]
    }
   ],
   "source": [
    "for lan in tqdm(languages):\n",
    "        for repeat in range(3):\n",
    "            for r in chunks:\n",
    "                result = os.popen(f\"java -jar ./assignment/negsel2.jar -alphabet file://alphabets/alphabet.txt -self ./data/eo_{repeat}.train -n 10 -r {r} -c -l < ./data/{lan}_{repeat}.test\").read()\n",
    "                with open(f'./results/{lan}_{r}_{repeat}.txt', 'w') as f:\n",
    "                      f.write(result)"
   ]
  },
  {
   "cell_type": "markdown",
   "metadata": {},
   "source": [
    "#### Literal texts with language specific alphabet"
   ]
  },
  {
   "cell_type": "code",
   "execution_count": 16,
   "metadata": {},
   "outputs": [
    {
     "name": "stderr",
     "output_type": "stream",
     "text": [
      "100%|██████████| 11/11 [10:15<00:00, 55.98s/it]\n"
     ]
    }
   ],
   "source": [
    "for lan in tqdm(languages):\n",
    "        for repeat in range(3):\n",
    "            for r in chunks:            \n",
    "                result = os.popen(f\"java -jar ./assignment/negsel2.jar -alphabet file://alphabets/alphabet_{lan}.txt -self ./data/eo_{repeat}.train -n 10 -r {r} -c -l < ./data/{lan}_{repeat}.test\").read()\n",
    "                with open(f'./results/{lan}_{r}_spec_{repeat}.txt', 'w') as f:\n",
    "                      f.write(result)"
   ]
  },
  {
   "cell_type": "markdown",
   "metadata": {},
   "source": [
    "#### Transliterated texts with global alphabet"
   ]
  },
  {
   "cell_type": "code",
   "execution_count": 17,
   "metadata": {},
   "outputs": [
    {
     "name": "stderr",
     "output_type": "stream",
     "text": [
      "100%|██████████| 5/5 [05:12<00:00, 62.46s/it]\n"
     ]
    }
   ],
   "source": [
    "for lan in tqdm(tlanguages):\n",
    "        for repeat in range(3):\n",
    "            for r in chunks:\n",
    "                result = os.popen(f\"java -jar ./assignment/negsel2.jar -alphabet file://alphabets/talphabet.txt -self ./data/eo_{repeat}.train -n 10 -r {r} -c -l < ./data/{lan}_transl_{repeat}.test\").read()\n",
    "                with open(f'./results/{lan}_{r}_transl_{repeat}.txt', 'w') as f:\n",
    "                      f.write(result)"
   ]
  },
  {
   "cell_type": "markdown",
   "metadata": {},
   "source": [
    "#### Transliterated texts with language specific alphabet"
   ]
  },
  {
   "cell_type": "code",
   "execution_count": 18,
   "metadata": {},
   "outputs": [
    {
     "name": "stderr",
     "output_type": "stream",
     "text": [
      "100%|██████████| 5/5 [03:02<00:00, 36.56s/it]\n"
     ]
    }
   ],
   "source": [
    "for lan in tqdm(tlanguages):\n",
    "        for repeat in range(3):\n",
    "            for r in chunks:         \n",
    "                result = os.popen(f\"java -jar ./assignment/negsel2.jar -alphabet file://alphabets/alphabet_{lan}_transl.txt -self ./data/eo_{repeat}.train -n 10 -r {r} -c -l < ./data/{lan}_transl_{repeat}.test\").read()\n",
    "                with open(f'./results/{lan}_{r}_transl_spec_{repeat}.txt', 'w') as f:\n",
    "                      f.write(result)"
   ]
  },
  {
   "cell_type": "markdown",
   "metadata": {},
   "source": [
    "### Phonetic Analysis"
   ]
  },
  {
   "cell_type": "code",
   "execution_count": null,
   "metadata": {},
   "outputs": [],
   "source": []
  },
  {
   "cell_type": "code",
   "execution_count": null,
   "metadata": {},
   "outputs": [],
   "source": []
  }
 ],
 "metadata": {
  "kernelspec": {
   "display_name": "Python 3",
   "language": "python",
   "name": "python3"
  },
  "language_info": {
   "codemirror_mode": {
    "name": "ipython",
    "version": 3
   },
   "file_extension": ".py",
   "mimetype": "text/x-python",
   "name": "python",
   "nbconvert_exporter": "python",
   "pygments_lexer": "ipython3",
   "version": "3.7.6"
  }
 },
 "nbformat": 4,
 "nbformat_minor": 2
}
