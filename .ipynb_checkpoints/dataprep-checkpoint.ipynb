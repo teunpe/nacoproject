{
 "cells": [
  {
   "cell_type": "markdown",
   "metadata": {},
   "source": [
    "## Data Pre-processing"
   ]
  },
  {
   "cell_type": "code",
   "execution_count": 6,
   "metadata": {},
   "outputs": [],
   "source": [
    "import re\n",
    "from tqdm import tqdm\n",
    "import gzip\n",
    "import os\n",
    "import regex\n",
    "import numpy as np\n",
    "#import epitran"
   ]
  },
  {
   "cell_type": "markdown",
   "metadata": {},
   "source": [
    "### Prepare language files"
   ]
  },
  {
   "cell_type": "code",
   "execution_count": 51,
   "metadata": {},
   "outputs": [],
   "source": [
    "def preparedata(lan, repeats, lines=100, train=0, transl=0):\n",
    "    if transl:\n",
    "        with gzip.open(f'./data/translit/{lan}_part_1_diacritics.txt.gz', 'rb') as f:\n",
    "            text = f.readlines()\n",
    "    else:\n",
    "        with gzip.open(f'./OSCAR-2109/packaged/{lan}/{lan}_part_1.txt.gz', 'rb') as f:\n",
    "                text = f.readlines()\n",
    "                \n",
    "    type = 'test'\n",
    "    for repeat in range(repeats):\n",
    "        if repeat > repeats-train-1:\n",
    "            type = 'train'\n",
    "        if transl:\n",
    "            file = open(f'./data/{lan}_transl_{repeat}.{type}', 'w')\n",
    "        else:    \n",
    "            file = open(f'./data/{lan}_{repeat}.{type}', 'w')\n",
    "        i = 0\n",
    "        skip = False\n",
    "        for line in (text):\n",
    "            if skip:\n",
    "                break\n",
    "            line = line.decode('utf-8')\n",
    "            line = regex.sub(r'-[\\p{L}_]', '', line)\n",
    "            line = line[:-3].lower().replace(' ', '\\x5f')\n",
    "            line = [line[i:i+10] for i in range(0, len(line), 10)]\n",
    "            for string in line:\n",
    "                if len(string) == 10:\n",
    "                    i += 1\n",
    "                    if i < lines*(repeat):\n",
    "                        continue\n",
    "                    if i > lines*(repeat+1):\n",
    "                        skip = True\n",
    "                        break\n",
    "                    file.write(f'{string}\\n')"
   ]
  },
  {
   "cell_type": "code",
   "execution_count": 48,
   "metadata": {},
   "outputs": [
    {
     "name": "stderr",
     "output_type": "stream",
     "text": [
      "\n",
      "  0%|          | 0/11 [00:00<?, ?it/s]\u001b[A\n",
      "  9%|▉         | 1/11 [00:08<01:25,  8.51s/it]\u001b[A\n",
      " 18%|█▊        | 2/11 [00:20<01:25,  9.52s/it]\u001b[A\n",
      " 27%|██▋       | 3/11 [00:28<01:12,  9.10s/it]\u001b[A\n",
      " 36%|███▋      | 4/11 [00:38<01:06,  9.46s/it]\u001b[A\n",
      " 45%|████▌     | 5/11 [00:49<00:58,  9.83s/it]\u001b[A\n",
      " 55%|█████▍    | 6/11 [00:56<00:44,  8.88s/it]\u001b[A\n",
      " 64%|██████▎   | 7/11 [00:56<00:25,  6.26s/it]\u001b[A\n",
      " 73%|███████▎  | 8/11 [01:07<00:23,  7.86s/it]\u001b[A\n",
      " 82%|████████▏ | 9/11 [01:16<00:16,  8.12s/it]\u001b[A\n",
      " 91%|█████████ | 10/11 [01:16<00:05,  5.73s/it]\u001b[A\n",
      "100%|██████████| 11/11 [01:24<00:00,  7.64s/it]\u001b[A\n",
      "\n",
      "100%|██████████| 5/5 [00:00<00:00, 319.23it/s]\n"
     ]
    }
   ],
   "source": [
    "languages = ['ar', 'de', 'el', 'en', 'fr', 'hi', 'la', 'pl', 'ru', 'sw', 'zh']\n",
    "tlanguages = ['ar', 'el', 'hi', 'ru', 'zh']\n",
    "\n",
    "#all languages\n",
    "for lan in tqdm(languages):\n",
    "    preparedata(lan, 3)\n",
    "\n",
    "#only transliterated\n",
    "for lan in tqdm(tlanguages):\n",
    "    preparedata(lan, 3, 0, 1)\n",
    "\n",
    "#only Esperanto test\n",
    "preparedata('eo', 3) #STILL NEED TO FIX THIS, MORE DATA FOR TRAIN\n",
    "#only Esperanto train\n",
    "preparedata('eo', 6, 3500, 6)"
   ]
  },
  {
   "cell_type": "markdown",
   "metadata": {},
   "source": [
    "### Make alphabets"
   ]
  },
  {
   "cell_type": "code",
   "execution_count": 54,
   "metadata": {},
   "outputs": [],
   "source": [
    "languages = ['ar', 'de', 'el', 'en', 'eo', 'fr', 'hi', 'la', 'pl', 'ru', 'sw'] #no chinese\n",
    "transl = ['ar', 'el', 'hi', 'ru']\n",
    "\n",
    "def makealphabet1(lan_set, transl=0): #lan_set: transl or not, if transl put transl=1\n",
    "    gabet=np.array([])\n",
    "    \n",
    "    for lan in tqdm(lan_set):\n",
    "        abet = np.array([])\n",
    "\n",
    "        for r in range(3):\n",
    "            if transl:\n",
    "                with open(f'./data/{lan}_transl_{r}.test', 'r') as f:\n",
    "                    text = f.readlines()\n",
    "                    \n",
    "            else:\n",
    "                with open(f'./data/{lan}_{r}.test', 'r') as f:\n",
    "                    text = f.readlines()\n",
    "\n",
    "            with open(f'./data/eo_{r}.train', 'r') as f:\n",
    "                eo = f.readlines()\n",
    "\n",
    "            for line in text:\n",
    "                chars = list(line)\n",
    "                abet = np.append(abet, chars)\n",
    "                abet = np.unique(abet)\n",
    "\n",
    "            for line in eo:\n",
    "                chars = list(line)\n",
    "                abet = np.append(abet, chars)\n",
    "                abet = np.unique(abet)\n",
    "\n",
    "        gabet=np.append(gabet, abet)\n",
    "        \n",
    "        if transl:\n",
    "            with open(f'./alphabets/alphabet_{lan}_transl.txt', 'w') as f:\n",
    "                for char in abet:\n",
    "                    f.write(char)\n",
    "        else:\n",
    "            with open(f'./alphabets/alphabet_{lan}.txt', 'w') as f:\n",
    "                for char in abet:\n",
    "                    f.write(char)\n",
    "        \n",
    "    return gabet"
   ]
  },
  {
   "cell_type": "code",
   "execution_count": 55,
   "metadata": {},
   "outputs": [
    {
     "name": "stderr",
     "output_type": "stream",
     "text": [
      "\n",
      "  0%|          | 0/11 [00:00<?, ?it/s]\u001b[A\n",
      "  9%|▉         | 1/11 [00:00<00:02,  3.78it/s]\u001b[A\n",
      " 18%|█▊        | 2/11 [00:00<00:02,  3.70it/s]\u001b[A\n",
      " 27%|██▋       | 3/11 [00:00<00:02,  3.56it/s]\u001b[A\n",
      " 36%|███▋      | 4/11 [00:01<00:01,  3.73it/s]\u001b[A\n",
      " 45%|████▌     | 5/11 [00:01<00:01,  3.89it/s]\u001b[A\n",
      " 55%|█████▍    | 6/11 [00:01<00:01,  4.01it/s]\u001b[A\n",
      " 64%|██████▎   | 7/11 [00:01<00:01,  3.72it/s]\u001b[A\n",
      " 73%|███████▎  | 8/11 [00:02<00:00,  3.82it/s]\u001b[A\n",
      " 82%|████████▏ | 9/11 [00:02<00:00,  3.66it/s]\u001b[A\n",
      " 91%|█████████ | 10/11 [00:02<00:00,  3.78it/s]\u001b[A\n",
      "100%|██████████| 11/11 [00:02<00:00,  3.83it/s]\u001b[A\n",
      "\n",
      "  0%|          | 0/4 [00:00<?, ?it/s]\u001b[A\n",
      " 25%|██▌       | 1/4 [00:00<00:00,  3.63it/s]\u001b[A\n",
      " 50%|█████     | 2/4 [00:00<00:00,  3.45it/s]\u001b[A\n",
      " 75%|███████▌  | 3/4 [00:00<00:00,  3.72it/s]\u001b[A\n",
      "100%|██████████| 4/4 [00:01<00:00,  3.81it/s]\u001b[A\n"
     ]
    }
   ],
   "source": [
    "gabet = makealphabet1(languages) #literal\n",
    "tgabet = makealphabet1(transl, 1) #transliteral\n",
    "for ch in tgabet:\n",
    "    gabet = np.append(gabet, ch) #combined (global)"
   ]
  },
  {
   "cell_type": "code",
   "execution_count": 57,
   "metadata": {},
   "outputs": [
    {
     "name": "stdout",
     "output_type": "stream",
     "text": [
      "Global alphabet length: 330\n",
      "Global (transliterated) alphabet length: 163\n"
     ]
    }
   ],
   "source": [
    "#writing global aplphabets\n",
    "c=0\n",
    "c1=0\n",
    "\n",
    "#literal\n",
    "with open('./alphabets/alphabet.txt', 'w') as f:\n",
    "    for char in np.unique(gabet):\n",
    "        c+=1\n",
    "        f.write(char)\n",
    "\n",
    "#transliteral\n",
    "with open('./alphabets/talphabet.txt', 'w') as f:\n",
    "    for char in np.unique(tgabet):\n",
    "        c1+=1\n",
    "        f.write(char)\n",
    "        \n",
    "print('Global alphabet length:', c)\n",
    "print('Global (transliterated) alphabet length:', c1)"
   ]
  },
  {
   "cell_type": "markdown",
   "metadata": {},
   "source": [
    "### Convert to phonetics (IPA)"
   ]
  },
  {
   "cell_type": "code",
   "execution_count": null,
   "metadata": {},
   "outputs": [],
   "source": []
  },
  {
   "cell_type": "code",
   "execution_count": null,
   "metadata": {},
   "outputs": [],
   "source": []
  },
  {
   "cell_type": "code",
   "execution_count": null,
   "metadata": {},
   "outputs": [],
   "source": []
  }
 ],
 "metadata": {
  "kernelspec": {
   "display_name": "Python 3",
   "language": "python",
   "name": "python3"
  },
  "language_info": {
   "codemirror_mode": {
    "name": "ipython",
    "version": 3
   },
   "file_extension": ".py",
   "mimetype": "text/x-python",
   "name": "python",
   "nbconvert_exporter": "python",
   "pygments_lexer": "ipython3",
   "version": "3.7.6"
  }
 },
 "nbformat": 4,
 "nbformat_minor": 2
}
