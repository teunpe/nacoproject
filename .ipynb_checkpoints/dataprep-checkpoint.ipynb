{
 "cells": [
  {
   "cell_type": "markdown",
   "metadata": {},
   "source": [
    "## Data Pre-processing"
   ]
  },
  {
   "cell_type": "code",
   "execution_count": 1,
   "metadata": {},
   "outputs": [],
   "source": [
    "import re\n",
    "from tqdm import tqdm\n",
    "import gzip\n",
    "import os\n",
    "import regex\n",
    "import numpy as np"
   ]
  },
  {
   "cell_type": "markdown",
   "metadata": {},
   "source": [
    "#### Preparing language files"
   ]
  },
  {
   "cell_type": "code",
   "execution_count": 45,
   "metadata": {},
   "outputs": [],
   "source": [
    "def preparedata(lan, repeats, train=0, transl=0):\n",
    "    if transl:\n",
    "        with gzip.open(f'./data/translit/{lan}_part_1.txt.gz', 'rb') as f:\n",
    "            text = f.readlines()\n",
    "    else:\n",
    "        with gzip.open(f'./OSCAR-2109/packaged/{lan}/{lan}_part_1.txt.gz', 'rb') as f:\n",
    "                text = f.readlines()\n",
    "                \n",
    "    type = 'test'\n",
    "    for repeat in range(repeats):\n",
    "        if repeat > repeats-train-1:\n",
    "            type = 'train'\n",
    "        if transl:\n",
    "            file = open(f'./data/{lan}_transl_{repeat}.{type}', 'w')\n",
    "        else:    \n",
    "            file = open(f'./data/{lan}_{repeat}.{type}', 'w')\n",
    "        i = 0\n",
    "        skip = False\n",
    "        for line in (text):\n",
    "            if skip:\n",
    "                break\n",
    "            line = line.decode('utf-8')\n",
    "            line = regex.sub(r'-[\\p{L}_]', '', line)\n",
    "            line = line[:-3].lower().replace(' ', '\\x5f')\n",
    "            line = [line[i:i+10] for i in range(0, len(line), 10)]\n",
    "            for string in line:\n",
    "                if len(string) == 10:\n",
    "                    i += 1\n",
    "                    if i < 100*(repeat):\n",
    "                        continue\n",
    "                    if i > 100*(repeat+1):\n",
    "                        skip = True\n",
    "                        break\n",
    "                    file.write(f'{string}\\n')"
   ]
  },
  {
   "cell_type": "code",
   "execution_count": 49,
   "metadata": {},
   "outputs": [
    {
     "name": "stderr",
     "output_type": "stream",
     "text": [
      "\n",
      "\n",
      "\n",
      "\n",
      "\n",
      "\n",
      "  0%|          | 0/11 [00:00<?, ?it/s]\u001b[A\u001b[A\u001b[A\u001b[A\u001b[A\u001b[A\n",
      "\n",
      "\n",
      "\n",
      "\n",
      "\n",
      "  9%|▉         | 1/11 [00:08<01:28,  8.87s/it]\u001b[A\u001b[A\u001b[A\u001b[A\u001b[A\u001b[A\n",
      "\n",
      "\n",
      "\n",
      "\n",
      "\n",
      " 18%|█▊        | 2/11 [00:19<01:23,  9.29s/it]\u001b[A\u001b[A\u001b[A\u001b[A\u001b[A\u001b[A\n",
      "\n",
      "\n",
      "\n",
      "\n",
      "\n",
      " 27%|██▋       | 3/11 [00:27<01:10,  8.87s/it]\u001b[A\u001b[A\u001b[A\u001b[A\u001b[A\u001b[A\n",
      "\n",
      "\n",
      "\n",
      "\n",
      "\n",
      " 36%|███▋      | 4/11 [00:37<01:05,  9.30s/it]\u001b[A\u001b[A\u001b[A\u001b[A\u001b[A\u001b[A\n",
      "\n",
      "\n",
      "\n",
      "\n",
      "\n",
      " 45%|████▌     | 5/11 [00:50<01:03, 10.57s/it]\u001b[A\u001b[A\u001b[A\u001b[A\u001b[A\u001b[A\n",
      "\n",
      "\n",
      "\n",
      "\n",
      "\n",
      " 55%|█████▍    | 6/11 [00:57<00:47,  9.43s/it]\u001b[A\u001b[A\u001b[A\u001b[A\u001b[A\u001b[A\n",
      "\n",
      "\n",
      "\n",
      "\n",
      "\n",
      " 64%|██████▎   | 7/11 [00:57<00:26,  6.65s/it]\u001b[A\u001b[A\u001b[A\u001b[A\u001b[A\u001b[A\n",
      "\n",
      "\n",
      "\n",
      "\n",
      "\n",
      " 73%|███████▎  | 8/11 [01:10<00:24,  8.31s/it]\u001b[A\u001b[A\u001b[A\u001b[A\u001b[A\u001b[A\n",
      "\n",
      "\n",
      "\n",
      "\n",
      "\n",
      " 82%|████████▏ | 9/11 [01:19<00:17,  8.64s/it]\u001b[A\u001b[A\u001b[A\u001b[A\u001b[A\u001b[A\n",
      "\n",
      "\n",
      "\n",
      "\n",
      "\n",
      " 91%|█████████ | 10/11 [01:19<00:06,  6.09s/it]\u001b[A\u001b[A\u001b[A\u001b[A\u001b[A\u001b[A\n",
      "\n",
      "\n",
      "\n",
      "\n",
      "\n",
      "100%|██████████| 11/11 [01:26<00:00,  7.89s/it]\u001b[A\u001b[A\u001b[A\u001b[A\u001b[A\u001b[A\n",
      "\n",
      "\n",
      "\n",
      "\n",
      "\n",
      "\n",
      "100%|██████████| 5/5 [00:00<00:00, 351.49it/s]\u001b[A\u001b[A\u001b[A\n",
      "\n",
      "\n",
      "\n",
      "\n",
      "\n",
      "\n",
      "0it [00:00, ?it/s]\u001b[A\u001b[A\u001b[A\u001b[A\u001b[A\u001b[A"
     ]
    },
    {
     "data": {
      "text/plain": [
       "0it [00:00, ?it/s]"
      ]
     },
     "execution_count": 49,
     "metadata": {},
     "output_type": "execute_result"
    }
   ],
   "source": [
    "languages = ['ar', 'de', 'el', 'en', 'fr', 'hi', 'la', 'pl', 'ru', 'sw', 'zh']\n",
    "tlanguages = ['ar', 'el', 'hi', 'ru', 'zh']\n",
    "\n",
    "#all languages\n",
    "for lan in tqdm(languages):\n",
    "    preparedata(lan, 3)\n",
    "\n",
    "#only transliterated\n",
    "for lan in tqdm(tlanguages):\n",
    "    preparedata(lan, 3, 0, 1)\n",
    "\n",
    "#only Esperanto, creating train set too\n",
    "tqdm(preparedata('eo', 6, 3)) #FIX THIS"
   ]
  },
  {
   "cell_type": "markdown",
   "metadata": {},
   "source": [
    "#### Make alphabets"
   ]
  },
  {
   "cell_type": "code",
   "execution_count": 50,
   "metadata": {},
   "outputs": [],
   "source": [
    "def makealphabet():\n",
    "    with open('./utf8_sequence_0-0x10ffff_assigned_including-unprintable-asis.txt', 'rb') as f:\n",
    "        text = f.readlines()\n",
    "\n",
    "    writefile = open('./alphabet.txt', 'w') \n",
    "\n",
    "    for line in text:\n",
    "        line = line.decode('utf-8')\n",
    "        line = [line[i:i+10] for i in range(0, len(line), 10)]\n",
    "        for string in line:\n",
    "            writefile.write(f'{string}\\n')\n",
    "\n",
    "makealphabet()"
   ]
  },
  {
   "cell_type": "code",
   "execution_count": 51,
   "metadata": {},
   "outputs": [],
   "source": [
    "languages = ['ar', 'de', 'el', 'en', 'eo', 'fr', 'hi', 'la', 'pl', 'ru', 'sw'] #no chinese\n",
    "transl = ['ar', 'el', 'hi', 'ru']\n",
    "\n",
    "def makealphabet1(lan_set, transl=0): #lan_set: transl or not, if transl put transl=1\n",
    "    gabet=np.array([])\n",
    "    \n",
    "    for lan in tqdm(lan_set):\n",
    "        abet = np.array([])\n",
    "\n",
    "        for r in range(3):\n",
    "            if transl:\n",
    "                with open(f'./data/{lan}_transl_{r}.test', 'r') as f:\n",
    "                    text = f.readlines()\n",
    "                    \n",
    "            else:\n",
    "                with open(f'./data/{lan}_{r}.test', 'r') as f:\n",
    "                    text = f.readlines()\n",
    "\n",
    "            with open(f'./data/eo_{r}.train', 'r') as f:\n",
    "                eo = f.readlines()\n",
    "\n",
    "            for line in text:\n",
    "                chars = list(line)\n",
    "                abet = np.append(abet, chars)\n",
    "                abet = np.unique(abet)\n",
    "\n",
    "            for line in eo:\n",
    "                chars = list(line)\n",
    "                abet = np.append(abet, chars)\n",
    "                abet = np.unique(abet)\n",
    "\n",
    "        gabet=np.append(gabet, abet)\n",
    "        \n",
    "        if transl:\n",
    "            with open(f'./alphabets/alphabet_{lan}_transl.txt', 'w') as f:\n",
    "                for char in abet:\n",
    "                    f.write(char)\n",
    "        else:\n",
    "            with open(f'./alphabets/alphabet_{lan}.txt', 'w') as f:\n",
    "                for char in abet:\n",
    "                    f.write(char)\n",
    "        \n",
    "    return gabet"
   ]
  },
  {
   "cell_type": "code",
   "execution_count": 54,
   "metadata": {},
   "outputs": [
    {
     "name": "stderr",
     "output_type": "stream",
     "text": [
      "\n",
      "\n",
      "\n",
      "\n",
      "\n",
      "\n",
      "\n",
      "\n",
      "  0%|          | 0/11 [00:00<?, ?it/s]\u001b[A\u001b[A\u001b[A\u001b[A\u001b[A\u001b[A\u001b[A\u001b[A\n",
      "\n",
      "\n",
      "\n",
      "\n",
      "\n",
      "\n",
      "\n",
      "100%|██████████| 11/11 [00:00<00:00, 57.04it/s][A\u001b[A\u001b[A\u001b[A\u001b[A\u001b[A\u001b[A\u001b[A\n",
      "\n",
      "\n",
      "\n",
      "\n",
      "\n",
      "\n",
      "\n",
      "\n",
      "100%|██████████| 4/4 [00:00<00:00, 71.01it/s]A\u001b[A\u001b[A\u001b[A\u001b[A\u001b[A\n"
     ]
    }
   ],
   "source": [
    "gabet = makealphabet1(languages) #literal\n",
    "tgabet = makealphabet1(transl, 1) #transliteral\n",
    "for ch in tgabet:\n",
    "    gabet = np.append(gabet, ch) #combined (global)"
   ]
  },
  {
   "cell_type": "code",
   "execution_count": 55,
   "metadata": {},
   "outputs": [
    {
     "name": "stdout",
     "output_type": "stream",
     "text": [
      "Global alphabet length: 260\n",
      "Global (transliterated) alphabet length: 79\n"
     ]
    }
   ],
   "source": [
    "#writing global aplphabets\n",
    "c=0\n",
    "c1=0\n",
    "\n",
    "with open('./alphabet.txt', 'w') as f:\n",
    "    for char in np.unique(gabet):\n",
    "        c+=1\n",
    "        f.write(char)\n",
    "        \n",
    "with open('./talphabet.txt', 'w') as f:\n",
    "    for char in np.unique(tgabet):\n",
    "        c1+=1\n",
    "        f.write(char)\n",
    "        \n",
    "print('Global alphabet length:', c)\n",
    "print('Global (transliterated) alphabet length:', c1)"
   ]
  },
  {
   "cell_type": "code",
   "execution_count": null,
   "metadata": {},
   "outputs": [],
   "source": []
  }
 ],
 "metadata": {
  "kernelspec": {
   "display_name": "Python 3",
   "language": "python",
   "name": "python3"
  },
  "language_info": {
   "codemirror_mode": {
    "name": "ipython",
    "version": 3
   },
   "file_extension": ".py",
   "mimetype": "text/x-python",
   "name": "python",
   "nbconvert_exporter": "python",
   "pygments_lexer": "ipython3",
   "version": "3.7.6"
  }
 },
 "nbformat": 4,
 "nbformat_minor": 2
}
