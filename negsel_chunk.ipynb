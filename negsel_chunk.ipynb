{
 "cells": [
  {
   "attachments": {},
   "cell_type": "markdown",
   "metadata": {},
   "source": [
    "## Negative Selection with R-Chunk"
   ]
  },
  {
   "cell_type": "code",
   "execution_count": 2,
   "metadata": {},
   "outputs": [],
   "source": [
    "from tqdm import tqdm\n",
    "import os\n",
    "import sys"
   ]
  },
  {
   "cell_type": "code",
   "execution_count": 3,
   "metadata": {},
   "outputs": [],
   "source": [
    "chunks = [3, 4, 5]"
   ]
  },
  {
   "cell_type": "markdown",
   "metadata": {},
   "source": [
    "### Orthographic Analysis"
   ]
  },
  {
   "cell_type": "markdown",
   "metadata": {},
   "source": [
    "#### Literal texts with global alphabet"
   ]
  },
  {
   "cell_type": "code",
   "execution_count": 4,
   "metadata": {},
   "outputs": [],
   "source": [
    "languages = ['ar', 'de', 'el', 'en', 'eo', 'fr', 'hi', 'la', 'pl', 'ru', 'sw'] #no chinese"
   ]
  },
  {
   "cell_type": "code",
   "execution_count": 18,
   "metadata": {},
   "outputs": [
    {
     "name": "stderr",
     "output_type": "stream",
     "text": [
      " 92%|█████████▏| 11/12 [00:48<00:09,  9.27s/it]Warning: non-alphabet symbol '新' encountered.\n",
      "All strings containing non-alphabet symbols will be silently ignored.\n",
      "Warning: non-alphabet symbol '新' encountered.\n",
      "All strings containing non-alphabet symbols will be silently ignored.\n",
      "Warning: non-alphabet symbol '新' encountered.\n",
      "All strings containing non-alphabet symbols will be silently ignored.\n",
      "Warning: non-alphabet symbol '双' encountered.\n",
      "All strings containing non-alphabet symbols will be silently ignored.\n",
      "Warning: non-alphabet symbol '双' encountered.\n",
      "All strings containing non-alphabet symbols will be silently ignored.\n",
      "Warning: non-alphabet symbol '双' encountered.\n",
      "All strings containing non-alphabet symbols will be silently ignored.\n",
      "Warning: non-alphabet symbol '新' encountered.\n",
      "All strings containing non-alphabet symbols will be silently ignored.\n",
      "Warning: non-alphabet symbol '新' encountered.\n",
      "All strings containing non-alphabet symbols will be silently ignored.\n",
      "Warning: non-alphabet symbol '新' encountered.\n",
      "All strings containing non-alphabet symbols will be silently ignored.\n",
      "100%|██████████| 12/12 [00:51<00:00,  4.27s/it]\n"
     ]
    }
   ],
   "source": [
    "for lan in tqdm(languages):\n",
    "        for repeat in range(3):\n",
    "            for r in chunks:\n",
    "                result = os.popen(f\"java -Xmx4096m -jar ./assignment/negsel2.jar -alphabet file://alphabets/alphabet.txt -self ./data/eo_{repeat}.train -n 10 -r {r} -c -l -k < ./data/{lan}_{repeat}.test\").read()\n",
    "                with open(f'./results/{lan}_{r}_{repeat}.txt', 'w') as f:\n",
    "                      f.write(result)"
   ]
  },
  {
   "cell_type": "code",
   "execution_count": 11,
   "metadata": {},
   "outputs": [
    {
     "name": "stderr",
     "output_type": "stream",
     "text": [
      "100%|██████████| 2/2 [52:17<00:00, 1568.83s/it]\n"
     ]
    }
   ],
   "source": [
    "#Because of interrupt\n",
    "for lan in tqdm(languages[-2:]):\n",
    "        for repeat in range(3):\n",
    "            for r in chunks:\n",
    "                result = os.popen(f\"java -jar ./assignment/negsel2.jar -alphabet file://alphabets/alphabet.txt -self ./data/eo_{repeat}.train -n 10 -r {r} -c -l < ./data/{lan}_{repeat}.test\").read()\n",
    "                with open(f'./results/{lan}_{r}_{repeat}.txt', 'w') as f:\n",
    "                      f.write(result)"
   ]
  },
  {
   "cell_type": "markdown",
   "metadata": {},
   "source": [
    "#### Literal texts with language specific alphabet"
   ]
  },
  {
   "cell_type": "code",
   "execution_count": 5,
   "metadata": {},
   "outputs": [],
   "source": [
    "languages = ['ar', 'de', 'el', 'en', 'eo', 'fr', 'hi', 'la', 'pl', 'ru', 'sw', 'zh']"
   ]
  },
  {
   "cell_type": "code",
   "execution_count": 6,
   "metadata": {},
   "outputs": [
    {
     "name": "stderr",
     "output_type": "stream",
     "text": [
      "100%|██████████| 11/11 [00:26<00:00,  2.38s/it]\n"
     ]
    }
   ],
   "source": [
    "for lan in tqdm(languages[:-1]):\n",
    "        try: \n",
    "            for repeat in range(3):\n",
    "                for r in chunks:            \n",
    "                    result = os.popen(f\"java -jar ./assignment/negsel2.jar -alphabet file://alphabets/alphabet_{lan}.txt -self ./data/eo_{repeat}.train -n 10 -r {r} -c -l -k < ./data/{lan}_{repeat}.test\").read()\n",
    "                    with open(f'./results/{lan}_{r}_spec_{repeat}.txt', 'w') as f:\n",
    "                        f.write(result)\n",
    "        except Exception as e:\n",
    "            print(f'Error in {lan}')\n",
    "            print(e)\n",
    "            continue"
   ]
  },
  {
   "cell_type": "code",
   "execution_count": 7,
   "metadata": {},
   "outputs": [
    {
     "name": "stderr",
     "output_type": "stream",
     "text": [
      "100%|██████████| 1/1 [00:02<00:00,  2.90s/it]\n"
     ]
    }
   ],
   "source": [
    "#Fix out of Mem for chinese\n",
    "for lan in tqdm(['zh']):\n",
    "        try: \n",
    "            for repeat in range(3):\n",
    "                for r in chunks:            \n",
    "                    result = os.popen(f\"java -Xmx4096m -jar ./assignment/negsel2.jar -alphabet file://alphabets/alphabet_{lan}.txt -self ./data/eo_{repeat}.train -n 10 -r {r} -c -l -k < ./data/{lan}_{repeat}.test\").read()\n",
    "                    with open(f'./results/{lan}_{r}_spec_{repeat}.txt', 'w') as f:\n",
    "                        f.write(result)\n",
    "        except Exception as e:\n",
    "            print(f'Error in {lan}')\n",
    "            print(e)\n",
    "            continue"
   ]
  },
  {
   "attachments": {},
   "cell_type": "markdown",
   "metadata": {},
   "source": [
    "#### Literal texts with test file as alphabet"
   ]
  },
  {
   "cell_type": "code",
   "execution_count": 8,
   "metadata": {},
   "outputs": [
    {
     "name": "stderr",
     "output_type": "stream",
     "text": [
      "  0%|          | 0/12 [00:00<?, ?it/s]Warning: non-alphabet symbol 'ش' encountered.\n",
      "All strings containing non-alphabet symbols will be silently ignored.\n",
      "Warning: non-alphabet symbol 'ش' encountered.\n",
      "All strings containing non-alphabet symbols will be silently ignored.\n",
      "Warning: non-alphabet symbol 'ش' encountered.\n",
      "All strings containing non-alphabet symbols will be silently ignored.\n",
      "Warning: non-alphabet symbol 'ص' encountered.\n",
      "All strings containing non-alphabet symbols will be silently ignored.\n",
      "Warning: non-alphabet symbol 'ص' encountered.\n",
      "All strings containing non-alphabet symbols will be silently ignored.\n",
      "Warning: non-alphabet symbol 'ص' encountered.\n",
      "All strings containing non-alphabet symbols will be silently ignored.\n",
      "Warning: non-alphabet symbol 'م' encountered.\n",
      "All strings containing non-alphabet symbols will be silently ignored.\n",
      "Warning: non-alphabet symbol 'م' encountered.\n",
      "All strings containing non-alphabet symbols will be silently ignored.\n",
      "Warning: non-alphabet symbol 'م' encountered.\n",
      "All strings containing non-alphabet symbols will be silently ignored.\n",
      "  8%|▊         | 1/12 [00:02<00:30,  2.79s/it]Warning: non-alphabet symbol 'ü' encountered.\n",
      "All strings containing non-alphabet symbols will be silently ignored.\n",
      "Warning: non-alphabet symbol 'ü' encountered.\n",
      "All strings containing non-alphabet symbols will be silently ignored.\n",
      "Warning: non-alphabet symbol 'ü' encountered.\n",
      "All strings containing non-alphabet symbols will be silently ignored.\n",
      "Warning: non-alphabet symbol 'ö' encountered.\n",
      "All strings containing non-alphabet symbols will be silently ignored.\n",
      "Warning: non-alphabet symbol 'ö' encountered.\n",
      "All strings containing non-alphabet symbols will be silently ignored.\n",
      "Warning: non-alphabet symbol 'ö' encountered.\n",
      "All strings containing non-alphabet symbols will be silently ignored.\n",
      "Warning: non-alphabet symbol 'ß' encountered.\n",
      "All strings containing non-alphabet symbols will be silently ignored.\n",
      "Warning: non-alphabet symbol 'ß' encountered.\n",
      "All strings containing non-alphabet symbols will be silently ignored.\n",
      "Warning: non-alphabet symbol 'ß' encountered.\n",
      "All strings containing non-alphabet symbols will be silently ignored.\n",
      " 17%|█▋        | 2/12 [00:05<00:27,  2.80s/it]Warning: non-alphabet symbol 'η' encountered.\n",
      "All strings containing non-alphabet symbols will be silently ignored.\n",
      "Warning: non-alphabet symbol 'η' encountered.\n",
      "All strings containing non-alphabet symbols will be silently ignored.\n",
      "Warning: non-alphabet symbol 'η' encountered.\n",
      "All strings containing non-alphabet symbols will be silently ignored.\n",
      "Warning: non-alphabet symbol 'ι' encountered.\n",
      "All strings containing non-alphabet symbols will be silently ignored.\n",
      "Warning: non-alphabet symbol 'ι' encountered.\n",
      "All strings containing non-alphabet symbols will be silently ignored.\n",
      "Warning: non-alphabet symbol 'ι' encountered.\n",
      "All strings containing non-alphabet symbols will be silently ignored.\n",
      "Warning: non-alphabet symbol 'ο' encountered.\n",
      "All strings containing non-alphabet symbols will be silently ignored.\n",
      "Warning: non-alphabet symbol 'ο' encountered.\n",
      "All strings containing non-alphabet symbols will be silently ignored.\n",
      "Warning: non-alphabet symbol 'ο' encountered.\n",
      "All strings containing non-alphabet symbols will be silently ignored.\n",
      " 25%|██▌       | 3/12 [00:08<00:24,  2.76s/it]Warning: non-alphabet symbol ''' encountered.\n",
      "All strings containing non-alphabet symbols will be silently ignored.\n",
      "Warning: non-alphabet symbol ''' encountered.\n",
      "All strings containing non-alphabet symbols will be silently ignored.\n",
      "Warning: non-alphabet symbol ''' encountered.\n",
      "All strings containing non-alphabet symbols will be silently ignored.\n",
      " 33%|███▎      | 4/12 [00:10<00:21,  2.70s/it]Warning: non-alphabet symbol '×' encountered.\n",
      "All strings containing non-alphabet symbols will be silently ignored.\n",
      "Warning: non-alphabet symbol '×' encountered.\n",
      "All strings containing non-alphabet symbols will be silently ignored.\n",
      "Warning: non-alphabet symbol '×' encountered.\n",
      "All strings containing non-alphabet symbols will be silently ignored.\n",
      "Warning: non-alphabet symbol '—' encountered.\n",
      "All strings containing non-alphabet symbols will be silently ignored.\n",
      "Warning: non-alphabet symbol '—' encountered.\n",
      "All strings containing non-alphabet symbols will be silently ignored.\n",
      "Warning: non-alphabet symbol '—' encountered.\n",
      "All strings containing non-alphabet symbols will be silently ignored.\n",
      "Warning: non-alphabet symbol '«' encountered.\n",
      "All strings containing non-alphabet symbols will be silently ignored.\n",
      "Warning: non-alphabet symbol '«' encountered.\n",
      "All strings containing non-alphabet symbols will be silently ignored.\n",
      "Warning: non-alphabet symbol '«' encountered.\n",
      "All strings containing non-alphabet symbols will be silently ignored.\n",
      " 42%|████▏     | 5/12 [00:13<00:18,  2.70s/it]Warning: non-alphabet symbol ''' encountered.\n",
      "All strings containing non-alphabet symbols will be silently ignored.\n",
      "Warning: non-alphabet symbol ''' encountered.\n",
      "All strings containing non-alphabet symbols will be silently ignored.\n",
      "Warning: non-alphabet symbol ''' encountered.\n",
      "All strings containing non-alphabet symbols will be silently ignored.\n",
      "Warning: non-alphabet symbol 'è' encountered.\n",
      "All strings containing non-alphabet symbols will be silently ignored.\n",
      "Warning: non-alphabet symbol 'è' encountered.\n",
      "All strings containing non-alphabet symbols will be silently ignored.\n",
      "Warning: non-alphabet symbol 'è' encountered.\n",
      "All strings containing non-alphabet symbols will be silently ignored.\n",
      "Warning: non-alphabet symbol 'à' encountered.\n",
      "All strings containing non-alphabet symbols will be silently ignored.\n",
      "Warning: non-alphabet symbol 'à' encountered.\n",
      "All strings containing non-alphabet symbols will be silently ignored.\n",
      "Warning: non-alphabet symbol 'à' encountered.\n",
      "All strings containing non-alphabet symbols will be silently ignored.\n",
      " 50%|█████     | 6/12 [00:16<00:16,  2.69s/it]Warning: non-alphabet symbol 'स' encountered.\n",
      "All strings containing non-alphabet symbols will be silently ignored.\n",
      "Warning: non-alphabet symbol 'स' encountered.\n",
      "All strings containing non-alphabet symbols will be silently ignored.\n",
      "Warning: non-alphabet symbol 'स' encountered.\n",
      "All strings containing non-alphabet symbols will be silently ignored.\n",
      "Warning: non-alphabet symbol 'स' encountered.\n",
      "All strings containing non-alphabet symbols will be silently ignored.\n",
      "Warning: non-alphabet symbol 'स' encountered.\n",
      "All strings containing non-alphabet symbols will be silently ignored.\n",
      "Warning: non-alphabet symbol 'स' encountered.\n",
      "All strings containing non-alphabet symbols will be silently ignored.\n",
      "Warning: non-alphabet symbol 'व' encountered.\n",
      "All strings containing non-alphabet symbols will be silently ignored.\n",
      "Warning: non-alphabet symbol 'व' encountered.\n",
      "All strings containing non-alphabet symbols will be silently ignored.\n",
      "Warning: non-alphabet symbol 'व' encountered.\n",
      "All strings containing non-alphabet symbols will be silently ignored.\n",
      " 67%|██████▋   | 8/12 [00:21<00:10,  2.69s/it]Warning: non-alphabet symbol 'ś' encountered.\n",
      "All strings containing non-alphabet symbols will be silently ignored.\n",
      "Warning: non-alphabet symbol 'ś' encountered.\n",
      "All strings containing non-alphabet symbols will be silently ignored.\n",
      "Warning: non-alphabet symbol 'ś' encountered.\n",
      "All strings containing non-alphabet symbols will be silently ignored.\n",
      "Warning: non-alphabet symbol 'ł' encountered.\n",
      "All strings containing non-alphabet symbols will be silently ignored.\n",
      "Warning: non-alphabet symbol 'ł' encountered.\n",
      "All strings containing non-alphabet symbols will be silently ignored.\n",
      "Warning: non-alphabet symbol 'ł' encountered.\n",
      "All strings containing non-alphabet symbols will be silently ignored.\n",
      "Warning: non-alphabet symbol 'ę' encountered.\n",
      "All strings containing non-alphabet symbols will be silently ignored.\n",
      "Warning: non-alphabet symbol 'ę' encountered.\n",
      "All strings containing non-alphabet symbols will be silently ignored.\n",
      "Warning: non-alphabet symbol 'ę' encountered.\n",
      "All strings containing non-alphabet symbols will be silently ignored.\n",
      " 75%|███████▌  | 9/12 [00:24<00:08,  2.70s/it]Warning: non-alphabet symbol 'и' encountered.\n",
      "All strings containing non-alphabet symbols will be silently ignored.\n",
      "Warning: non-alphabet symbol 'и' encountered.\n",
      "All strings containing non-alphabet symbols will be silently ignored.\n",
      "Warning: non-alphabet symbol 'и' encountered.\n",
      "All strings containing non-alphabet symbols will be silently ignored.\n",
      "Warning: non-alphabet symbol 'т' encountered.\n",
      "All strings containing non-alphabet symbols will be silently ignored.\n",
      "Warning: non-alphabet symbol 'т' encountered.\n",
      "All strings containing non-alphabet symbols will be silently ignored.\n",
      "Warning: non-alphabet symbol 'т' encountered.\n",
      "All strings containing non-alphabet symbols will be silently ignored.\n",
      "Warning: non-alphabet symbol 'т' encountered.\n",
      "All strings containing non-alphabet symbols will be silently ignored.\n",
      "Warning: non-alphabet symbol 'т' encountered.\n",
      "All strings containing non-alphabet symbols will be silently ignored.\n",
      "Warning: non-alphabet symbol 'т' encountered.\n",
      "All strings containing non-alphabet symbols will be silently ignored.\n",
      " 83%|████████▎ | 10/12 [00:27<00:05,  2.71s/it]Warning: non-alphabet symbol 'ø' encountered.\n",
      "All strings containing non-alphabet symbols will be silently ignored.\n",
      "Warning: non-alphabet symbol 'ø' encountered.\n",
      "All strings containing non-alphabet symbols will be silently ignored.\n",
      "Warning: non-alphabet symbol 'ø' encountered.\n",
      "All strings containing non-alphabet symbols will be silently ignored.\n",
      " 92%|█████████▏| 11/12 [00:29<00:02,  2.69s/it]Warning: non-alphabet symbol '新' encountered.\n",
      "All strings containing non-alphabet symbols will be silently ignored.\n",
      "Warning: non-alphabet symbol '新' encountered.\n",
      "All strings containing non-alphabet symbols will be silently ignored.\n",
      "Warning: non-alphabet symbol '新' encountered.\n",
      "All strings containing non-alphabet symbols will be silently ignored.\n",
      "Warning: non-alphabet symbol '双' encountered.\n",
      "All strings containing non-alphabet symbols will be silently ignored.\n",
      "Warning: non-alphabet symbol '双' encountered.\n",
      "All strings containing non-alphabet symbols will be silently ignored.\n",
      "Warning: non-alphabet symbol '双' encountered.\n",
      "All strings containing non-alphabet symbols will be silently ignored.\n",
      "Warning: non-alphabet symbol '新' encountered.\n",
      "All strings containing non-alphabet symbols will be silently ignored.\n",
      "Warning: non-alphabet symbol '新' encountered.\n",
      "All strings containing non-alphabet symbols will be silently ignored.\n",
      "Warning: non-alphabet symbol '新' encountered.\n",
      "All strings containing non-alphabet symbols will be silently ignored.\n",
      "100%|██████████| 12/12 [00:32<00:00,  2.71s/it]\n"
     ]
    }
   ],
   "source": [
    "for lan in tqdm(languages):\n",
    "        try: \n",
    "            for repeat in range(3):\n",
    "                for r in chunks:         \n",
    "                    result = os.popen(f\"java -jar ./assignment/negsel2.jar -self ./data/eo_{repeat}.train -n 10 -r {r} -c -l -k < ./data/{lan}_{repeat}.test\").read()\n",
    "                    with open(f'./results/{lan}_{r}_test_{repeat}.txt', 'w') as f:\n",
    "                        f.write(result)\n",
    "        except Exception as e:\n",
    "            print(f'Error in {lan}')\n",
    "            print(e)\n",
    "            continue"
   ]
  },
  {
   "cell_type": "markdown",
   "metadata": {},
   "source": [
    "#### Transliterated texts with global alphabet"
   ]
  },
  {
   "cell_type": "code",
   "execution_count": 9,
   "metadata": {},
   "outputs": [],
   "source": [
    "tlanguages = ['ar', 'el', 'hi', 'ru'] #no chinese"
   ]
  },
  {
   "cell_type": "code",
   "execution_count": 10,
   "metadata": {},
   "outputs": [
    {
     "name": "stderr",
     "output_type": "stream",
     "text": [
      "100%|██████████| 4/4 [00:09<00:00,  2.38s/it]\n"
     ]
    }
   ],
   "source": [
    "for lan in tqdm(tlanguages):\n",
    "        for repeat in range(3):\n",
    "            for r in chunks:\n",
    "                result = os.popen(f\"java -jar ./assignment/negsel2.jar -alphabet file://alphabets/talphabet.txt -self ./data/eo_{repeat}.train -n 10 -r {r} -c -l -k < ./data/{lan}_transl_{repeat}.test\").read()\n",
    "                with open(f'./results/{lan}_{r}_transl_{repeat}.txt', 'w') as f:\n",
    "                      f.write(result)"
   ]
  },
  {
   "cell_type": "markdown",
   "metadata": {},
   "source": [
    "#### Transliterated texts with language specific alphabet"
   ]
  },
  {
   "cell_type": "code",
   "execution_count": 17,
   "metadata": {},
   "outputs": [],
   "source": [
    "tlanguages = ['ar', 'el', 'hi', 'ru', 'zh']"
   ]
  },
  {
   "cell_type": "code",
   "execution_count": 11,
   "metadata": {},
   "outputs": [
    {
     "name": "stderr",
     "output_type": "stream",
     "text": [
      "100%|██████████| 4/4 [00:09<00:00,  2.37s/it]\n"
     ]
    }
   ],
   "source": [
    "for lan in tqdm(tlanguages):\n",
    "        try:\n",
    "            for repeat in range(3):\n",
    "                for r in chunks:         \n",
    "                    result = os.popen(f\"java -jar ./assignment/negsel2.jar -alphabet file://alphabets/alphabet_{lan}_transl.txt -self ./data/eo_{repeat}.train -n 10 -r {r} -c -l -k < ./data/{lan}_transl_{repeat}.test\").read()\n",
    "                    with open(f'./results/{lan}_{r}_transl_spec_{repeat}.txt', 'w') as f:\n",
    "                        f.write(result)\n",
    "        except Exception as e:\n",
    "            print(f'Error in {lan}')\n",
    "            print(e)\n",
    "            continue"
   ]
  },
  {
   "attachments": {},
   "cell_type": "markdown",
   "metadata": {},
   "source": [
    "#### Transliterated text with test file as alphabet"
   ]
  },
  {
   "cell_type": "code",
   "execution_count": 12,
   "metadata": {},
   "outputs": [
    {
     "name": "stderr",
     "output_type": "stream",
     "text": [
      "  0%|          | 0/4 [00:00<?, ?it/s]Warning: non-alphabet symbol 'ẖ' encountered.\n",
      "All strings containing non-alphabet symbols will be silently ignored.\n",
      "Warning: non-alphabet symbol 'ẖ' encountered.\n",
      "All strings containing non-alphabet symbols will be silently ignored.\n",
      "Warning: non-alphabet symbol 'ẖ' encountered.\n",
      "All strings containing non-alphabet symbols will be silently ignored.\n",
      "Warning: non-alphabet symbol 'ā' encountered.\n",
      "All strings containing non-alphabet symbols will be silently ignored.\n",
      "Warning: non-alphabet symbol 'ā' encountered.\n",
      "All strings containing non-alphabet symbols will be silently ignored.\n",
      "Warning: non-alphabet symbol 'ā' encountered.\n",
      "All strings containing non-alphabet symbols will be silently ignored.\n",
      "Warning: non-alphabet symbol 'ã' encountered.\n",
      "All strings containing non-alphabet symbols will be silently ignored.\n",
      "Warning: non-alphabet symbol 'ã' encountered.\n",
      "All strings containing non-alphabet symbols will be silently ignored.\n",
      "Warning: non-alphabet symbol 'ã' encountered.\n",
      "All strings containing non-alphabet symbols will be silently ignored.\n",
      " 25%|██▌       | 1/4 [00:02<00:08,  2.73s/it]Warning: non-alphabet symbol 'ί' encountered.\n",
      "All strings containing non-alphabet symbols will be silently ignored.\n",
      "Warning: non-alphabet symbol 'ί' encountered.\n",
      "All strings containing non-alphabet symbols will be silently ignored.\n",
      "Warning: non-alphabet symbol 'ί' encountered.\n",
      "All strings containing non-alphabet symbols will be silently ignored.\n",
      "Warning: non-alphabet symbol 'ό' encountered.\n",
      "All strings containing non-alphabet symbols will be silently ignored.\n",
      "Warning: non-alphabet symbol 'ό' encountered.\n",
      "All strings containing non-alphabet symbols will be silently ignored.\n",
      "Warning: non-alphabet symbol 'ό' encountered.\n",
      "All strings containing non-alphabet symbols will be silently ignored.\n",
      "Warning: non-alphabet symbol 'ί' encountered.\n",
      "All strings containing non-alphabet symbols will be silently ignored.\n",
      "Warning: non-alphabet symbol 'ί' encountered.\n",
      "All strings containing non-alphabet symbols will be silently ignored.\n",
      "Warning: non-alphabet symbol 'ί' encountered.\n",
      "All strings containing non-alphabet symbols will be silently ignored.\n",
      " 50%|█████     | 2/4 [00:05<00:05,  2.74s/it]Warning: non-alphabet symbol 'ṣ' encountered.\n",
      "All strings containing non-alphabet symbols will be silently ignored.\n",
      "Warning: non-alphabet symbol 'ṣ' encountered.\n",
      "All strings containing non-alphabet symbols will be silently ignored.\n",
      "Warning: non-alphabet symbol 'ṣ' encountered.\n",
      "All strings containing non-alphabet symbols will be silently ignored.\n",
      "Warning: non-alphabet symbol 'ḍ' encountered.\n",
      "All strings containing non-alphabet symbols will be silently ignored.\n",
      "Warning: non-alphabet symbol 'ḍ' encountered.\n",
      "All strings containing non-alphabet symbols will be silently ignored.\n",
      "Warning: non-alphabet symbol 'ḍ' encountered.\n",
      "All strings containing non-alphabet symbols will be silently ignored.\n",
      "Warning: non-alphabet symbol '̆' encountered.\n",
      "All strings containing non-alphabet symbols will be silently ignored.\n",
      "Warning: non-alphabet symbol '̆' encountered.\n",
      "All strings containing non-alphabet symbols will be silently ignored.\n",
      "Warning: non-alphabet symbol '̆' encountered.\n",
      "All strings containing non-alphabet symbols will be silently ignored.\n",
      " 75%|███████▌  | 3/4 [00:08<00:02,  2.76s/it]Warning: non-alphabet symbol 'ʹ' encountered.\n",
      "All strings containing non-alphabet symbols will be silently ignored.\n",
      "Warning: non-alphabet symbol 'ʹ' encountered.\n",
      "All strings containing non-alphabet symbols will be silently ignored.\n",
      "Warning: non-alphabet symbol 'ʹ' encountered.\n",
      "All strings containing non-alphabet symbols will be silently ignored.\n",
      "Warning: non-alphabet symbol 'ʹ' encountered.\n",
      "All strings containing non-alphabet symbols will be silently ignored.\n",
      "Warning: non-alphabet symbol 'ʹ' encountered.\n",
      "All strings containing non-alphabet symbols will be silently ignored.\n",
      "Warning: non-alphabet symbol 'ʹ' encountered.\n",
      "All strings containing non-alphabet symbols will be silently ignored.\n",
      "Warning: non-alphabet symbol 'č' encountered.\n",
      "All strings containing non-alphabet symbols will be silently ignored.\n",
      "Warning: non-alphabet symbol 'č' encountered.\n",
      "All strings containing non-alphabet symbols will be silently ignored.\n",
      "Warning: non-alphabet symbol 'č' encountered.\n",
      "All strings containing non-alphabet symbols will be silently ignored.\n",
      "100%|██████████| 4/4 [00:10<00:00,  2.74s/it]\n"
     ]
    }
   ],
   "source": [
    "for lan in tqdm(tlanguages):\n",
    "        try:\n",
    "            for repeat in range(3):\n",
    "                for r in chunks:         \n",
    "                    result = os.popen(f\"java -jar ./assignment/negsel2.jar -self ./data/eo_{repeat}.train -n 10 -r {r} -c -l -k < ./data/{lan}_transl_{repeat}.test\").read()\n",
    "                    with open(f'./results/{lan}_{r}_transl_test_{repeat}.txt', 'w') as f:\n",
    "                        f.write(result)\n",
    "        except Exception as e:\n",
    "            print(f'Error in {lan}')\n",
    "            print(e)\n",
    "            continue"
   ]
  },
  {
   "attachments": {},
   "cell_type": "markdown",
   "metadata": {},
   "source": [
    "#### Phonetics text with test file as alphabet"
   ]
  },
  {
   "cell_type": "code",
   "execution_count": 13,
   "metadata": {},
   "outputs": [],
   "source": [
    "planguages = ['ar', 'de', 'en', 'eo', 'fr', 'hi', 'pl', 'ru', 'sw', 'zh']\n",
    "# only variant 0, no ligatures"
   ]
  },
  {
   "cell_type": "code",
   "execution_count": 14,
   "metadata": {},
   "outputs": [
    {
     "name": "stderr",
     "output_type": "stream",
     "text": [
      "  0%|          | 0/10 [00:00<?, ?it/s]Warning: non-alphabet symbol 'ة' encountered.\n",
      "All strings containing non-alphabet symbols will be silently ignored.\n",
      "Warning: non-alphabet symbol 'ة' encountered.\n",
      "All strings containing non-alphabet symbols will be silently ignored.\n",
      "Warning: non-alphabet symbol 'ة' encountered.\n",
      "All strings containing non-alphabet symbols will be silently ignored.\n",
      "Warning: non-alphabet symbol 'ː' encountered.\n",
      "All strings containing non-alphabet symbols will be silently ignored.\n",
      "Warning: non-alphabet symbol 'ː' encountered.\n",
      "All strings containing non-alphabet symbols will be silently ignored.\n",
      "Warning: non-alphabet symbol 'ː' encountered.\n",
      "All strings containing non-alphabet symbols will be silently ignored.\n",
      " 10%|█         | 1/10 [00:01<00:16,  1.82s/it]Warning: non-alphabet symbol '.' encountered.\n",
      "All strings containing non-alphabet symbols will be silently ignored.\n",
      "Warning: non-alphabet symbol '.' encountered.\n",
      "All strings containing non-alphabet symbols will be silently ignored.\n",
      "Warning: non-alphabet symbol '.' encountered.\n",
      "All strings containing non-alphabet symbols will be silently ignored.\n",
      "Warning: non-alphabet symbol 'ː' encountered.\n",
      "All strings containing non-alphabet symbols will be silently ignored.\n",
      "Warning: non-alphabet symbol 'ː' encountered.\n",
      "All strings containing non-alphabet symbols will be silently ignored.\n",
      "Warning: non-alphabet symbol 'ː' encountered.\n",
      "All strings containing non-alphabet symbols will be silently ignored.\n",
      " 20%|██        | 2/10 [00:03<00:14,  1.82s/it]Warning: non-alphabet symbol 'ə' encountered.\n",
      "All strings containing non-alphabet symbols will be silently ignored.\n",
      "Warning: non-alphabet symbol 'ə' encountered.\n",
      "All strings containing non-alphabet symbols will be silently ignored.\n",
      "Warning: non-alphabet symbol 'ə' encountered.\n",
      "All strings containing non-alphabet symbols will be silently ignored.\n",
      "Warning: non-alphabet symbol 'ɹ' encountered.\n",
      "All strings containing non-alphabet symbols will be silently ignored.\n",
      "Warning: non-alphabet symbol 'ɹ' encountered.\n",
      "All strings containing non-alphabet symbols will be silently ignored.\n",
      "Warning: non-alphabet symbol 'ɹ' encountered.\n",
      "All strings containing non-alphabet symbols will be silently ignored.\n",
      " 30%|███       | 3/10 [00:05<00:12,  1.82s/it]Warning: non-alphabet symbol '×' encountered.\n",
      "All strings containing non-alphabet symbols will be silently ignored.\n",
      "Warning: non-alphabet symbol '×' encountered.\n",
      "All strings containing non-alphabet symbols will be silently ignored.\n",
      "Warning: non-alphabet symbol '×' encountered.\n",
      "All strings containing non-alphabet symbols will be silently ignored.\n",
      "Warning: non-alphabet symbol '«' encountered.\n",
      "All strings containing non-alphabet symbols will be silently ignored.\n",
      "Warning: non-alphabet symbol '«' encountered.\n",
      "All strings containing non-alphabet symbols will be silently ignored.\n",
      "Warning: non-alphabet symbol '«' encountered.\n",
      "All strings containing non-alphabet symbols will be silently ignored.\n",
      " 40%|████      | 4/10 [00:07<00:10,  1.81s/it]Warning: non-alphabet symbol 'ə' encountered.\n",
      "All strings containing non-alphabet symbols will be silently ignored.\n",
      "Warning: non-alphabet symbol 'ə' encountered.\n",
      "All strings containing non-alphabet symbols will be silently ignored.\n",
      "Warning: non-alphabet symbol 'ə' encountered.\n",
      "All strings containing non-alphabet symbols will be silently ignored.\n",
      "Warning: non-alphabet symbol 'ə' encountered.\n",
      "All strings containing non-alphabet symbols will be silently ignored.\n",
      "Warning: non-alphabet symbol 'ə' encountered.\n",
      "All strings containing non-alphabet symbols will be silently ignored.\n",
      "Warning: non-alphabet symbol 'ə' encountered.\n",
      "All strings containing non-alphabet symbols will be silently ignored.\n",
      " 50%|█████     | 5/10 [00:09<00:09,  1.81s/it]Warning: non-alphabet symbol 'ə' encountered.\n",
      "All strings containing non-alphabet symbols will be silently ignored.\n",
      "Warning: non-alphabet symbol 'ə' encountered.\n",
      "All strings containing non-alphabet symbols will be silently ignored.\n",
      "Warning: non-alphabet symbol 'ə' encountered.\n",
      "All strings containing non-alphabet symbols will be silently ignored.\n",
      "Warning: non-alphabet symbol 'ə' encountered.\n",
      "All strings containing non-alphabet symbols will be silently ignored.\n",
      "Warning: non-alphabet symbol 'ə' encountered.\n",
      "All strings containing non-alphabet symbols will be silently ignored.\n",
      "Warning: non-alphabet symbol 'ə' encountered.\n",
      "All strings containing non-alphabet symbols will be silently ignored.\n",
      " 60%|██████    | 6/10 [00:10<00:07,  1.79s/it]Warning: non-alphabet symbol 'ɛ' encountered.\n",
      "All strings containing non-alphabet symbols will be silently ignored.\n",
      "Warning: non-alphabet symbol 'ɛ' encountered.\n",
      "All strings containing non-alphabet symbols will be silently ignored.\n",
      "Warning: non-alphabet symbol 'ɛ' encountered.\n",
      "All strings containing non-alphabet symbols will be silently ignored.\n",
      "Warning: non-alphabet symbol 'ɔ' encountered.\n",
      "All strings containing non-alphabet symbols will be silently ignored.\n",
      "Warning: non-alphabet symbol 'ɔ' encountered.\n",
      "All strings containing non-alphabet symbols will be silently ignored.\n",
      "Warning: non-alphabet symbol 'ɔ' encountered.\n",
      "All strings containing non-alphabet symbols will be silently ignored.\n",
      " 70%|███████   | 7/10 [00:12<00:05,  1.80s/it]Warning: non-alphabet symbol 'ʲ' encountered.\n",
      "All strings containing non-alphabet symbols will be silently ignored.\n",
      "Warning: non-alphabet symbol 'ʲ' encountered.\n",
      "All strings containing non-alphabet symbols will be silently ignored.\n",
      "Warning: non-alphabet symbol 'ʲ' encountered.\n",
      "All strings containing non-alphabet symbols will be silently ignored.\n",
      "Warning: non-alphabet symbol 'ɨ' encountered.\n",
      "All strings containing non-alphabet symbols will be silently ignored.\n",
      "Warning: non-alphabet symbol 'ɨ' encountered.\n",
      "All strings containing non-alphabet symbols will be silently ignored.\n",
      "Warning: non-alphabet symbol 'ɨ' encountered.\n",
      "All strings containing non-alphabet symbols will be silently ignored.\n",
      " 80%|████████  | 8/10 [00:14<00:03,  1.79s/it]Warning: non-alphabet symbol '.' encountered.\n",
      "All strings containing non-alphabet symbols will be silently ignored.\n",
      "Warning: non-alphabet symbol '.' encountered.\n",
      "All strings containing non-alphabet symbols will be silently ignored.\n",
      "Warning: non-alphabet symbol '.' encountered.\n",
      "All strings containing non-alphabet symbols will be silently ignored.\n",
      "Warning: non-alphabet symbol 'ɾ' encountered.\n",
      "All strings containing non-alphabet symbols will be silently ignored.\n",
      "Warning: non-alphabet symbol 'ɾ' encountered.\n",
      "All strings containing non-alphabet symbols will be silently ignored.\n",
      "Warning: non-alphabet symbol 'ɾ' encountered.\n",
      "All strings containing non-alphabet symbols will be silently ignored.\n",
      " 90%|█████████ | 9/10 [00:16<00:01,  1.81s/it]Warning: non-alphabet symbol 'ɕ' encountered.\n",
      "All strings containing non-alphabet symbols will be silently ignored.\n",
      "Warning: non-alphabet symbol 'ɕ' encountered.\n",
      "All strings containing non-alphabet symbols will be silently ignored.\n",
      "Warning: non-alphabet symbol 'ɕ' encountered.\n",
      "All strings containing non-alphabet symbols will be silently ignored.\n",
      "Warning: non-alphabet symbol 'ɻ' encountered.\n",
      "All strings containing non-alphabet symbols will be silently ignored.\n",
      "Warning: non-alphabet symbol 'ɻ' encountered.\n",
      "All strings containing non-alphabet symbols will be silently ignored.\n",
      "Warning: non-alphabet symbol 'ɻ' encountered.\n",
      "All strings containing non-alphabet symbols will be silently ignored.\n",
      "100%|██████████| 10/10 [00:18<00:00,  1.80s/it]\n"
     ]
    }
   ],
   "source": [
    "#TODO: Need to rerun for repeat == 2 as the train file is corrupted\n",
    "for lan in tqdm(planguages):\n",
    "        try:\n",
    "            for repeat in range(2):\n",
    "                for r in chunks:         \n",
    "                    result = os.popen(f\"java -jar ./assignment/negsel2.jar -self ./data/eo_{repeat}_ipa_0.train -n 10 -r {r} -c -l -k < ./data/{lan}_{repeat}_ipa_0.test\").read()\n",
    "                    with open(f'./results/{lan}_{r}_ipa_test_{repeat}.txt', 'w') as f:\n",
    "                        f.write(result)\n",
    "        except Exception as e:\n",
    "            print(f'Error in {lan}')\n",
    "            print(e)\n",
    "            continue"
   ]
  },
  {
   "attachments": {},
   "cell_type": "markdown",
   "metadata": {},
   "source": [
    "#### Phonetics text with specific alphabet"
   ]
  },
  {
   "cell_type": "code",
   "execution_count": 15,
   "metadata": {},
   "outputs": [
    {
     "name": "stderr",
     "output_type": "stream",
     "text": [
      "100%|██████████| 10/10 [00:15<00:00,  1.58s/it]\n"
     ]
    }
   ],
   "source": [
    "for lan in tqdm(planguages):\n",
    "        try:\n",
    "            for repeat in range(2):\n",
    "                for r in chunks:         \n",
    "                    result = os.popen(f\"java -jar ./assignment/negsel2.jar -alphabet file://alphabets/alphabet_{lan}_ipa.txt -self ./data/eo_{repeat}_ipa_0.train -n 10 -r {r} -c -l -k < ./data/{lan}_{repeat}_ipa_0.test\").read()\n",
    "                    with open(f'./results/{lan}_{r}_ipa_spec_{repeat}.txt', 'w') as f:\n",
    "                        f.write(result)\n",
    "        except Exception as e:\n",
    "            print(f'Error in {lan}')\n",
    "            print(e)\n",
    "            continue"
   ]
  },
  {
   "cell_type": "code",
   "execution_count": 16,
   "metadata": {},
   "outputs": [
    {
     "name": "stderr",
     "output_type": "stream",
     "text": [
      "100%|██████████| 8/8 [1:54:20<00:00, 857.55s/it] \n"
     ]
    }
   ],
   "source": [
    "#Because of interrupt\n",
    "# TODO eo_2_ipa_0.train no lines - find error?\n",
    "for lan in tqdm(planguages[2:]):\n",
    "        try:\n",
    "            for repeat in range(2):\n",
    "                for r in chunks:         \n",
    "                    result = os.popen(f\"java -jar ./assignment/negsel2.jar -alphabet file://alphabets/alphabet_{lan}_ipa.txt -self ./data/eo_{repeat}_ipa_0.train -n 10 -r {r} -c -l < ./data/{lan}_{repeat}_ipa_0.test\").read()\n",
    "                    with open(f'./results/{lan}_{r}_ipa_spec_{repeat}.txt', 'w') as f:\n",
    "                        f.write(result)\n",
    "        except Exception as e:\n",
    "            print(f'Error in {lan}')\n",
    "            print(e)\n",
    "            continue"
   ]
  },
  {
   "attachments": {},
   "cell_type": "markdown",
   "metadata": {},
   "source": [
    "#### Phonetic texts with global alphabet"
   ]
  },
  {
   "cell_type": "code",
   "execution_count": 17,
   "metadata": {},
   "outputs": [
    {
     "name": "stderr",
     "output_type": "stream",
     "text": [
      "100%|██████████| 10/10 [00:15<00:00,  1.57s/it]\n"
     ]
    }
   ],
   "source": [
    "# I AM RUNNING THIS RIGHT NOW\n",
    "for lan in tqdm(planguages):\n",
    "        try:\n",
    "            for repeat in range(2):\n",
    "                for r in chunks:         \n",
    "                    result = os.popen(f\"java -jar ./assignment/negsel2.jar -alphabet file://alphabets/palphabet.txt -self ./data/eo_{repeat}_ipa_0.train -n 10 -r {r} -c -l -k < ./data/{lan}_{repeat}_ipa_0.test\").read()\n",
    "                    with open(f'./results/{lan}_{r}_ipa_{repeat}.txt', 'w') as f:\n",
    "                        f.write(result)\n",
    "        except Exception as e:\n",
    "            print(f'Error in {lan}')\n",
    "            print(e)\n",
    "            continue"
   ]
  },
  {
   "cell_type": "code",
   "execution_count": null,
   "metadata": {},
   "outputs": [],
   "source": []
  }
 ],
 "metadata": {
  "kernelspec": {
   "display_name": "default",
   "language": "python",
   "name": "python3"
  },
  "language_info": {
   "codemirror_mode": {
    "name": "ipython",
    "version": 3
   },
   "file_extension": ".py",
   "mimetype": "text/x-python",
   "name": "python",
   "nbconvert_exporter": "python",
   "pygments_lexer": "ipython3",
   "version": "3.11.2"
  },
  "vscode": {
   "interpreter": {
    "hash": "9eacc2bccd90d4fdc3a9d909f208349a62003e5d547aebb0c1a50feb5083274a"
   }
  }
 },
 "nbformat": 4,
 "nbformat_minor": 2
}
